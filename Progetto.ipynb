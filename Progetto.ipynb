{
  "cells": [
    {
      "cell_type": "markdown",
      "metadata": {
        "id": "view-in-github",
        "colab_type": "text"
      },
      "source": [
        "<a href=\"https://colab.research.google.com/github/matibag1714977/LabiagiProject/blob/main/Progetto.ipynb\" target=\"_parent\"><img src=\"https://colab.research.google.com/assets/colab-badge.svg\" alt=\"Open In Colab\"/></a>"
      ]
    },
    {
      "cell_type": "markdown",
      "metadata": {
        "id": "S1kS8KmI4OEV"
      },
      "source": [
        "# **Progetto-Scene Classification**"
      ]
    },
    {
      "cell_type": "markdown",
      "metadata": {
        "id": "wuLIneGUQ0WZ"
      },
      "source": [
        "#Import vari"
      ]
    },
    {
      "cell_type": "code",
      "execution_count": 2,
      "metadata": {
        "id": "j3iBMU-v4Tl0"
      },
      "outputs": [],
      "source": [
        "import numpy as np      #to perform mathematical operations on arrays and matrices\n",
        "import matplotlib.pyplot as plt  #to visualize images and plot graphs\n",
        "\n",
        "#provides algoithms and tools for data analysis and modeling(classification,regression,clustering)\n",
        "from sklearn.model_selection import train_test_split        \n",
        "from sklearn.metrics import accuracy_score, classification_report, confusion_matrix\n",
        "from sklearn.preprocessing import StandardScaler\n",
        "\n",
        "# It provides various tools and functions for image and video processing, including image filtering, feature detection, and object tracking.\n",
        "import cv2\n",
        "import imghdr\n",
        "import os\n",
        "\n",
        "import torch\n",
        "import torchvision\n",
        "import torchvision.transforms as transforms\n",
        "import tensorflow as tf\n",
        "\n",
        "\n",
        "\n"
      ]
    },
    {
      "cell_type": "markdown",
      "metadata": {
        "id": "375Lbwv8b64g"
      },
      "source": [
        "#Import dataset Prova"
      ]
    },
    {
      "cell_type": "code",
      "execution_count": 3,
      "metadata": {
        "id": "iMJbpe2i4UoR",
        "colab": {
          "base_uri": "https://localhost:8080/"
        },
        "outputId": "1c11fa06-38b1-4701-bf62-f586e6473c37"
      },
      "outputs": [
        {
          "output_type": "stream",
          "name": "stdout",
          "text": [
            "Mounted at /content/gdrive\n",
            "Mounted at /content/gdrive\n"
          ]
        }
      ],
      "source": [
        "from google.colab import drive\n",
        "drive.mount('/content/gdrive')\n",
        "\n",
        "#folder_id = '1pFM_HpOjh0qbAadk0-1Fz89mwLHrnQHB?usp=share_link'\n",
        "folder_id ='1uN5c1p7GkKE9xqQ3DyFbFWfRJQCTod-E?usp=share_link'\n",
        "data_path = '/content/gdrive/MyDrive/Dataset/input_data2'\n",
        "\n",
        "\n",
        "# mount the folder\n",
        "drive.mount('/content/gdrive', force_remount=True)\n",
        "\n",
        "\n"
      ]
    },
    {
      "cell_type": "markdown",
      "source": [
        "Con SUN397"
      ],
      "metadata": {
        "id": "kELggI-KO4g0"
      }
    },
    {
      "cell_type": "code",
      "source": [
        "dataset_dir = '/content/gdrive/MyDrive/Dataset/SUN397'\n",
        "classess = os.listdir(dataset_dir)\n",
        "print(len(classess))\n"
      ],
      "metadata": {
        "colab": {
          "base_uri": "https://localhost:8080/"
        },
        "id": "TGWEwXKeJAPS",
        "outputId": "7154576a-dca7-4cc3-efab-cf53b188d3e3"
      },
      "execution_count": 4,
      "outputs": [
        {
          "output_type": "stream",
          "name": "stdout",
          "text": [
            "276\n"
          ]
        }
      ]
    },
    {
      "cell_type": "markdown",
      "source": [
        "#Dividere tramite Pytorch"
      ],
      "metadata": {
        "id": "IYUmCGVNdu7q"
      }
    },
    {
      "cell_type": "markdown",
      "source": [
        "100 ogni classe"
      ],
      "metadata": {
        "id": "mfK0mI7v3pOC"
      }
    },
    {
      "cell_type": "code",
      "source": [
        "import os\n",
        "import random\n",
        "from torchvision.datasets import ImageFolder\n",
        "from torch.utils.data import Subset\n",
        "import torch\n",
        "import torchvision.datasets as datasets\n",
        "import torchvision.transforms as transforms\n",
        "import torch.utils.data as data\n",
        "\n",
        "# Definire la trasformazione delle immagini\n",
        "transform = transforms.Compose(\n",
        "    [transforms.Resize((224, 224)),transforms.ToTensor(),\n",
        "     transforms.Normalize((0.5, 0.5, 0.5), (0.5, 0.5, 0.5))])\n",
        "\n",
        "# Definire il percorso della cartella contenente le immagini selezionate\n",
        "dataset_path = '/content/gdrive/MyDrive/Dataset/SUN397'\n",
        "\n",
        "# Creare un dataset PyTorch dalla cartella delle immagini selezionate\n",
        "dataset = ImageFolder(dataset_path, transform=transform)\n",
        "classes276 = dataset.classes\n",
        "# Creare un elenco di indici di campioni per ogni classe\n",
        "class_indices = dataset.class_to_idx\n",
        "indices = []\n",
        "for c in class_indices.values():\n",
        "    class_samples = [i for i, (_, label) in enumerate(dataset.samples) if label == c]\n",
        "    indices += random.sample(class_samples, 100)\n",
        "\n",
        "# Creare un Subset di PyTorch dataset contenente solo gli indici selezionati\n",
        "subset = Subset(dataset, indices)\n",
        "b_size=10\n",
        "\n",
        "# Dividere il Subset in train, validation e test set utilizzando random_split\n",
        "train_ratio = 0.8\n",
        "val_ratio = 0.1\n",
        "test_ratio = 0.1\n",
        "train_data = int(len(subset) * train_ratio)\n",
        "val_data = int(len(subset) * val_ratio)\n",
        "test_data = len(subset) - train_data - val_data\n",
        "train_set, val_set, test_set = data.random_split(subset, [train_data, val_data, test_data])\n",
        "\n",
        "train_loader=data.DataLoader(train_set,batch_size=b_size, shuffle=True, num_workers=2)\n",
        "validation_loader=data.DataLoader(val_set,batch_size=b_size, shuffle=False,  num_workers=2)\n",
        "test_loader=data.DataLoader(test_set,batch_size=b_size,shuffle=False, num_workers=2)\n",
        "\n",
        "\n",
        "# Stampa delle dimensioni di ogni set\n",
        "print(f\"Numero di campioni di training: {len(train_set)}\")\n",
        "print(f\"Numero di campioni di validation: {len(val_set)}\")\n",
        "print(f\"Numero di campioni di test: {len(test_set)}\")\n",
        "print(classes276)"
      ],
      "metadata": {
        "id": "UH_0e3Sn2eRD"
      },
      "execution_count": null,
      "outputs": []
    },
    {
      "cell_type": "markdown",
      "source": [
        "Numero immagini in train-set diviso per classi"
      ],
      "metadata": {
        "id": "-Et2E35bWzMw"
      }
    },
    {
      "cell_type": "code",
      "source": [
        "# Conta il numero di campioni per classe nel train set\n",
        "class_count = torch.zeros(len(classes276))\n",
        "for _, label in train_set:\n",
        "    class_count[label] += 1\n",
        "\n",
        "# Stampa il numero di campioni per classe nel train set\n",
        "for i, class_name in enumerate(classes276):\n",
        "    print(f\"{class_name}: {class_count[i]}\")"
      ],
      "metadata": {
        "id": "N6cyQvP2U2mW"
      },
      "execution_count": null,
      "outputs": []
    },
    {
      "cell_type": "markdown",
      "source": [
        "Numero di immagini presenti in test-set diviso per classi"
      ],
      "metadata": {
        "id": "qwedDw4yW5ST"
      }
    },
    {
      "cell_type": "code",
      "source": [],
      "metadata": {
        "id": "OFQ4omxGW9dg"
      },
      "execution_count": null,
      "outputs": []
    },
    {
      "cell_type": "markdown",
      "source": [
        "Tutto"
      ],
      "metadata": {
        "id": "T-jwfIfz3tmd"
      }
    },
    {
      "cell_type": "code",
      "source": [
        "import os\n",
        "import torch\n",
        "import torchvision.datasets as datasets\n",
        "import torchvision.transforms as transforms\n",
        "import torch.utils.data as data\n",
        "\n",
        "# Definisci la trasformazione delle immagini\n",
        "transform = transforms.Compose(\n",
        "    [transforms.Resize((224, 224)),transforms.ToTensor(),\n",
        "     transforms.Normalize((0.5, 0.5, 0.5), (0.5, 0.5, 0.5))])\n",
        "\n",
        "input_path='/content/gdrive/MyDrive/Dataset/SUN397'\n",
        "# Trasforma il dataset\n",
        "dataset = datasets.ImageFolder(input_path, transform=transform)\n",
        "\n",
        "#print(dataset)\n",
        "\n",
        "# Definisci le proporzioni di training, validation e test set\n",
        "train_ratio = 0.80\n",
        "val_ratio = 0.10\n",
        "test_ratio = 0.10\n",
        "\n",
        "b_size=27\n",
        "\n",
        "# Calcola le lunghezze dei subset\n",
        "train_size = int(train_ratio * len(dataset))\n",
        "val_size = int(val_ratio * len(dataset))\n",
        "test_size = len(dataset) - train_size - val_size\n",
        "\n",
        "# Dividi il dataset in training, validation e test set\n",
        "train_data, test_data, val_data = data.random_split(dataset, [train_size, test_size, val_size])\n",
        "\n",
        "train_loader=data.DataLoader(train_data,batch_size=b_size, shuffle=True, num_workers=2)\n",
        "validation_loader=data.DataLoader(val_data,batch_size=b_size, shuffle=True,  num_workers=2)\n",
        "test_loader=data.DataLoader(test_data,batch_size=b_size,shuffle=False, num_workers=2)\n",
        "\n",
        "print(len(train_data))\n",
        "print(len(val_data))\n",
        "print(len(test_data))\n",
        "\n",
        "#classes = ('airport_terminal', 'beach', 'bridge', 'forest',\n",
        "  #         'mountain', 'playground', 'river', 'skyscraper', 'street', 'temple')\n",
        "#classes = ('airport_terminal', 'beach', 'bridge','fire_station', 'forest','formal_garden','fountain','ice_skating','iceberg','lake','market',\n",
        "   #        'mountain', 'playground', 'river','rock_arch','ruin', 'skyscraper', 'street', 'temple','tennis_court')\n",
        "\n",
        "\n",
        "\n",
        "\n"
      ],
      "metadata": {
        "id": "exkgfvDEduUD",
        "colab": {
          "base_uri": "https://localhost:8080/"
        },
        "outputId": "2dfe7d92-decb-45cc-e20f-3f745c8d70f1"
      },
      "execution_count": null,
      "outputs": [
        {
          "output_type": "stream",
          "name": "stdout",
          "text": [
            "63512\n",
            "7939\n",
            "7939\n"
          ]
        }
      ]
    },
    {
      "cell_type": "markdown",
      "source": [
        "#Carico resnet50"
      ],
      "metadata": {
        "id": "gE18143K25BF"
      }
    },
    {
      "cell_type": "code",
      "source": [
        "import torch\n",
        "import torch.nn as nn\n",
        "import torch.optim as optim\n",
        "import torchvision.models as models\n",
        "\n",
        "# Load ResNet50 model\n",
        "resnet50 = models.resnet50(weights=None)\n",
        "\n",
        "\n"
      ],
      "metadata": {
        "id": "IRM685tZ9LUT"
      },
      "execution_count": null,
      "outputs": []
    },
    {
      "cell_type": "markdown",
      "source": [
        "# Prova uso gpu"
      ],
      "metadata": {
        "id": "xGOa5GxR_cRO"
      }
    },
    {
      "cell_type": "code",
      "source": [
        "import torch\n",
        "\n",
        "if torch.cuda.is_available():\n",
        "  device = torch.device(\"cuda\")\n",
        "  print(\"Using GPU:\", torch.cuda.get_device_name(0))\n",
        "else:\n",
        "  device = torch.device(\"cpu\")\n",
        "  print(\"Using CPU\")\n",
        "print(device)\n",
        "\n",
        "# Resnet che corre su device\n",
        "resnet50.to(device)"
      ],
      "metadata": {
        "id": "goUrzNLA2uij"
      },
      "execution_count": null,
      "outputs": []
    },
    {
      "cell_type": "markdown",
      "source": [
        "# Loss e optimizer"
      ],
      "metadata": {
        "id": "slTrTI8E1yrq"
      }
    },
    {
      "cell_type": "code",
      "source": [
        "\n",
        "criterion = nn.CrossEntropyLoss()\n",
        "optimizer = optim.SGD(resnet50.parameters(), lr=0.001, momentum=0.9)\n",
        "#optimizer = optim.Adam(resnet50.parameters(), lr=0.001)"
      ],
      "metadata": {
        "id": "iFPd03VD-fSa"
      },
      "execution_count": null,
      "outputs": []
    },
    {
      "cell_type": "markdown",
      "source": [
        "# Train"
      ],
      "metadata": {
        "id": "XvpIRJcCH_ac"
      }
    },
    {
      "cell_type": "markdown",
      "source": [
        "Inizializzo le liste per raccogliere dati"
      ],
      "metadata": {
        "id": "9sO0aofz8Pbi"
      }
    },
    {
      "cell_type": "code",
      "source": [
        "loss_values = []  # lista vuota per raccogliere i valori della loss function\n",
        "val_loss_values = []"
      ],
      "metadata": {
        "id": "5zxi-Ir88OdH"
      },
      "execution_count": null,
      "outputs": []
    },
    {
      "cell_type": "markdown",
      "source": [
        "# Carico dati"
      ],
      "metadata": {
        "id": "tbPFJDqRHjL2"
      }
    },
    {
      "cell_type": "code",
      "source": [
        "loss_values = np.load('/content/gdrive/MyDrive/Dataset/Test3/loss_Adam_001.npy').tolist()\n",
        "val_loss_values=np.load('/content/gdrive/MyDrive/Dataset/Test3/val_Adam_001.npy').tolist()"
      ],
      "metadata": {
        "id": "d3D7IqrrHjg6"
      },
      "execution_count": null,
      "outputs": []
    },
    {
      "cell_type": "markdown",
      "source": [
        "Definisco validation"
      ],
      "metadata": {
        "id": "U47fJ4LW-sF2"
      }
    },
    {
      "cell_type": "code",
      "source": [
        "def validate(model, criterion, validation_loader):\n",
        "    model.eval()\n",
        "    val_loss = 0.0\n",
        "    with torch.no_grad():\n",
        "        for data in validation_loader:\n",
        "            inputs, labels = data[0].to(device), data[1].to(device)\n",
        "            outputs = model(inputs)\n",
        "            loss = criterion(outputs, labels)\n",
        "            val_loss += loss.item()\n",
        "    return val_loss / len(validation_loader)"
      ],
      "metadata": {
        "id": "3HJpwCv--rfT"
      },
      "execution_count": null,
      "outputs": []
    },
    {
      "cell_type": "markdown",
      "source": [
        "# Training"
      ],
      "metadata": {
        "id": "CVwmWQy5-wht"
      }
    },
    {
      "cell_type": "code",
      "source": [
        "num_epochs=10\n",
        "PATH = '/content/gdrive/MyDrive/Dataset/Test4/001.pth'\n",
        "\n",
        "for epoch in range(num_epochs):  # loop over the dataset multiple times\n",
        "\n",
        "    running_loss = 0.0\n",
        "    for i, data in enumerate(train_loader, 0):\n",
        "        # get the inputs; data is a list of [inputs, labels]\n",
        "        #inputs, labels = data\n",
        "\n",
        "        #mandare inputs e a ogni passo alla gpu\n",
        "        inputs, labels = data[0].to(device), data[1].to(device)\n",
        "        # zero the parameter gradients\n",
        "        optimizer.zero_grad()\n",
        "\n",
        "        # forward + backward + optimize\n",
        "        outputs = resnet50(inputs)\n",
        "        loss = criterion(outputs, labels)\n",
        "        loss.backward()\n",
        "        optimizer.step()\n",
        "\n",
        "        # statistica\n",
        "        running_loss += loss.item()\n",
        "        if i % 200== 199: # ogni 200 batch da b_size immagini\n",
        "            # aggiungi il valore della loss alla lista\n",
        "            loss_values.append(running_loss / 200)\n",
        "            val_loss = validate(resnet50, criterion, validation_loader)\n",
        "            val_loss_values.append(val_loss)\n",
        "            print(f'[{epoch + 1},{i + 1:4d}] loss: {running_loss / 200:.3f} val_loss:{val_loss:.3f}')\n",
        "            running_loss = 0.0\n",
        "            \n",
        "            torch.save(resnet50.state_dict(), PATH)   \n",
        "print('Finished Training')"
      ],
      "metadata": {
        "id": "4ZcAPUB3adBq"
      },
      "execution_count": null,
      "outputs": []
    },
    {
      "cell_type": "code",
      "source": [],
      "metadata": {
        "id": "cOmb6qksDg9z"
      },
      "execution_count": null,
      "outputs": []
    },
    {
      "cell_type": "markdown",
      "source": [
        "# Training con K-Fold-Crossvalidation"
      ],
      "metadata": {
        "id": "Ne4tFKFagGvA"
      }
    },
    {
      "cell_type": "code",
      "source": [
        "from sklearn.model_selection import KFold\n",
        "import os\n",
        "import torch\n",
        "import torchvision.datasets as datasets\n",
        "import torchvision.transforms as transforms\n",
        "import torch.utils.data as data\n",
        "from torch.utils.data.sampler import SubsetRandomSampler\n",
        "\n",
        "# Definisci la trasformazione delle immagini\n",
        "transform = transforms.Compose(\n",
        "    [transforms.Resize((224, 224)),transforms.ToTensor(),\n",
        "     transforms.Normalize((0.5, 0.5, 0.5), (0.5, 0.5, 0.5))])\n",
        "\n",
        "input_path='/content/gdrive/MyDrive/Dataset/SUN397'\n",
        "# Trasforma il dataset\n",
        "dataset = datasets.ImageFolder(input_path, transform=transform)\n",
        "\n",
        "# Definisci le proporzioni di training, validation e test set\n",
        "train_ratio = 0.90\n",
        "test_ratio = 0.10\n",
        "\n",
        "b_size=10\n",
        "\n",
        "# Calcola le lunghezze dei subset\n",
        "train_size = int(train_ratio * len(dataset))\n",
        "test_size = len(dataset) - train_size \n",
        "\n",
        "# Dividi il dataset in training, validation e test set\n",
        "train_dataset, test_data= data.random_split(dataset, [train_size, test_size])"
      ],
      "metadata": {
        "id": "zcpOdD-LjN48"
      },
      "execution_count": null,
      "outputs": []
    },
    {
      "cell_type": "code",
      "source": [
        "# Definisci il numero di fold\n",
        "k = 5\n",
        "kf = KFold(n_splits=k)\n",
        "num_epochs=2\n",
        "\n",
        "\n",
        "# Loop over folds\n",
        "for fold, (train_indices, val_indices) in enumerate(kf.split(train_dataset)):\n",
        "\n",
        "    # Definisci i dataloaders per il train e la validation per il fold corrente\n",
        "    train_sampler = SubsetRandomSampler(train_indices)\n",
        "    val_sampler = SubsetRandomSampler(val_indices)\n",
        "    train_loader = torch.utils.data.DataLoader(train_dataset, batch_size=b_size, sampler=train_sampler)\n",
        "    validation_loader = torch.utils.data.DataLoader(train_dataset, batch_size=b_size, sampler=val_sampler)\n",
        "\n",
        "    # Inizializza il modello e l'ottimizzatore per ogni fold\n",
        "    resnet50 = models.resnet50(weights=None)\n",
        "    resnet50.to(device)\n",
        "    criterion = nn.CrossEntropyLoss()\n",
        "    optimizer = optim.SGD(resnet50.parameters(), lr=0.001, momentum=0.9)\n",
        "\n",
        "    # Loop over epochs per il fold corrente\n",
        "    for epoch in range(num_epochs):\n",
        "        running_loss = 0.0\n",
        "        resnet50.train() # setta il modello in modalità training\n",
        "\n",
        "        # Loop over batches per il fold corrente\n",
        "        for i, data in enumerate(train_loader, 0):\n",
        "            inputs, labels = data[0].to(device), data[1].to(device)\n",
        "            optimizer.zero_grad()\n",
        "            outputs = resnet50(inputs)\n",
        "            loss = criterion(outputs, labels)\n",
        "            loss.backward()\n",
        "            optimizer.step()\n",
        "            running_loss += loss.item()\n",
        "\n",
        "        # Calcola la perdita sul training set per il fold corrente\n",
        "        train_loss = running_loss / len(train_loader)\n",
        "        loss_values.append(train_loss)\n",
        "\n",
        "        # Calcola la perdita sulla validation set per il fold corrente\n",
        "        val_loss = validate(resnet50, criterion, validation_loader)\n",
        "        val_loss_values.append(val_loss)\n",
        "\n",
        "        # Stampa la perdita corrente\n",
        "        print(f\"Fold {fold+1}/{k}, Epoch {epoch+1}/{num_epochs}, Train Loss: {train_loss:.4f}, Validation Loss: {val_loss:.4f}\")\n",
        "\n",
        "    # Salva i pesi del modello per il fold corrente\n",
        "    path = \"/content/drive/MyDrive/Test4/fold\" + str(fold+1) + \".pth\"\n",
        "    torch.save(resnet50.state_dict(), path)\n",
        "\n",
        "print('Finished Training')\n"
      ],
      "metadata": {
        "id": "OEwpJ3mrgGdf"
      },
      "execution_count": null,
      "outputs": []
    },
    {
      "cell_type": "markdown",
      "source": [
        "# Salvo dati"
      ],
      "metadata": {
        "id": "Cjr4X6WDDago"
      }
    },
    {
      "cell_type": "code",
      "source": [
        "np.save('/content/gdrive/MyDrive/Dataset/Test4/loss_SGD_.npy', loss_values)\n",
        "np.save('/content/gdrive/MyDrive/Dataset/Test4/val_SGD_.npy', val_loss_values)"
      ],
      "metadata": {
        "id": "bpMN_tGxDZYn"
      },
      "execution_count": null,
      "outputs": []
    },
    {
      "cell_type": "markdown",
      "source": [
        "# Stampo loss function"
      ],
      "metadata": {
        "id": "utrwg-_J0ndl"
      }
    },
    {
      "cell_type": "code",
      "source": [
        "# creo grafico lineare\n",
        "plt.plot(loss_values)\n",
        "plt.plot(val_loss_values)\n",
        "\n",
        "# titolo e assi\n",
        "plt.title('Loss/Val Function')\n",
        "plt.xlabel('200Batch')\n",
        "plt.ylabel('Loss')\n",
        "\n",
        "plt.legend(['loss','val_loss'],loc='upper right')\n",
        "plt.show()"
      ],
      "metadata": {
        "colab": {
          "base_uri": "https://localhost:8080/",
          "height": 295
        },
        "id": "UgvH06vG0nzQ",
        "outputId": "111d696a-f7fc-47f6-ba9e-a86aab810291"
      },
      "execution_count": null,
      "outputs": [
        {
          "output_type": "display_data",
          "data": {
            "text/plain": [
              "<Figure size 432x288 with 1 Axes>"
            ],
            "image/png": "[encoded data removed]"
          },
          "metadata": {
            "needs_background": "light"
          }
        }
      ]
    },
    {
      "cell_type": "markdown",
      "source": [
        "# Salvo il modello dopo il training"
      ],
      "metadata": {
        "id": "-Yxolou9U1qW"
      }
    },
    {
      "cell_type": "code",
      "source": [
        "PATH = '/content/gdrive/MyDrive/Dataset/Test4/001.pth'\n",
        "torch.save(resnet50.state_dict(), PATH)"
      ],
      "metadata": {
        "id": "xZ2k8dnJUZA5"
      },
      "execution_count": null,
      "outputs": []
    },
    {
      "cell_type": "markdown",
      "source": [
        "# Carico modello salvato precedentemente"
      ],
      "metadata": {
        "id": "3aVgGiqXHMLP"
      }
    },
    {
      "cell_type": "code",
      "source": [
        "resnet50 = models.resnet50(weights=None)\n",
        "PATH = '/content/gdrive/MyDrive/Dataset/2_SGD_001/resnet50lr001.pth'\n",
        "# Carico i pesi salvati precedentemente\n",
        "resnet50.load_state_dict(torch.load(PATH))\n",
        "resnet50.to(device)"
      ],
      "metadata": {
        "id": "1O_wH4PFF9bm"
      },
      "execution_count": null,
      "outputs": []
    },
    {
      "cell_type": "markdown",
      "source": [
        "# Uso modello su test"
      ],
      "metadata": {
        "id": "TBWV-sdyU87w"
      }
    },
    {
      "cell_type": "code",
      "execution_count": null,
      "metadata": {
        "colab": {
          "base_uri": "https://localhost:8080/"
        },
        "id": "_rBlo09ahpRF",
        "outputId": "eb6b4b4e-19ee-46be-ae80-7ab8c7026716"
      },
      "outputs": [
        {
          "output_type": "stream",
          "name": "stdout",
          "text": [
            "Accuracy of the model on the test images: 20.43%\n"
          ]
        }
      ],
      "source": [
        "\n",
        "correct = 0\n",
        "total = 0\n",
        "with torch.no_grad():\n",
        "    for images, labels in test_loader:\n",
        "        images, labels = images.to(device), labels.to(device)\n",
        "        outputs = resnet50(images)\n",
        "        _, predicted = torch.max(outputs.data, 1)\n",
        "        total += labels.size(0)\n",
        "        correct += (predicted == labels).sum().item()\n",
        "    \n",
        "accuracy = 100 * correct / total\n",
        "print('Accuracy of the model on the test images: {:.2f}%'.format(accuracy))"
      ]
    },
    {
      "cell_type": "markdown",
      "source": [
        "#Classi peggiori e migliori"
      ],
      "metadata": {
        "id": "6X7mytwB0FGW"
      }
    },
    {
      "cell_type": "code",
      "source": [
        "# prepare to count predictions for each class\n",
        "correct_pred = {classname: 0 for classname in classes276}\n",
        "total_pred = {classname: 0 for classname in classes276}\n",
        "\n",
        "# again no gradients needed\n",
        "with torch.no_grad():\n",
        "    for data in test_loader:\n",
        "        images, labels = data[0].to(device), data[1].to(device)\n",
        "        outputs = resnet50(images)\n",
        "        _, predictions = torch.max(outputs, 1)\n",
        "        # collect the correct predictions for each class\n",
        "        for label, prediction in zip(labels, predictions):\n",
        "            if label == prediction:\n",
        "                correct_pred[classes276[label]] += 1\n",
        "            total_pred[classes276[label]] += 1\n",
        "\n",
        "\n",
        "# print accuracy for each class in descending order of accuracy\n",
        "for classname, correct_count in sorted(correct_pred.items(), key=lambda x: x[1], reverse=True):\n",
        "    accuracy = 100 * float(correct_count) / total_pred[classname]\n",
        "    print(f'Accuracy for class: {classname:5s} is {accuracy:.1f} %')\n",
        "\n",
        "# calculate overall accuracy\n",
        "total_correct = sum(correct_pred.values())\n",
        "total = sum(total_pred.values())\n",
        "overall_accuracy = 100 * float(total_correct) / total\n",
        "print(f'\\nOverall accuracy is {overall_accuracy:.1f} %')\n"
      ],
      "metadata": {
        "colab": {
          "base_uri": "https://localhost:8080/"
        },
        "id": "nw01na2R0EW9",
        "outputId": "d17b704f-e9a8-4cb9-dd25-bbc8c36d4048"
      },
      "execution_count": null,
      "outputs": [
        {
          "output_type": "stream",
          "name": "stdout",
          "text": [
            "Accuracy for class: bamboo_forest is 81.8 %\n",
            "Accuracy for class: baseball_field is 50.0 %\n",
            "Accuracy for class: driveway is 47.4 %\n",
            "Accuracy for class: arrival_gate is 88.9 %\n",
            "Accuracy for class: bookstore is 87.5 %\n",
            "Accuracy for class: bullring is 70.0 %\n",
            "Accuracy for class: catacomb is 58.3 %\n",
            "Accuracy for class: kindergarden_classroom is 63.6 %\n",
            "Accuracy for class: coast is 50.0 %\n",
            "Accuracy for class: courthouse is 46.2 %\n",
            "Accuracy for class: discotheque is 42.9 %\n",
            "Accuracy for class: elevator_shaft is 40.0 %\n",
            "Accuracy for class: ice_shelf is 54.5 %\n",
            "Accuracy for class: igloo is 66.7 %\n",
            "Accuracy for class: nursery is 46.2 %\n",
            "Accuracy for class: pharmacy is 50.0 %\n",
            "Accuracy for class: raft  is 75.0 %\n",
            "Accuracy for class: sauna is 75.0 %\n",
            "Accuracy for class: ski_resort is 60.0 %\n",
            "Accuracy for class: valley is 54.5 %\n",
            "Accuracy for class: vegetable_garden is 37.5 %\n",
            "Accuracy for class: ball_pit is 71.4 %\n",
            "Accuracy for class: beach is 45.5 %\n",
            "Accuracy for class: bus_interior is 35.7 %\n",
            "Accuracy for class: cockpit is 50.0 %\n",
            "Accuracy for class: dock  is 55.6 %\n",
            "Accuracy for class: formal_garden is 45.5 %\n",
            "Accuracy for class: marsh is 41.7 %\n",
            "Accuracy for class: phone_booth is 41.7 %\n",
            "Accuracy for class: putting_green is 31.2 %\n",
            "Accuracy for class: swamp is 55.6 %\n",
            "Accuracy for class: wheat_field is 71.4 %\n",
            "Accuracy for class: wind_farm is 35.7 %\n",
            "Accuracy for class: airplane_cabin is 33.3 %\n",
            "Accuracy for class: badlands is 33.3 %\n",
            "Accuracy for class: barn  is 40.0 %\n",
            "Accuracy for class: batters_box is 50.0 %\n",
            "Accuracy for class: bayou is 44.4 %\n",
            "Accuracy for class: bowling_alley is 36.4 %\n",
            "Accuracy for class: campsite is 26.7 %\n",
            "Accuracy for class: conference_room is 23.5 %\n",
            "Accuracy for class: dining_car is 33.3 %\n",
            "Accuracy for class: forest_path is 50.0 %\n",
            "Accuracy for class: galley is 66.7 %\n",
            "Accuracy for class: hill  is 50.0 %\n",
            "Accuracy for class: landfill is 33.3 %\n",
            "Accuracy for class: pagoda is 50.0 %\n",
            "Accuracy for class: park  is 33.3 %\n",
            "Accuracy for class: pasture is 50.0 %\n",
            "Accuracy for class: playroom is 66.7 %\n",
            "Accuracy for class: plaza is 40.0 %\n",
            "Accuracy for class: raceway is 44.4 %\n",
            "Accuracy for class: rock_arch is 26.7 %\n",
            "Accuracy for class: rope_bridge is 36.4 %\n",
            "Accuracy for class: sea_cliff is 57.1 %\n",
            "Accuracy for class: shed  is 40.0 %\n",
            "Accuracy for class: ski_slope is 33.3 %\n",
            "Accuracy for class: sky   is 26.7 %\n",
            "Accuracy for class: subway_interior is 33.3 %\n",
            "Accuracy for class: supermarket is 40.0 %\n",
            "Accuracy for class: tower is 33.3 %\n",
            "Accuracy for class: train_railway is 40.0 %\n",
            "Accuracy for class: wave  is 44.4 %\n",
            "Accuracy for class: alley is 42.9 %\n",
            "Accuracy for class: aqueduct is 15.8 %\n",
            "Accuracy for class: corridor is 30.0 %\n",
            "Accuracy for class: cottage_garden is 37.5 %\n",
            "Accuracy for class: dining_room is 25.0 %\n",
            "Accuracy for class: dorm_room is 33.3 %\n",
            "Accuracy for class: fire_station is 30.0 %\n",
            "Accuracy for class: fishpond is 50.0 %\n",
            "Accuracy for class: forest_road is 37.5 %\n",
            "Accuracy for class: hayfield is 37.5 %\n",
            "Accuracy for class: highway is 25.0 %\n",
            "Accuracy for class: music_store is 33.3 %\n",
            "Accuracy for class: oilrig is 42.9 %\n",
            "Accuracy for class: operating_room is 21.4 %\n",
            "Accuracy for class: parlor is 60.0 %\n",
            "Accuracy for class: recreation_room is 37.5 %\n",
            "Accuracy for class: runway is 33.3 %\n",
            "Accuracy for class: skatepark is 33.3 %\n",
            "Accuracy for class: ski_lodge is 30.0 %\n",
            "Accuracy for class: squash_court is 37.5 %\n",
            "Accuracy for class: tree_farm is 27.3 %\n",
            "Accuracy for class: viaduct is 21.4 %\n",
            "Accuracy for class: volcano is 25.0 %\n",
            "Accuracy for class: yard  is 42.9 %\n",
            "Accuracy for class: airport_terminal is 18.2 %\n",
            "Accuracy for class: amusement_arcade is 12.5 %\n",
            "Accuracy for class: amusement_park is 16.7 %\n",
            "Accuracy for class: apartment_building is 25.0 %\n",
            "Accuracy for class: aquarium is 25.0 %\n",
            "Accuracy for class: art_school is 15.4 %\n",
            "Accuracy for class: auditorium is 28.6 %\n",
            "Accuracy for class: basement is 14.3 %\n",
            "Accuracy for class: beauty_salon is 25.0 %\n",
            "Accuracy for class: biology_laboratory is 18.2 %\n",
            "Accuracy for class: boxing_ring is 15.4 %\n",
            "Accuracy for class: bridge is 16.7 %\n",
            "Accuracy for class: butchers_shop is 18.2 %\n",
            "Accuracy for class: butte is 22.2 %\n",
            "Accuracy for class: cafeteria is 20.0 %\n",
            "Accuracy for class: candy_store is 14.3 %\n",
            "Accuracy for class: childs_room is 25.0 %\n",
            "Accuracy for class: classroom is 20.0 %\n",
            "Accuracy for class: clean_room is 25.0 %\n",
            "Accuracy for class: closet is 100.0 %\n",
            "Accuracy for class: computer_room is 22.2 %\n",
            "Accuracy for class: crevasse is 28.6 %\n",
            "Accuracy for class: crosswalk is 16.7 %\n",
            "Accuracy for class: delicatessen is 18.2 %\n",
            "Accuracy for class: drugstore is 20.0 %\n",
            "Accuracy for class: electrical_substation is 25.0 %\n",
            "Accuracy for class: gas_station is 25.0 %\n",
            "Accuracy for class: golf_course is 20.0 %\n",
            "Accuracy for class: hospital is 20.0 %\n",
            "Accuracy for class: hotel_room is 18.2 %\n",
            "Accuracy for class: ice_floe is 22.2 %\n",
            "Accuracy for class: iceberg is 18.2 %\n",
            "Accuracy for class: jail_cell is 22.2 %\n",
            "Accuracy for class: kitchenette is 16.7 %\n",
            "Accuracy for class: lock_chamber is 33.3 %\n",
            "Accuracy for class: manufactured_home is 25.0 %\n",
            "Accuracy for class: motel is 25.0 %\n",
            "Accuracy for class: ocean is 22.2 %\n",
            "Accuracy for class: picnic_area is 16.7 %\n",
            "Accuracy for class: playground is 33.3 %\n",
            "Accuracy for class: pond  is 14.3 %\n",
            "Accuracy for class: riding_arena is 33.3 %\n",
            "Accuracy for class: ruin  is 25.0 %\n",
            "Accuracy for class: sandbox is 16.7 %\n",
            "Accuracy for class: server_room is 20.0 %\n",
            "Accuracy for class: shopfront is 25.0 %\n",
            "Accuracy for class: stable is 13.3 %\n",
            "Accuracy for class: stage is 14.3 %\n",
            "Accuracy for class: street is 33.3 %\n",
            "Accuracy for class: television_studio is 14.3 %\n",
            "Accuracy for class: throne_room is 20.0 %\n",
            "Accuracy for class: tree_house is 20.0 %\n",
            "Accuracy for class: utility_room is 22.2 %\n",
            "Accuracy for class: van_interior is 33.3 %\n",
            "Accuracy for class: veranda is 15.4 %\n",
            "Accuracy for class: veterinarians_office is 25.0 %\n",
            "Accuracy for class: waiting_room is 25.0 %\n",
            "Accuracy for class: anechoic_chamber is 12.5 %\n",
            "Accuracy for class: arch  is 11.1 %\n",
            "Accuracy for class: art_studio is 11.1 %\n",
            "Accuracy for class: assembly_line is 9.1 %\n",
            "Accuracy for class: attic is 11.1 %\n",
            "Accuracy for class: auto_factory is 14.3 %\n",
            "Accuracy for class: banquet_hall is 10.0 %\n",
            "Accuracy for class: barndoor is 12.5 %\n",
            "Accuracy for class: boat_deck is 11.1 %\n",
            "Accuracy for class: canyon is 11.1 %\n",
            "Accuracy for class: carrousel is 25.0 %\n",
            "Accuracy for class: cemetery is 9.1 %\n",
            "Accuracy for class: cheese_factory is 12.5 %\n",
            "Accuracy for class: control_room is 9.1 %\n",
            "Accuracy for class: corn_field is 25.0 %\n",
            "Accuracy for class: courtroom is 12.5 %\n",
            "Accuracy for class: courtyard is 25.0 %\n",
            "Accuracy for class: creek is 12.5 %\n",
            "Accuracy for class: fastfood_restaurant is 7.1 %\n",
            "Accuracy for class: fire_escape is 11.1 %\n",
            "Accuracy for class: garbage_dump is 6.2 %\n",
            "Accuracy for class: harbor is 12.5 %\n",
            "Accuracy for class: heliport is 6.2 %\n",
            "Accuracy for class: herb_garden is 8.3 %\n",
            "Accuracy for class: home_office is 6.7 %\n",
            "Accuracy for class: hot_spring is 33.3 %\n",
            "Accuracy for class: house is 7.7 %\n",
            "Accuracy for class: ice_cream_parlor is 7.1 %\n",
            "Accuracy for class: industrial_area is 10.0 %\n",
            "Accuracy for class: kitchen is 9.1 %\n",
            "Accuracy for class: limousine_interior is 12.5 %\n",
            "Accuracy for class: locker_room is 12.5 %\n",
            "Accuracy for class: mausoleum is 11.1 %\n",
            "Accuracy for class: medina is 16.7 %\n",
            "Accuracy for class: mountain_snowy is 6.7 %\n",
            "Accuracy for class: oast_house is 7.7 %\n",
            "Accuracy for class: orchard is 16.7 %\n",
            "Accuracy for class: palace is 9.1 %\n",
            "Accuracy for class: pantry is 10.0 %\n",
            "Accuracy for class: physics_laboratory is 7.1 %\n",
            "Accuracy for class: promenade_deck is 12.5 %\n",
            "Accuracy for class: pulpit is 11.1 %\n",
            "Accuracy for class: racecourse is 9.1 %\n",
            "Accuracy for class: railroad_track is 12.5 %\n",
            "Accuracy for class: reception is 12.5 %\n",
            "Accuracy for class: rice_paddy is 6.7 %\n",
            "Accuracy for class: river is 16.7 %\n",
            "Accuracy for class: schoolhouse is 8.3 %\n",
            "Accuracy for class: skyscraper is 10.0 %\n",
            "Accuracy for class: staircase is 11.1 %\n",
            "Accuracy for class: thriftshop is 10.0 %\n",
            "Accuracy for class: ticket_booth is 25.0 %\n",
            "Accuracy for class: toll_plaza is 10.0 %\n",
            "Accuracy for class: toyshop is 11.1 %\n",
            "Accuracy for class: trench is 16.7 %\n",
            "Accuracy for class: videostore is 7.7 %\n",
            "Accuracy for class: windmill is 9.1 %\n",
            "Accuracy for class: abbey is 0.0 %\n",
            "Accuracy for class: amphitheater is 0.0 %\n",
            "Accuracy for class: apse  is 0.0 %\n",
            "Accuracy for class: archive is 0.0 %\n",
            "Accuracy for class: art_gallery is 0.0 %\n",
            "Accuracy for class: baggage_claim is 0.0 %\n",
            "Accuracy for class: ballroom is 0.0 %\n",
            "Accuracy for class: bar   is 0.0 %\n",
            "Accuracy for class: basilica is 0.0 %\n",
            "Accuracy for class: bathroom is 0.0 %\n",
            "Accuracy for class: bedroom is 0.0 %\n",
            "Accuracy for class: berth is 0.0 %\n",
            "Accuracy for class: boardwalk is 0.0 %\n",
            "Accuracy for class: boathouse is 0.0 %\n",
            "Accuracy for class: botanical_garden is 0.0 %\n",
            "Accuracy for class: building_facade is 0.0 %\n",
            "Accuracy for class: burial_chamber is 0.0 %\n",
            "Accuracy for class: campus is 0.0 %\n",
            "Accuracy for class: castle is 0.0 %\n",
            "Accuracy for class: chalet is 0.0 %\n",
            "Accuracy for class: chemistry_lab is 0.0 %\n",
            "Accuracy for class: cliff is 0.0 %\n",
            "Accuracy for class: clothing_store is 0.0 %\n",
            "Accuracy for class: coffee_shop is 0.0 %\n",
            "Accuracy for class: conference_center is 0.0 %\n",
            "Accuracy for class: construction_site is 0.0 %\n",
            "Accuracy for class: corral is 0.0 %\n",
            "Accuracy for class: dam   is 0.0 %\n",
            "Accuracy for class: dentists_office is 0.0 %\n",
            "Accuracy for class: engine_room is 0.0 %\n",
            "Accuracy for class: excavation is 0.0 %\n",
            "Accuracy for class: fairway is 0.0 %\n",
            "Accuracy for class: food_court is 0.0 %\n",
            "Accuracy for class: fountain is 0.0 %\n",
            "Accuracy for class: game_room is 0.0 %\n",
            "Accuracy for class: gift_shop is 0.0 %\n",
            "Accuracy for class: gymnasium is 0.0 %\n",
            "Accuracy for class: hospital_room is 0.0 %\n",
            "Accuracy for class: islet is 0.0 %\n",
            "Accuracy for class: jewelry_shop is 0.0 %\n",
            "Accuracy for class: kasbah is 0.0 %\n",
            "Accuracy for class: landing_deck is 0.0 %\n",
            "Accuracy for class: laundromat is 0.0 %\n",
            "Accuracy for class: lecture_room is 0.0 %\n",
            "Accuracy for class: lift_bridge is 0.0 %\n",
            "Accuracy for class: lighthouse is 0.0 %\n",
            "Accuracy for class: living_room is 0.0 %\n",
            "Accuracy for class: lobby is 0.0 %\n",
            "Accuracy for class: mansion is 0.0 %\n",
            "Accuracy for class: martial_arts_gym is 0.0 %\n",
            "Accuracy for class: mountain is 0.0 %\n",
            "Accuracy for class: music_studio is 0.0 %\n",
            "Accuracy for class: office is 0.0 %\n",
            "Accuracy for class: office_building is 0.0 %\n",
            "Accuracy for class: parking_lot is 0.0 %\n",
            "Accuracy for class: patio is 0.0 %\n",
            "Accuracy for class: pavilion is 0.0 %\n",
            "Accuracy for class: rainforest is 0.0 %\n",
            "Accuracy for class: residential_neighborhood is 0.0 %\n",
            "Accuracy for class: restaurant is 0.0 %\n",
            "Accuracy for class: restaurant_kitchen is 0.0 %\n",
            "Accuracy for class: restaurant_patio is 0.0 %\n",
            "Accuracy for class: sandbar is 0.0 %\n",
            "Accuracy for class: shoe_shop is 0.0 %\n",
            "Accuracy for class: shower is 0.0 %\n",
            "Accuracy for class: slum  is 0.0 %\n",
            "Accuracy for class: snowfield is 0.0 %\n",
            "Accuracy for class: sushi_bar is 0.0 %\n",
            "Accuracy for class: topiary_garden is 0.0 %\n",
            "Accuracy for class: village is 0.0 %\n",
            "Accuracy for class: vineyard is 0.0 %\n",
            "Accuracy for class: water_tower is 0.0 %\n",
            "Accuracy for class: watering_hole is 0.0 %\n",
            "Accuracy for class: wet_bar is 0.0 %\n",
            "Accuracy for class: youth_hostel is 0.0 %\n",
            "\n",
            "Overall accuracy is 20.4 %\n"
          ]
        }
      ]
    },
    {
      "cell_type": "markdown",
      "source": [
        "# Test con immagini"
      ],
      "metadata": {
        "id": "qeVSZ8V9GRW7"
      }
    },
    {
      "cell_type": "code",
      "source": [
        "dataiter = iter(test_loader)\n",
        "images, labels = next(dataiter)\n",
        "\n",
        "imshow(torchvision.utils.make_grid(images))\n",
        "print('GroundTruth: ', ' '.join(f'{classes276[labels[j]]:5s}' for j in range(4)))"
      ],
      "metadata": {
        "id": "2MFuRFeHGp1m"
      },
      "execution_count": null,
      "outputs": []
    },
    {
      "cell_type": "code",
      "source": [
        "images = images.to(device)\n",
        "outputs = resnet50(images)\n",
        "_, predicted = torch.max(outputs, 1)\n",
        "\n",
        "print('Predicted: ', ' '.join(f'{classes[predicted[j]]:5s}'\n",
        "                              for j in range(4)))"
      ],
      "metadata": {
        "id": "kWrZND_pGaUn"
      },
      "execution_count": null,
      "outputs": []
    }
  ],
  "metadata": {
    "colab": {
      "provenance": [],
      "collapsed_sections": [
        "Ne4tFKFagGvA"
      ],
      "authorship_tag": "ABX9TyMjJVKZYWgGmD9Pe6lSegq+",
      "include_colab_link": true
    },
    "kernelspec": {
      "display_name": "Python 3",
      "name": "python3"
    },
    "language_info": {
      "name": "python"
    },
    "gpuClass": "standard",
    "accelerator": "GPU"
  },
  "nbformat": 4,
  "nbformat_minor": 0
}