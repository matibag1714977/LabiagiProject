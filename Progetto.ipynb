{
  "cells": [
    {
      "cell_type": "markdown",
      "metadata": {
        "id": "view-in-github",
        "colab_type": "text"
      },
      "source": [
        "<a href=\"https://colab.research.google.com/github/matibag1714977/LabiagiProject/blob/main/Progetto.ipynb\" target=\"_parent\"><img src=\"https://colab.research.google.com/assets/colab-badge.svg\" alt=\"Open In Colab\"/></a>"
      ]
    },
    {
      "cell_type": "markdown",
      "metadata": {
        "id": "S1kS8KmI4OEV"
      },
      "source": [
        "# **Progetto-Scene Classification**"
      ]
    },
    {
      "cell_type": "markdown",
      "metadata": {
        "id": "wuLIneGUQ0WZ"
      },
      "source": [
        "#Import vari"
      ]
    },
    {
      "cell_type": "code",
      "execution_count": 1,
      "metadata": {
        "id": "j3iBMU-v4Tl0"
      },
      "outputs": [],
      "source": [
        "import numpy as np      #to perform mathematical operations on arrays and matrices\n",
        "import matplotlib.pyplot as plt  #to visualize images and plot graphs\n",
        "\n",
        "#provides algoithms and tools for data analysis and modeling(classification,regression,clustering)\n",
        "from sklearn.model_selection import train_test_split        \n",
        "from sklearn.metrics import accuracy_score, classification_report, confusion_matrix\n",
        "from sklearn.preprocessing import StandardScaler\n",
        "\n",
        "# It provides various tools and functions for image and video processing, including image filtering, feature detection, and object tracking.\n",
        "import cv2\n",
        "import imghdr\n",
        "import os\n",
        "\n",
        "import torch\n",
        "import torchvision\n",
        "import torchvision.transforms as transforms\n",
        "import tensorflow as tf\n",
        "\n",
        "\n",
        "\n"
      ]
    },
    {
      "cell_type": "markdown",
      "metadata": {
        "id": "375Lbwv8b64g"
      },
      "source": [
        "#Import dataset Prova"
      ]
    },
    {
      "cell_type": "code",
      "execution_count": 2,
      "metadata": {
        "id": "iMJbpe2i4UoR",
        "colab": {
          "base_uri": "https://localhost:8080/"
        },
        "outputId": "3c005f81-d7c5-4d62-c58c-7e3d9acf3047"
      },
      "outputs": [
        {
          "output_type": "stream",
          "name": "stdout",
          "text": [
            "Mounted at /content/gdrive\n",
            "Mounted at /content/gdrive\n"
          ]
        }
      ],
      "source": [
        "from google.colab import drive\n",
        "drive.mount('/content/gdrive')\n",
        "\n",
        "#folder_id = '1pFM_HpOjh0qbAadk0-1Fz89mwLHrnQHB?usp=share_link'\n",
        "folder_id ='1uN5c1p7GkKE9xqQ3DyFbFWfRJQCTod-E?usp=share_link'\n",
        "data_path = '/content/gdrive/MyDrive/Dataset/input_data2'\n",
        "\n",
        "\n",
        "# mount the folder\n",
        "drive.mount('/content/gdrive', force_remount=True)\n",
        "\n",
        "\n"
      ]
    },
    {
      "cell_type": "markdown",
      "source": [
        "Con SUN397"
      ],
      "metadata": {
        "id": "kELggI-KO4g0"
      }
    },
    {
      "cell_type": "code",
      "source": [
        "dataset_dir = '/content/gdrive/MyDrive/Dataset/SUN397'\n",
        "classess = os.listdir(dataset_dir)\n",
        "print(len(classess))\n"
      ],
      "metadata": {
        "colab": {
          "base_uri": "https://localhost:8080/"
        },
        "id": "TGWEwXKeJAPS",
        "outputId": "2407cdca-8155-4a0d-fe35-e74f997dd631"
      },
      "execution_count": 3,
      "outputs": [
        {
          "output_type": "stream",
          "name": "stdout",
          "text": [
            "276\n"
          ]
        }
      ]
    },
    {
      "cell_type": "markdown",
      "source": [
        "#Dividere tramite Pytorch"
      ],
      "metadata": {
        "id": "IYUmCGVNdu7q"
      }
    },
    {
      "cell_type": "markdown",
      "source": [
        "100 ogni classe"
      ],
      "metadata": {
        "id": "mfK0mI7v3pOC"
      }
    },
    {
      "cell_type": "code",
      "source": [
        "import os\n",
        "import random\n",
        "from torchvision.datasets import ImageFolder\n",
        "from torch.utils.data import Subset\n",
        "import torch\n",
        "import torchvision.datasets as datasets\n",
        "import torchvision.transforms as transforms\n",
        "import torch.utils.data as data\n",
        "\n",
        "# Definire la trasformazione delle immagini\n",
        "transform = transforms.Compose(\n",
        "    [transforms.Resize((224, 224)),transforms.ToTensor(),\n",
        "     transforms.Normalize((0.5, 0.5, 0.5), (0.5, 0.5, 0.5))])\n",
        "\n",
        "# Definire il percorso della cartella contenente le immagini selezionate\n",
        "dataset_path = '/content/gdrive/MyDrive/Dataset/SUN397'\n",
        "\n",
        "# Creare un dataset PyTorch dalla cartella delle immagini selezionate\n",
        "dataset = ImageFolder(dataset_path, transform=transform)\n",
        "classes276 = dataset.classes\n",
        "# Creare un elenco di indici di campioni per ogni classe\n",
        "class_indices = dataset.class_to_idx\n",
        "indices = []\n",
        "for c in class_indices.values():\n",
        "    class_samples = [i for i, (_, label) in enumerate(dataset.samples) if label == c]\n",
        "    indices += random.sample(class_samples, 100)\n",
        "\n",
        "# Creare un Subset di PyTorch dataset contenente solo gli indici selezionati\n",
        "subset = Subset(dataset, indices)\n",
        "b_size=10\n",
        "\n",
        "# Dividere il Subset in train, validation e test set utilizzando random_split\n",
        "train_ratio = 0.8\n",
        "val_ratio = 0.1\n",
        "test_ratio = 0.1\n",
        "train_data = int(len(subset) * train_ratio)\n",
        "val_data = int(len(subset) * val_ratio)\n",
        "test_data = len(subset) - train_data - val_data\n",
        "train_set, val_set, test_set = data.random_split(subset, [train_data, val_data, test_data])\n",
        "\n",
        "train_loader=data.DataLoader(train_set,batch_size=b_size, shuffle=True, num_workers=2)\n",
        "validation_loader=data.DataLoader(val_set,batch_size=b_size, shuffle=False,  num_workers=2)\n",
        "test_loader=data.DataLoader(test_set,batch_size=b_size,shuffle=False, num_workers=2)\n",
        "\n",
        "\n",
        "# Stampa delle dimensioni di ogni set\n",
        "print(f\"Numero di campioni di training: {len(train_set)}\")\n",
        "print(f\"Numero di campioni di validation: {len(val_set)}\")\n",
        "print(f\"Numero di campioni di test: {len(test_set)}\")\n",
        "print(classes276)"
      ],
      "metadata": {
        "id": "UH_0e3Sn2eRD"
      },
      "execution_count": null,
      "outputs": []
    },
    {
      "cell_type": "markdown",
      "source": [
        "#100 ogni classe bilanciato 80 train, 10 test e 10 validation"
      ],
      "metadata": {
        "id": "jqvC9n2L2AHD"
      }
    },
    {
      "cell_type": "code",
      "source": [
        "from sklearn.model_selection import train_test_split\n",
        "import os\n",
        "import random\n",
        "from torchvision.datasets import ImageFolder\n",
        "from torch.utils.data import Subset\n",
        "import torch\n",
        "import torchvision.datasets as datasets\n",
        "import torchvision.transforms as transforms\n",
        "import torch.utils.data as data\n",
        "from torch.utils.data import Dataset\n",
        "\n",
        "\n",
        "transform = transforms.Compose(\n",
        "    [transforms.Resize((224, 224)),transforms.ToTensor(),\n",
        "     transforms.Normalize((0.5, 0.5, 0.5), (0.5, 0.5, 0.5))])\n",
        "\n",
        "# Definire il percorso della cartella contenente le immagini selezionate\n",
        "dataset_path = '/content/gdrive/MyDrive/Dataset/SUN397'\n",
        "b_size=10\n",
        "# Creare un dataset PyTorch dalla cartella delle immagini selezionate\n",
        "dataset = ImageFolder(dataset_path, transform=transform)\n",
        "classes276 = dataset.classes\n",
        "\n",
        "train_indices = []\n",
        "valid_indices = []\n",
        "test_indices = []\n",
        "\n",
        "for c in classes276:\n",
        "    class_samples = [i for i, (_, label) in enumerate(dataset.samples) if label == dataset.class_to_idx[c]]\n",
        "    train_indices += class_samples[:80]\n",
        "    valid_indices += class_samples[80:90]\n",
        "    test_indices += class_samples[90:100]\n",
        "\n",
        "train_sampler = torch.utils.data.SubsetRandomSampler(train_indices)\n",
        "valid_sampler = torch.utils.data.SubsetRandomSampler(valid_indices)\n",
        "test_sampler = torch.utils.data.SubsetRandomSampler(test_indices)\n",
        "\n",
        "# Creazione dei data loader per caricare i dati in batch\n",
        "batch_size = 10\n",
        "train_loader = torch.utils.data.DataLoader(dataset, batch_size=batch_size, sampler=train_sampler)\n",
        "valid_loader = torch.utils.data.DataLoader(dataset, batch_size=batch_size, sampler=valid_sampler)\n",
        "test_loader = torch.utils.data.DataLoader(dataset, batch_size=batch_size, sampler=test_sampler)\n",
        "\n",
        "# Stampa delle dimensioni di ogni set\n",
        "print(f\"Numero di campioni di training: {len(train_sampler)}\")\n",
        "print(f\"Numero di campioni di validation: {len(valid_sampler)}\")\n",
        "print(f\"Numero di campioni di test: {len(test_sampler)}\")\n",
        "print(classes276)\n",
        "\n",
        "\n",
        "\n"
      ],
      "metadata": {
        "colab": {
          "base_uri": "https://localhost:8080/"
        },
        "id": "JXENAS-x1_1d",
        "outputId": "9ceb0c64-49ce-4823-9a45-d8731b57fe5c"
      },
      "execution_count": 55,
      "outputs": [
        {
          "output_type": "stream",
          "name": "stdout",
          "text": [
            "Numero di campioni di training: 22080\n",
            "Numero di campioni di validation: 2760\n",
            "Numero di campioni di test: 2760\n",
            "['abbey', 'airplane_cabin', 'airport_terminal', 'alley', 'amphitheater', 'amusement_arcade', 'amusement_park', 'anechoic_chamber', 'apartment_building', 'apse', 'aquarium', 'aqueduct', 'arch', 'archive', 'arrival_gate', 'art_gallery', 'art_school', 'art_studio', 'assembly_line', 'attic', 'auditorium', 'auto_factory', 'badlands', 'baggage_claim', 'ball_pit', 'ballroom', 'bamboo_forest', 'banquet_hall', 'bar', 'barn', 'barndoor', 'baseball_field', 'basement', 'basilica', 'bathroom', 'batters_box', 'bayou', 'beach', 'beauty_salon', 'bedroom', 'berth', 'biology_laboratory', 'boardwalk', 'boat_deck', 'boathouse', 'bookstore', 'botanical_garden', 'bowling_alley', 'boxing_ring', 'bridge', 'building_facade', 'bullring', 'burial_chamber', 'bus_interior', 'butchers_shop', 'butte', 'cafeteria', 'campsite', 'campus', 'candy_store', 'canyon', 'carrousel', 'castle', 'catacomb', 'cemetery', 'chalet', 'cheese_factory', 'chemistry_lab', 'childs_room', 'classroom', 'clean_room', 'cliff', 'closet', 'clothing_store', 'coast', 'cockpit', 'coffee_shop', 'computer_room', 'conference_center', 'conference_room', 'construction_site', 'control_room', 'corn_field', 'corral', 'corridor', 'cottage_garden', 'courthouse', 'courtroom', 'courtyard', 'creek', 'crevasse', 'crosswalk', 'dam', 'delicatessen', 'dentists_office', 'dining_car', 'dining_room', 'discotheque', 'dock', 'dorm_room', 'driveway', 'drugstore', 'electrical_substation', 'elevator_shaft', 'engine_room', 'excavation', 'fairway', 'fastfood_restaurant', 'fire_escape', 'fire_station', 'fishpond', 'food_court', 'forest_path', 'forest_road', 'formal_garden', 'fountain', 'galley', 'game_room', 'garbage_dump', 'gas_station', 'gift_shop', 'golf_course', 'gymnasium', 'harbor', 'hayfield', 'heliport', 'herb_garden', 'highway', 'hill', 'home_office', 'hospital', 'hospital_room', 'hot_spring', 'hotel_room', 'house', 'ice_cream_parlor', 'ice_floe', 'ice_shelf', 'iceberg', 'igloo', 'industrial_area', 'islet', 'jail_cell', 'jewelry_shop', 'kasbah', 'kindergarden_classroom', 'kitchen', 'kitchenette', 'landfill', 'landing_deck', 'laundromat', 'lecture_room', 'lift_bridge', 'lighthouse', 'limousine_interior', 'living_room', 'lobby', 'lock_chamber', 'locker_room', 'mansion', 'manufactured_home', 'marsh', 'martial_arts_gym', 'mausoleum', 'medina', 'motel', 'mountain', 'mountain_snowy', 'music_store', 'music_studio', 'nursery', 'oast_house', 'ocean', 'office', 'office_building', 'oilrig', 'operating_room', 'orchard', 'pagoda', 'palace', 'pantry', 'park', 'parking_lot', 'parlor', 'pasture', 'patio', 'pavilion', 'pharmacy', 'phone_booth', 'physics_laboratory', 'picnic_area', 'playground', 'playroom', 'plaza', 'pond', 'promenade_deck', 'pulpit', 'putting_green', 'racecourse', 'raceway', 'raft', 'railroad_track', 'rainforest', 'reception', 'recreation_room', 'residential_neighborhood', 'restaurant', 'restaurant_kitchen', 'restaurant_patio', 'rice_paddy', 'riding_arena', 'river', 'rock_arch', 'rope_bridge', 'ruin', 'runway', 'sandbar', 'sandbox', 'sauna', 'schoolhouse', 'sea_cliff', 'server_room', 'shed', 'shoe_shop', 'shopfront', 'shower', 'skatepark', 'ski_lodge', 'ski_resort', 'ski_slope', 'sky', 'skyscraper', 'slum', 'snowfield', 'squash_court', 'stable', 'stage', 'staircase', 'street', 'subway_interior', 'supermarket', 'sushi_bar', 'swamp', 'television_studio', 'thriftshop', 'throne_room', 'ticket_booth', 'toll_plaza', 'topiary_garden', 'tower', 'toyshop', 'train_railway', 'tree_farm', 'tree_house', 'trench', 'utility_room', 'valley', 'van_interior', 'vegetable_garden', 'veranda', 'veterinarians_office', 'viaduct', 'videostore', 'village', 'vineyard', 'volcano', 'waiting_room', 'water_tower', 'watering_hole', 'wave', 'wet_bar', 'wheat_field', 'wind_farm', 'windmill', 'yard', 'youth_hostel']\n"
          ]
        }
      ]
    },
    {
      "cell_type": "markdown",
      "source": [
        "Numero immagini in train-set diviso per classi"
      ],
      "metadata": {
        "id": "-Et2E35bWzMw"
      }
    },
    {
      "cell_type": "code",
      "source": [
        "# Calcola il numero di immagini per classe nel train_sampler\n",
        "class_counts = torch.zeros(len(classes276))\n",
        "for idx in train_sampler.indices:\n",
        "    _, label = dataset.samples[idx]\n",
        "    class_counts[label] += 1\n",
        "contatore=0\n",
        "# Stampa il numero di immagini per classe\n",
        "for i, c in enumerate(classes276):\n",
        "    contatore+=1\n",
        "    print(f\"{contatore }\\t{c}: {int(class_counts[i])}\")\n"
      ],
      "metadata": {
        "colab": {
          "base_uri": "https://localhost:8080/"
        },
        "id": "FZFTRLD-qu8T",
        "outputId": "53336ccb-9d54-4458-e120-593bdc983e44"
      },
      "execution_count": 59,
      "outputs": [
        {
          "output_type": "stream",
          "name": "stdout",
          "text": [
            "1\tabbey: 80\n",
            "2\tairplane_cabin: 80\n",
            "3\tairport_terminal: 80\n",
            "4\talley: 80\n",
            "5\tamphitheater: 80\n",
            "6\tamusement_arcade: 80\n",
            "7\tamusement_park: 80\n",
            "8\tanechoic_chamber: 80\n",
            "9\tapartment_building: 80\n",
            "10\tapse: 80\n",
            "11\taquarium: 80\n",
            "12\taqueduct: 80\n",
            "13\tarch: 80\n",
            "14\tarchive: 80\n",
            "15\tarrival_gate: 80\n",
            "16\tart_gallery: 80\n",
            "17\tart_school: 80\n",
            "18\tart_studio: 80\n",
            "19\tassembly_line: 80\n",
            "20\tattic: 80\n",
            "21\tauditorium: 80\n",
            "22\tauto_factory: 80\n",
            "23\tbadlands: 80\n",
            "24\tbaggage_claim: 80\n",
            "25\tball_pit: 80\n",
            "26\tballroom: 80\n",
            "27\tbamboo_forest: 80\n",
            "28\tbanquet_hall: 80\n",
            "29\tbar: 80\n",
            "30\tbarn: 80\n",
            "31\tbarndoor: 80\n",
            "32\tbaseball_field: 80\n",
            "33\tbasement: 80\n",
            "34\tbasilica: 80\n",
            "35\tbathroom: 80\n",
            "36\tbatters_box: 80\n",
            "37\tbayou: 80\n",
            "38\tbeach: 80\n",
            "39\tbeauty_salon: 80\n",
            "40\tbedroom: 80\n",
            "41\tberth: 80\n",
            "42\tbiology_laboratory: 80\n",
            "43\tboardwalk: 80\n",
            "44\tboat_deck: 80\n",
            "45\tboathouse: 80\n",
            "46\tbookstore: 80\n",
            "47\tbotanical_garden: 80\n",
            "48\tbowling_alley: 80\n",
            "49\tboxing_ring: 80\n",
            "50\tbridge: 80\n",
            "51\tbuilding_facade: 80\n",
            "52\tbullring: 80\n",
            "53\tburial_chamber: 80\n",
            "54\tbus_interior: 80\n",
            "55\tbutchers_shop: 80\n",
            "56\tbutte: 80\n",
            "57\tcafeteria: 80\n",
            "58\tcampsite: 80\n",
            "59\tcampus: 80\n",
            "60\tcandy_store: 80\n",
            "61\tcanyon: 80\n",
            "62\tcarrousel: 80\n",
            "63\tcastle: 80\n",
            "64\tcatacomb: 80\n",
            "65\tcemetery: 80\n",
            "66\tchalet: 80\n",
            "67\tcheese_factory: 80\n",
            "68\tchemistry_lab: 80\n",
            "69\tchilds_room: 80\n",
            "70\tclassroom: 80\n",
            "71\tclean_room: 80\n",
            "72\tcliff: 80\n",
            "73\tcloset: 80\n",
            "74\tclothing_store: 80\n",
            "75\tcoast: 80\n",
            "76\tcockpit: 80\n",
            "77\tcoffee_shop: 80\n",
            "78\tcomputer_room: 80\n",
            "79\tconference_center: 80\n",
            "80\tconference_room: 80\n",
            "81\tconstruction_site: 80\n",
            "82\tcontrol_room: 80\n",
            "83\tcorn_field: 80\n",
            "84\tcorral: 80\n",
            "85\tcorridor: 80\n",
            "86\tcottage_garden: 80\n",
            "87\tcourthouse: 80\n",
            "88\tcourtroom: 80\n",
            "89\tcourtyard: 80\n",
            "90\tcreek: 80\n",
            "91\tcrevasse: 80\n",
            "92\tcrosswalk: 80\n",
            "93\tdam: 80\n",
            "94\tdelicatessen: 80\n",
            "95\tdentists_office: 80\n",
            "96\tdining_car: 80\n",
            "97\tdining_room: 80\n",
            "98\tdiscotheque: 80\n",
            "99\tdock: 80\n",
            "100\tdorm_room: 80\n",
            "101\tdriveway: 80\n",
            "102\tdrugstore: 80\n",
            "103\telectrical_substation: 80\n",
            "104\televator_shaft: 80\n",
            "105\tengine_room: 80\n",
            "106\texcavation: 80\n",
            "107\tfairway: 80\n",
            "108\tfastfood_restaurant: 80\n",
            "109\tfire_escape: 80\n",
            "110\tfire_station: 80\n",
            "111\tfishpond: 80\n",
            "112\tfood_court: 80\n",
            "113\tforest_path: 80\n",
            "114\tforest_road: 80\n",
            "115\tformal_garden: 80\n",
            "116\tfountain: 80\n",
            "117\tgalley: 80\n",
            "118\tgame_room: 80\n",
            "119\tgarbage_dump: 80\n",
            "120\tgas_station: 80\n",
            "121\tgift_shop: 80\n",
            "122\tgolf_course: 80\n",
            "123\tgymnasium: 80\n",
            "124\tharbor: 80\n",
            "125\thayfield: 80\n",
            "126\theliport: 80\n",
            "127\therb_garden: 80\n",
            "128\thighway: 80\n",
            "129\thill: 80\n",
            "130\thome_office: 80\n",
            "131\thospital: 80\n",
            "132\thospital_room: 80\n",
            "133\thot_spring: 80\n",
            "134\thotel_room: 80\n",
            "135\thouse: 80\n",
            "136\tice_cream_parlor: 80\n",
            "137\tice_floe: 80\n",
            "138\tice_shelf: 80\n",
            "139\ticeberg: 80\n",
            "140\tigloo: 80\n",
            "141\tindustrial_area: 80\n",
            "142\tislet: 80\n",
            "143\tjail_cell: 80\n",
            "144\tjewelry_shop: 80\n",
            "145\tkasbah: 80\n",
            "146\tkindergarden_classroom: 80\n",
            "147\tkitchen: 80\n",
            "148\tkitchenette: 80\n",
            "149\tlandfill: 80\n",
            "150\tlanding_deck: 80\n",
            "151\tlaundromat: 80\n",
            "152\tlecture_room: 80\n",
            "153\tlift_bridge: 80\n",
            "154\tlighthouse: 80\n",
            "155\tlimousine_interior: 80\n",
            "156\tliving_room: 80\n",
            "157\tlobby: 80\n",
            "158\tlock_chamber: 80\n",
            "159\tlocker_room: 80\n",
            "160\tmansion: 80\n",
            "161\tmanufactured_home: 80\n",
            "162\tmarsh: 80\n",
            "163\tmartial_arts_gym: 80\n",
            "164\tmausoleum: 80\n",
            "165\tmedina: 80\n",
            "166\tmotel: 80\n",
            "167\tmountain: 80\n",
            "168\tmountain_snowy: 80\n",
            "169\tmusic_store: 80\n",
            "170\tmusic_studio: 80\n",
            "171\tnursery: 80\n",
            "172\toast_house: 80\n",
            "173\tocean: 80\n",
            "174\toffice: 80\n",
            "175\toffice_building: 80\n",
            "176\toilrig: 80\n",
            "177\toperating_room: 80\n",
            "178\torchard: 80\n",
            "179\tpagoda: 80\n",
            "180\tpalace: 80\n",
            "181\tpantry: 80\n",
            "182\tpark: 80\n",
            "183\tparking_lot: 80\n",
            "184\tparlor: 80\n",
            "185\tpasture: 80\n",
            "186\tpatio: 80\n",
            "187\tpavilion: 80\n",
            "188\tpharmacy: 80\n",
            "189\tphone_booth: 80\n",
            "190\tphysics_laboratory: 80\n",
            "191\tpicnic_area: 80\n",
            "192\tplayground: 80\n",
            "193\tplayroom: 80\n",
            "194\tplaza: 80\n",
            "195\tpond: 80\n",
            "196\tpromenade_deck: 80\n",
            "197\tpulpit: 80\n",
            "198\tputting_green: 80\n",
            "199\tracecourse: 80\n",
            "200\traceway: 80\n",
            "201\traft: 80\n",
            "202\trailroad_track: 80\n",
            "203\trainforest: 80\n",
            "204\treception: 80\n",
            "205\trecreation_room: 80\n",
            "206\tresidential_neighborhood: 80\n",
            "207\trestaurant: 80\n",
            "208\trestaurant_kitchen: 80\n",
            "209\trestaurant_patio: 80\n",
            "210\trice_paddy: 80\n",
            "211\triding_arena: 80\n",
            "212\triver: 80\n",
            "213\trock_arch: 80\n",
            "214\trope_bridge: 80\n",
            "215\truin: 80\n",
            "216\trunway: 80\n",
            "217\tsandbar: 80\n",
            "218\tsandbox: 80\n",
            "219\tsauna: 80\n",
            "220\tschoolhouse: 80\n",
            "221\tsea_cliff: 80\n",
            "222\tserver_room: 80\n",
            "223\tshed: 80\n",
            "224\tshoe_shop: 80\n",
            "225\tshopfront: 80\n",
            "226\tshower: 80\n",
            "227\tskatepark: 80\n",
            "228\tski_lodge: 80\n",
            "229\tski_resort: 80\n",
            "230\tski_slope: 80\n",
            "231\tsky: 80\n",
            "232\tskyscraper: 80\n",
            "233\tslum: 80\n",
            "234\tsnowfield: 80\n",
            "235\tsquash_court: 80\n",
            "236\tstable: 80\n",
            "237\tstage: 80\n",
            "238\tstaircase: 80\n",
            "239\tstreet: 80\n",
            "240\tsubway_interior: 80\n",
            "241\tsupermarket: 80\n",
            "242\tsushi_bar: 80\n",
            "243\tswamp: 80\n",
            "244\ttelevision_studio: 80\n",
            "245\tthriftshop: 80\n",
            "246\tthrone_room: 80\n",
            "247\tticket_booth: 80\n",
            "248\ttoll_plaza: 80\n",
            "249\ttopiary_garden: 80\n",
            "250\ttower: 80\n",
            "251\ttoyshop: 80\n",
            "252\ttrain_railway: 80\n",
            "253\ttree_farm: 80\n",
            "254\ttree_house: 80\n",
            "255\ttrench: 80\n",
            "256\tutility_room: 80\n",
            "257\tvalley: 80\n",
            "258\tvan_interior: 80\n",
            "259\tvegetable_garden: 80\n",
            "260\tveranda: 80\n",
            "261\tveterinarians_office: 80\n",
            "262\tviaduct: 80\n",
            "263\tvideostore: 80\n",
            "264\tvillage: 80\n",
            "265\tvineyard: 80\n",
            "266\tvolcano: 80\n",
            "267\twaiting_room: 80\n",
            "268\twater_tower: 80\n",
            "269\twatering_hole: 80\n",
            "270\twave: 80\n",
            "271\twet_bar: 80\n",
            "272\twheat_field: 80\n",
            "273\twind_farm: 80\n",
            "274\twindmill: 80\n",
            "275\tyard: 80\n",
            "276\tyouth_hostel: 80\n"
          ]
        }
      ]
    },
    {
      "cell_type": "markdown",
      "source": [
        "#Carico resnet50"
      ],
      "metadata": {
        "id": "gE18143K25BF"
      }
    },
    {
      "cell_type": "code",
      "source": [
        "import torch\n",
        "import torch.nn as nn\n",
        "import torch.optim as optim\n",
        "import torchvision.models as models\n",
        "\n",
        "# Load ResNet50 model\n",
        "resnet50 = models.resnet50(weights=None)\n",
        "\n",
        "\n"
      ],
      "metadata": {
        "id": "IRM685tZ9LUT"
      },
      "execution_count": 42,
      "outputs": []
    },
    {
      "cell_type": "markdown",
      "source": [
        "# Prova uso gpu"
      ],
      "metadata": {
        "id": "xGOa5GxR_cRO"
      }
    },
    {
      "cell_type": "code",
      "source": [
        "import torch\n",
        "\n",
        "if torch.cuda.is_available():\n",
        "  device = torch.device(\"cuda\")\n",
        "  print(\"Using GPU:\", torch.cuda.get_device_name(0))\n",
        "else:\n",
        "  device = torch.device(\"cpu\")\n",
        "  print(\"Using CPU\")\n",
        "print(device)\n",
        "\n",
        "# Resnet che corre su device\n",
        "resnet50.to(device)"
      ],
      "metadata": {
        "id": "goUrzNLA2uij"
      },
      "execution_count": null,
      "outputs": []
    },
    {
      "cell_type": "markdown",
      "source": [
        "# Loss e optimizer"
      ],
      "metadata": {
        "id": "slTrTI8E1yrq"
      }
    },
    {
      "cell_type": "code",
      "source": [
        "\n",
        "criterion = nn.CrossEntropyLoss()\n",
        "optimizer = optim.SGD(resnet50.parameters(), lr=0.001, momentum=0.9)\n",
        "#optimizer = optim.Adam(resnet50.parameters(), lr=0.001)"
      ],
      "metadata": {
        "id": "iFPd03VD-fSa"
      },
      "execution_count": 44,
      "outputs": []
    },
    {
      "cell_type": "markdown",
      "source": [
        "# Train"
      ],
      "metadata": {
        "id": "XvpIRJcCH_ac"
      }
    },
    {
      "cell_type": "markdown",
      "source": [
        "Inizializzo le liste per raccogliere dati"
      ],
      "metadata": {
        "id": "9sO0aofz8Pbi"
      }
    },
    {
      "cell_type": "code",
      "source": [
        "loss_values = []  # lista vuota per raccogliere i valori della loss function\n",
        "val_loss_values = []"
      ],
      "metadata": {
        "id": "5zxi-Ir88OdH"
      },
      "execution_count": 48,
      "outputs": []
    },
    {
      "cell_type": "markdown",
      "source": [
        "# Carico dati"
      ],
      "metadata": {
        "id": "tbPFJDqRHjL2"
      }
    },
    {
      "cell_type": "code",
      "source": [
        "loss_values = np.load('/content/gdrive/MyDrive/Dataset/Test3/loss_Adam_001.npy').tolist()\n",
        "val_loss_values=np.load('/content/gdrive/MyDrive/Dataset/Test3/val_Adam_001.npy').tolist()"
      ],
      "metadata": {
        "id": "d3D7IqrrHjg6"
      },
      "execution_count": 46,
      "outputs": []
    },
    {
      "cell_type": "markdown",
      "source": [
        "Definisco validation"
      ],
      "metadata": {
        "id": "U47fJ4LW-sF2"
      }
    },
    {
      "cell_type": "code",
      "source": [
        "def validate(model, criterion, validation_loader):\n",
        "    model.eval()\n",
        "    val_loss = 0.0\n",
        "    with torch.no_grad():\n",
        "        for data in validation_loader:\n",
        "            inputs, labels = data[0].to(device), data[1].to(device)\n",
        "            outputs = model(inputs)\n",
        "            loss = criterion(outputs, labels)\n",
        "            val_loss += loss.item()\n",
        "    return val_loss / len(validation_loader)"
      ],
      "metadata": {
        "id": "3HJpwCv--rfT"
      },
      "execution_count": 49,
      "outputs": []
    },
    {
      "cell_type": "markdown",
      "source": [
        "# Training"
      ],
      "metadata": {
        "id": "CVwmWQy5-wht"
      }
    },
    {
      "cell_type": "code",
      "source": [
        "num_epochs=10\n",
        "PATH = '/content/gdrive/MyDrive/Dataset/Test5/001.pth'\n",
        "\n",
        "for epoch in range(num_epochs):  # loop over the dataset multiple times\n",
        "\n",
        "    running_loss = 0.0\n",
        "    for i, data in enumerate(train_loader, 0):\n",
        "        # get the inputs; data is a list of [inputs, labels]\n",
        "        #inputs, labels = data\n",
        "\n",
        "        #mandare inputs e a ogni passo alla gpu\n",
        "        inputs, labels = data[0].to(device), data[1].to(device)\n",
        "        # zero the parameter gradients\n",
        "        optimizer.zero_grad()\n",
        "\n",
        "        # forward + backward + optimize\n",
        "        outputs = resnet50(inputs)\n",
        "        loss = criterion(outputs, labels)\n",
        "        loss.backward()\n",
        "        optimizer.step()\n",
        "\n",
        "        # statistica\n",
        "        running_loss += loss.item()\n",
        "        if i % 200== 199: # ogni 200 batch da b_size immagini\n",
        "            # aggiungi il valore della loss alla lista\n",
        "            loss_values.append(running_loss / 200)\n",
        "            val_loss = validate(resnet50, criterion, valid_loader)\n",
        "            val_loss_values.append(val_loss)\n",
        "            print(f'[{epoch + 1},{i + 1:4d}] loss: {running_loss / 200:.3f} val_loss:{val_loss:.3f}')\n",
        "            running_loss = 0.0\n",
        "            \n",
        "            torch.save(resnet50.state_dict(), PATH)   \n",
        "print('Finished Training')"
      ],
      "metadata": {
        "id": "4ZcAPUB3adBq"
      },
      "execution_count": null,
      "outputs": []
    },
    {
      "cell_type": "markdown",
      "source": [
        "# Salvo dati"
      ],
      "metadata": {
        "id": "Cjr4X6WDDago"
      }
    },
    {
      "cell_type": "code",
      "source": [
        "np.save('/content/gdrive/MyDrive/Dataset/Test4/loss_SGD_.npy', loss_values)\n",
        "np.save('/content/gdrive/MyDrive/Dataset/Test4/val_SGD_.npy', val_loss_values)"
      ],
      "metadata": {
        "id": "bpMN_tGxDZYn"
      },
      "execution_count": null,
      "outputs": []
    },
    {
      "cell_type": "markdown",
      "source": [
        "# Stampo loss function"
      ],
      "metadata": {
        "id": "utrwg-_J0ndl"
      }
    },
    {
      "cell_type": "code",
      "source": [
        "# creo grafico lineare\n",
        "plt.plot(loss_values)\n",
        "plt.plot(val_loss_values)\n",
        "\n",
        "# titolo e assi\n",
        "plt.title('Loss/Val Function')\n",
        "plt.xlabel('200Batch')\n",
        "plt.ylabel('Loss')\n",
        "\n",
        "plt.legend(['loss','val_loss'],loc='upper right')\n",
        "plt.show()"
      ],
      "metadata": {
        "colab": {
          "base_uri": "https://localhost:8080/",
          "height": 295
        },
        "id": "UgvH06vG0nzQ",
        "outputId": "21461f79-364c-4779-d751-423044899162"
      },
      "execution_count": 52,
      "outputs": [
        {
          "output_type": "display_data",
          "data": {
            "text/plain": [
              "<Figure size 432x288 with 1 Axes>"
            ],
            "image/png": "[encoded data removed]"
          },
          "metadata": {
            "needs_background": "light"
          }
        }
      ]
    },
    {
      "cell_type": "markdown",
      "source": [
        "# Salvo il modello dopo il training"
      ],
      "metadata": {
        "id": "-Yxolou9U1qW"
      }
    },
    {
      "cell_type": "code",
      "source": [
        "PATH = '/content/gdrive/MyDrive/Dataset/Test4/001.pth'\n",
        "torch.save(resnet50.state_dict(), PATH)"
      ],
      "metadata": {
        "id": "xZ2k8dnJUZA5"
      },
      "execution_count": null,
      "outputs": []
    },
    {
      "cell_type": "markdown",
      "source": [
        "# Carico modello salvato precedentemente"
      ],
      "metadata": {
        "id": "3aVgGiqXHMLP"
      }
    },
    {
      "cell_type": "code",
      "source": [
        "resnet50 = models.resnet50(weights=None)\n",
        "PATH = '/content/gdrive/MyDrive/Dataset/2_SGD_001/resnet50lr001.pth'\n",
        "# Carico i pesi salvati precedentemente\n",
        "resnet50.load_state_dict(torch.load(PATH))\n",
        "resnet50.to(device)"
      ],
      "metadata": {
        "id": "1O_wH4PFF9bm"
      },
      "execution_count": null,
      "outputs": []
    },
    {
      "cell_type": "markdown",
      "source": [
        "# Uso modello su test"
      ],
      "metadata": {
        "id": "TBWV-sdyU87w"
      }
    },
    {
      "cell_type": "code",
      "execution_count": null,
      "metadata": {
        "colab": {
          "base_uri": "https://localhost:8080/"
        },
        "id": "_rBlo09ahpRF",
        "outputId": "eb6b4b4e-19ee-46be-ae80-7ab8c7026716"
      },
      "outputs": [
        {
          "output_type": "stream",
          "name": "stdout",
          "text": [
            "Accuracy of the model on the test images: 20.43%\n"
          ]
        }
      ],
      "source": [
        "\n",
        "correct = 0\n",
        "total = 0\n",
        "with torch.no_grad():\n",
        "    for images, labels in test_loader:\n",
        "        images, labels = images.to(device), labels.to(device)\n",
        "        outputs = resnet50(images)\n",
        "        _, predicted = torch.max(outputs.data, 1)\n",
        "        total += labels.size(0)\n",
        "        correct += (predicted == labels).sum().item()\n",
        "    \n",
        "accuracy = 100 * correct / total\n",
        "print('Accuracy of the model on the test images: {:.2f}%'.format(accuracy))"
      ]
    },
    {
      "cell_type": "markdown",
      "source": [
        "#Classi peggiori e migliori"
      ],
      "metadata": {
        "id": "6X7mytwB0FGW"
      }
    },
    {
      "cell_type": "code",
      "source": [
        "# prepare to count predictions for each class\n",
        "correct_pred = {classname: 0 for classname in classes276}\n",
        "total_pred = {classname: 0 for classname in classes276}\n",
        "\n",
        "# again no gradients needed\n",
        "with torch.no_grad():\n",
        "    for data in test_loader:\n",
        "        images, labels = data[0].to(device), data[1].to(device)\n",
        "        outputs = resnet50(images)\n",
        "        _, predictions = torch.max(outputs, 1)\n",
        "        # collect the correct predictions for each class\n",
        "        for label, prediction in zip(labels, predictions):\n",
        "            if label == prediction:\n",
        "                correct_pred[classes276[label]] += 1\n",
        "            total_pred[classes276[label]] += 1\n",
        "\n",
        "\n",
        "# print accuracy for each class in descending order of accuracy\n",
        "for classname, correct_count in sorted(correct_pred.items(), key=lambda x: x[1], reverse=True):\n",
        "    accuracy = 100 * float(correct_count) / total_pred[classname]\n",
        "    print(f'Accuracy for class: {classname:5s} is {accuracy:.1f} %')\n",
        "\n",
        "# calculate overall accuracy\n",
        "total_correct = sum(correct_pred.values())\n",
        "total = sum(total_pred.values())\n",
        "overall_accuracy = 100 * float(total_correct) / total\n",
        "print(f'\\nOverall accuracy is {overall_accuracy:.1f} %')\n"
      ],
      "metadata": {
        "id": "nw01na2R0EW9"
      },
      "execution_count": null,
      "outputs": []
    },
    {
      "cell_type": "markdown",
      "source": [
        "# Test con immagini"
      ],
      "metadata": {
        "id": "qeVSZ8V9GRW7"
      }
    }
  ],
  "metadata": {
    "colab": {
      "provenance": [],
      "collapsed_sections": [
        "IYUmCGVNdu7q",
        "xGOa5GxR_cRO"
      ],
      "authorship_tag": "ABX9TyMFb1f8q8hHlHkigXq7HISW",
      "include_colab_link": true
    },
    "kernelspec": {
      "display_name": "Python 3",
      "name": "python3"
    },
    "language_info": {
      "name": "python"
    },
    "gpuClass": "standard",
    "accelerator": "GPU"
  },
  "nbformat": 4,
  "nbformat_minor": 0
}