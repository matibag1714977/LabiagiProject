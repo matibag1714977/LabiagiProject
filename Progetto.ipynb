{
  "cells": [
    {
      "cell_type": "markdown",
      "metadata": {
        "id": "view-in-github",
        "colab_type": "text"
      },
      "source": [
        "<a href=\"https://colab.research.google.com/github/matibag1714977/LabiagiProject/blob/main/Progetto.ipynb\" target=\"_parent\"><img src=\"https://colab.research.google.com/assets/colab-badge.svg\" alt=\"Open In Colab\"/></a>"
      ]
    },
    {
      "cell_type": "markdown",
      "metadata": {
        "id": "S1kS8KmI4OEV"
      },
      "source": [
        "# **Progetto-Scene Classification**"
      ]
    },
    {
      "cell_type": "markdown",
      "metadata": {
        "id": "wuLIneGUQ0WZ"
      },
      "source": [
        "#Import vari"
      ]
    },
    {
      "cell_type": "code",
      "execution_count": 1,
      "metadata": {
        "id": "j3iBMU-v4Tl0"
      },
      "outputs": [],
      "source": [
        "import numpy as np      #to perform mathematical operations on arrays and matrices\n",
        "import matplotlib.pyplot as plt  #to visualize images and plot graphs\n",
        "\n",
        "#provides algoithms and tools for data analysis and modeling(classification,regression,clustering)\n",
        "from sklearn.model_selection import train_test_split        \n",
        "from sklearn.metrics import accuracy_score, classification_report, confusion_matrix\n",
        "from sklearn.preprocessing import StandardScaler\n",
        "\n",
        "# It provides various tools and functions for image and video processing, including image filtering, feature detection, and object tracking.\n",
        "import cv2\n",
        "import imghdr\n",
        "import os\n",
        "\n",
        "import torch\n",
        "import torchvision\n",
        "import torchvision.transforms as transforms\n",
        "import tensorflow as tf\n",
        "\n",
        "\n",
        "\n"
      ]
    },
    {
      "cell_type": "markdown",
      "metadata": {
        "id": "375Lbwv8b64g"
      },
      "source": [
        "#Import dataset Prova"
      ]
    },
    {
      "cell_type": "code",
      "execution_count": 2,
      "metadata": {
        "id": "iMJbpe2i4UoR",
        "colab": {
          "base_uri": "https://localhost:8080/"
        },
        "outputId": "e739de86-4311-424b-9944-cd3e2ea3ec96"
      },
      "outputs": [
        {
          "output_type": "stream",
          "name": "stdout",
          "text": [
            "Mounted at /content/gdrive\n",
            "Mounted at /content/gdrive\n"
          ]
        }
      ],
      "source": [
        "from google.colab import drive\n",
        "drive.mount('/content/gdrive')\n",
        "\n",
        "#folder_id = '1pFM_HpOjh0qbAadk0-1Fz89mwLHrnQHB?usp=share_link'\n",
        "folder_id ='1uN5c1p7GkKE9xqQ3DyFbFWfRJQCTod-E?usp=share_link'\n",
        "data_path = '/content/gdrive/MyDrive/Dataset/input_data2'\n",
        "\n",
        "\n",
        "# mount the folder\n",
        "drive.mount('/content/gdrive', force_remount=True)\n",
        "\n",
        "\n"
      ]
    },
    {
      "cell_type": "markdown",
      "source": [
        "Con SUN397"
      ],
      "metadata": {
        "id": "kELggI-KO4g0"
      }
    },
    {
      "cell_type": "code",
      "source": [
        "dataset_dir = '/content/gdrive/MyDrive/Dataset/SUN397'\n",
        "classess = os.listdir(dataset_dir)\n",
        "print(len(classess))\n"
      ],
      "metadata": {
        "colab": {
          "base_uri": "https://localhost:8080/"
        },
        "id": "TGWEwXKeJAPS",
        "outputId": "9ec6a080-3017-4657-c1f0-834a001bb5a0"
      },
      "execution_count": 3,
      "outputs": [
        {
          "output_type": "stream",
          "name": "stdout",
          "text": [
            "276\n"
          ]
        }
      ]
    },
    {
      "cell_type": "markdown",
      "source": [
        "#Dividere tramite Pytorch"
      ],
      "metadata": {
        "id": "IYUmCGVNdu7q"
      }
    },
    {
      "cell_type": "markdown",
      "source": [
        "100 ogni classe"
      ],
      "metadata": {
        "id": "mfK0mI7v3pOC"
      }
    },
    {
      "cell_type": "code",
      "source": [
        "import os\n",
        "import random\n",
        "from torchvision.datasets import ImageFolder\n",
        "from torch.utils.data import Subset\n",
        "import torch\n",
        "import torchvision.datasets as datasets\n",
        "import torchvision.transforms as transforms\n",
        "import torch.utils.data as data\n",
        "\n",
        "# Definire la trasformazione delle immagini\n",
        "transform = transforms.Compose(\n",
        "    [transforms.Resize((224, 224)),transforms.ToTensor(),\n",
        "     transforms.Normalize((0.5, 0.5, 0.5), (0.5, 0.5, 0.5))])\n",
        "\n",
        "# Definire il percorso della cartella contenente le immagini selezionate\n",
        "dataset_path = '/content/gdrive/MyDrive/Dataset/SUN397'\n",
        "\n",
        "# Creare un dataset PyTorch dalla cartella delle immagini selezionate\n",
        "dataset = ImageFolder(dataset_path, transform=transform)\n",
        "classes276 = dataset.classes\n",
        "# Creare un elenco di indici di campioni per ogni classe\n",
        "class_indices = dataset.class_to_idx\n",
        "indices = []\n",
        "for c in class_indices.values():\n",
        "    class_samples = [i for i, (_, label) in enumerate(dataset.samples) if label == c]\n",
        "    indices += random.sample(class_samples, 100)\n",
        "\n",
        "# Creare un Subset di PyTorch dataset contenente solo gli indici selezionati\n",
        "subset = Subset(dataset, indices)\n",
        "b_size=10\n",
        "\n",
        "# Dividere il Subset in train, validation e test set utilizzando random_split\n",
        "train_ratio = 0.8\n",
        "val_ratio = 0.1\n",
        "test_ratio = 0.1\n",
        "train_data = int(len(subset) * train_ratio)\n",
        "val_data = int(len(subset) * val_ratio)\n",
        "test_data = len(subset) - train_data - val_data\n",
        "train_set, val_set, test_set = data.random_split(subset, [train_data, val_data, test_data])\n",
        "\n",
        "train_loader=data.DataLoader(train_set,batch_size=b_size, shuffle=True, num_workers=2)\n",
        "validation_loader=data.DataLoader(val_set,batch_size=b_size, shuffle=False,  num_workers=2)\n",
        "test_loader=data.DataLoader(test_set,batch_size=b_size,shuffle=False, num_workers=2)\n",
        "\n",
        "\n",
        "# Stampa delle dimensioni di ogni set\n",
        "print(f\"Numero di campioni di training: {len(train_set)}\")\n",
        "print(f\"Numero di campioni di validation: {len(val_set)}\")\n",
        "print(f\"Numero di campioni di test: {len(test_set)}\")\n",
        "print(classes276)"
      ],
      "metadata": {
        "id": "UH_0e3Sn2eRD"
      },
      "execution_count": null,
      "outputs": []
    },
    {
      "cell_type": "markdown",
      "source": [
        "Tutto"
      ],
      "metadata": {
        "id": "T-jwfIfz3tmd"
      }
    },
    {
      "cell_type": "code",
      "source": [
        "import os\n",
        "import torch\n",
        "import torchvision.datasets as datasets\n",
        "import torchvision.transforms as transforms\n",
        "import torch.utils.data as data\n",
        "\n",
        "# Definisci la trasformazione delle immagini\n",
        "transform = transforms.Compose(\n",
        "    [transforms.Resize((224, 224)),transforms.ToTensor(),\n",
        "     transforms.Normalize((0.5, 0.5, 0.5), (0.5, 0.5, 0.5))])\n",
        "\n",
        "input_path='/content/gdrive/MyDrive/Dataset/SUN397'\n",
        "# Trasforma il dataset\n",
        "dataset = datasets.ImageFolder(input_path, transform=transform)\n",
        "\n",
        "#print(dataset)\n",
        "\n",
        "# Definisci le proporzioni di training, validation e test set\n",
        "train_ratio = 0.80\n",
        "val_ratio = 0.10\n",
        "test_ratio = 0.10\n",
        "\n",
        "b_size=27\n",
        "\n",
        "# Calcola le lunghezze dei subset\n",
        "train_size = int(train_ratio * len(dataset))\n",
        "val_size = int(val_ratio * len(dataset))\n",
        "test_size = len(dataset) - train_size - val_size\n",
        "\n",
        "# Dividi il dataset in training, validation e test set\n",
        "train_data, test_data, val_data = data.random_split(dataset, [train_size, test_size, val_size])\n",
        "\n",
        "train_loader=data.DataLoader(train_data,batch_size=b_size, shuffle=True, num_workers=2)\n",
        "validation_loader=data.DataLoader(val_data,batch_size=b_size, shuffle=True,  num_workers=2)\n",
        "test_loader=data.DataLoader(test_data,batch_size=b_size,shuffle=False, num_workers=2)\n",
        "\n",
        "print(len(train_data))\n",
        "print(len(val_data))\n",
        "print(len(test_data))\n",
        "\n",
        "#classes = ('airport_terminal', 'beach', 'bridge', 'forest',\n",
        "  #         'mountain', 'playground', 'river', 'skyscraper', 'street', 'temple')\n",
        "#classes = ('airport_terminal', 'beach', 'bridge','fire_station', 'forest','formal_garden','fountain','ice_skating','iceberg','lake','market',\n",
        "   #        'mountain', 'playground', 'river','rock_arch','ruin', 'skyscraper', 'street', 'temple','tennis_court')\n",
        "\n",
        "\n",
        "\n",
        "\n"
      ],
      "metadata": {
        "id": "exkgfvDEduUD",
        "colab": {
          "base_uri": "https://localhost:8080/"
        },
        "outputId": "2dfe7d92-decb-45cc-e20f-3f745c8d70f1"
      },
      "execution_count": 4,
      "outputs": [
        {
          "output_type": "stream",
          "name": "stdout",
          "text": [
            "63512\n",
            "7939\n",
            "7939\n"
          ]
        }
      ]
    },
    {
      "cell_type": "markdown",
      "source": [
        "#Carico resnet50"
      ],
      "metadata": {
        "id": "gE18143K25BF"
      }
    },
    {
      "cell_type": "code",
      "source": [
        "import torch\n",
        "import torch.nn as nn\n",
        "import torch.optim as optim\n",
        "import torchvision.models as models\n",
        "\n",
        "# Load ResNet50 model\n",
        "resnet50 = models.resnet50(weights=None)\n",
        "\n",
        "\n"
      ],
      "metadata": {
        "id": "IRM685tZ9LUT"
      },
      "execution_count": 5,
      "outputs": []
    },
    {
      "cell_type": "markdown",
      "source": [
        "# Prova uso gpu"
      ],
      "metadata": {
        "id": "xGOa5GxR_cRO"
      }
    },
    {
      "cell_type": "code",
      "source": [
        "import torch\n",
        "\n",
        "if torch.cuda.is_available():\n",
        "  device = torch.device(\"cuda\")\n",
        "  print(\"Using GPU:\", torch.cuda.get_device_name(0))\n",
        "else:\n",
        "  device = torch.device(\"cpu\")\n",
        "  print(\"Using CPU\")\n",
        "print(device)\n",
        "\n",
        "# Resnet che corre su device\n",
        "resnet50.to(device)"
      ],
      "metadata": {
        "id": "goUrzNLA2uij"
      },
      "execution_count": null,
      "outputs": []
    },
    {
      "cell_type": "markdown",
      "source": [
        "# Loss e optimizer"
      ],
      "metadata": {
        "id": "slTrTI8E1yrq"
      }
    },
    {
      "cell_type": "code",
      "source": [
        "\n",
        "criterion = nn.CrossEntropyLoss()\n",
        "optimizer = optim.SGD(resnet50.parameters(), lr=0.001, momentum=0.9)\n",
        "#optimizer = optim.Adam(resnet50.parameters(), lr=0.001)"
      ],
      "metadata": {
        "id": "iFPd03VD-fSa"
      },
      "execution_count": 7,
      "outputs": []
    },
    {
      "cell_type": "markdown",
      "source": [
        "# Train"
      ],
      "metadata": {
        "id": "XvpIRJcCH_ac"
      }
    },
    {
      "cell_type": "markdown",
      "source": [
        "Inizializzo le liste per raccogliere dati"
      ],
      "metadata": {
        "id": "9sO0aofz8Pbi"
      }
    },
    {
      "cell_type": "code",
      "source": [
        "loss_values = []  # lista vuota per raccogliere i valori della loss function\n",
        "val_loss_values = []"
      ],
      "metadata": {
        "id": "5zxi-Ir88OdH"
      },
      "execution_count": 8,
      "outputs": []
    },
    {
      "cell_type": "markdown",
      "source": [
        "# Carico dati"
      ],
      "metadata": {
        "id": "tbPFJDqRHjL2"
      }
    },
    {
      "cell_type": "code",
      "source": [
        "loss_values = np.load('/content/gdrive/MyDrive/Dataset/Test3/loss_Adam_001.npy').tolist()\n",
        "val_loss_values=np.load('/content/gdrive/MyDrive/Dataset/Test3/val_Adam_001.npy').tolist()"
      ],
      "metadata": {
        "id": "d3D7IqrrHjg6"
      },
      "execution_count": 8,
      "outputs": []
    },
    {
      "cell_type": "markdown",
      "source": [
        "Definisco validation"
      ],
      "metadata": {
        "id": "U47fJ4LW-sF2"
      }
    },
    {
      "cell_type": "code",
      "source": [
        "def validate(model, criterion, validation_loader):\n",
        "    model.eval()\n",
        "    val_loss = 0.0\n",
        "    with torch.no_grad():\n",
        "        for data in validation_loader:\n",
        "            inputs, labels = data[0].to(device), data[1].to(device)\n",
        "            outputs = model(inputs)\n",
        "            loss = criterion(outputs, labels)\n",
        "            val_loss += loss.item()\n",
        "    return val_loss / len(validation_loader)"
      ],
      "metadata": {
        "id": "3HJpwCv--rfT"
      },
      "execution_count": 9,
      "outputs": []
    },
    {
      "cell_type": "markdown",
      "source": [
        "# Training"
      ],
      "metadata": {
        "id": "CVwmWQy5-wht"
      }
    },
    {
      "cell_type": "code",
      "source": [
        "num_epochs=10\n",
        "PATH = '/content/gdrive/MyDrive/Dataset/Test4/001.pth'\n",
        "\n",
        "for epoch in range(num_epochs):  # loop over the dataset multiple times\n",
        "\n",
        "    running_loss = 0.0\n",
        "    for i, data in enumerate(train_loader, 0):\n",
        "        # get the inputs; data is a list of [inputs, labels]\n",
        "        #inputs, labels = data\n",
        "\n",
        "        #mandare inputs e a ogni passo alla gpu\n",
        "        inputs, labels = data[0].to(device), data[1].to(device)\n",
        "        # zero the parameter gradients\n",
        "        optimizer.zero_grad()\n",
        "\n",
        "        # forward + backward + optimize\n",
        "        outputs = resnet50(inputs)\n",
        "        loss = criterion(outputs, labels)\n",
        "        loss.backward()\n",
        "        optimizer.step()\n",
        "\n",
        "        # statistica\n",
        "        running_loss += loss.item()\n",
        "        if i % 200== 199: # ogni 200 batch da b_size immagini\n",
        "            # aggiungi il valore della loss alla lista\n",
        "            loss_values.append(running_loss / 200)\n",
        "            val_loss = validate(resnet50, criterion, validation_loader)\n",
        "            val_loss_values.append(val_loss)\n",
        "            print(f'[{epoch + 1},{i + 1:4d}] loss: {running_loss / 200:.3f} val_loss:{val_loss:.3f}')\n",
        "            running_loss = 0.0\n",
        "            \n",
        "            torch.save(resnet50.state_dict(), PATH)   \n",
        "print('Finished Training')"
      ],
      "metadata": {
        "id": "4ZcAPUB3adBq",
        "colab": {
          "base_uri": "https://localhost:8080/"
        },
        "outputId": "ee1a8ecb-484c-4ae1-aeff-b7e05800fcba"
      },
      "execution_count": 10,
      "outputs": [
        {
          "output_type": "stream",
          "name": "stdout",
          "text": [
            "[1, 200] loss: 6.444 val_loss:6.648\n",
            "[1, 400] loss: 6.059 val_loss:6.065\n",
            "[1, 600] loss: 5.950 val_loss:5.883\n",
            "[1, 800] loss: 5.840 val_loss:5.720\n",
            "[1,1000] loss: 5.725 val_loss:5.649\n",
            "[1,1200] loss: 5.609 val_loss:5.585\n",
            "[1,1400] loss: 5.536 val_loss:5.465\n",
            "[1,1600] loss: 5.465 val_loss:5.402\n",
            "[1,1800] loss: 5.415 val_loss:5.362\n",
            "[1,2000] loss: 5.303 val_loss:5.252\n",
            "[1,2200] loss: 5.292 val_loss:5.214\n",
            "[2, 200] loss: 5.169 val_loss:5.196\n",
            "[2, 400] loss: 5.166 val_loss:5.170\n",
            "[2, 600] loss: 5.072 val_loss:5.047\n",
            "[2, 800] loss: 5.012 val_loss:5.003\n",
            "[2,1000] loss: 4.978 val_loss:4.973\n",
            "[2,1200] loss: 4.943 val_loss:5.070\n",
            "[2,1400] loss: 4.932 val_loss:4.905\n",
            "[2,1600] loss: 4.833 val_loss:4.876\n",
            "[2,1800] loss: 4.806 val_loss:4.865\n",
            "[2,2000] loss: 4.835 val_loss:4.756\n",
            "[2,2200] loss: 4.762 val_loss:4.771\n",
            "[3, 200] loss: 4.649 val_loss:4.700\n",
            "[3, 400] loss: 4.665 val_loss:4.733\n",
            "[3, 600] loss: 4.672 val_loss:4.696\n",
            "[3, 800] loss: 4.595 val_loss:4.732\n",
            "[3,1000] loss: 4.591 val_loss:4.728\n",
            "[3,1200] loss: 4.562 val_loss:4.571\n",
            "[3,1400] loss: 4.533 val_loss:4.580\n",
            "[3,1600] loss: 4.526 val_loss:4.571\n",
            "[3,1800] loss: 4.480 val_loss:4.507\n",
            "[3,2000] loss: 4.444 val_loss:4.496\n",
            "[3,2200] loss: 4.482 val_loss:4.464\n",
            "[4, 200] loss: 4.317 val_loss:4.451\n",
            "[4, 400] loss: 4.368 val_loss:4.506\n",
            "[4, 600] loss: 4.313 val_loss:4.357\n",
            "[4, 800] loss: 4.304 val_loss:4.380\n",
            "[4,1000] loss: 4.303 val_loss:4.296\n",
            "[4,1200] loss: 4.324 val_loss:4.319\n",
            "[4,1400] loss: 4.275 val_loss:4.408\n",
            "[4,1600] loss: 4.237 val_loss:4.304\n",
            "[4,1800] loss: 4.240 val_loss:4.340\n",
            "[4,2000] loss: 4.235 val_loss:4.354\n",
            "[4,2200] loss: 4.207 val_loss:4.372\n",
            "[5, 200] loss: 4.070 val_loss:4.278\n",
            "[5, 400] loss: 4.023 val_loss:4.183\n",
            "[5, 600] loss: 4.112 val_loss:4.214\n",
            "[5, 800] loss: 4.040 val_loss:4.242\n",
            "[5,1000] loss: 4.110 val_loss:4.194\n",
            "[5,1200] loss: 4.110 val_loss:4.161\n",
            "[5,1400] loss: 4.056 val_loss:4.160\n",
            "[5,1600] loss: 4.014 val_loss:4.093\n",
            "[5,1800] loss: 4.009 val_loss:4.134\n",
            "[5,2000] loss: 3.991 val_loss:4.106\n",
            "[5,2200] loss: 3.981 val_loss:4.066\n",
            "[6, 200] loss: 3.836 val_loss:4.068\n",
            "[6, 400] loss: 3.902 val_loss:4.071\n",
            "[6, 600] loss: 3.838 val_loss:4.081\n",
            "[6, 800] loss: 3.823 val_loss:4.065\n",
            "[6,1000] loss: 3.846 val_loss:4.052\n",
            "[6,1200] loss: 3.870 val_loss:4.008\n",
            "[6,1400] loss: 3.840 val_loss:3.996\n",
            "[6,1600] loss: 3.895 val_loss:4.010\n",
            "[6,1800] loss: 3.829 val_loss:3.983\n",
            "[6,2000] loss: 3.818 val_loss:4.014\n",
            "[6,2200] loss: 3.793 val_loss:3.902\n",
            "[7, 200] loss: 3.686 val_loss:3.958\n",
            "[7, 400] loss: 3.621 val_loss:3.914\n",
            "[7, 600] loss: 3.634 val_loss:3.976\n",
            "[7, 800] loss: 3.626 val_loss:3.834\n",
            "[7,1000] loss: 3.660 val_loss:4.044\n",
            "[7,1200] loss: 3.651 val_loss:3.895\n",
            "[7,1400] loss: 3.650 val_loss:3.963\n",
            "[7,1600] loss: 3.602 val_loss:3.889\n",
            "[7,1800] loss: 3.679 val_loss:3.915\n",
            "[7,2000] loss: 3.698 val_loss:3.781\n",
            "[7,2200] loss: 3.658 val_loss:3.814\n",
            "[8, 200] loss: 3.449 val_loss:3.798\n",
            "[8, 400] loss: 3.458 val_loss:3.826\n",
            "[8, 600] loss: 3.494 val_loss:3.756\n",
            "[8, 800] loss: 3.513 val_loss:3.797\n",
            "[8,1000] loss: 3.429 val_loss:3.734\n",
            "[8,1200] loss: 3.452 val_loss:3.892\n",
            "[8,1400] loss: 3.459 val_loss:3.778\n",
            "[8,1600] loss: 3.477 val_loss:3.695\n",
            "[8,1800] loss: 3.462 val_loss:3.810\n",
            "[8,2000] loss: 3.407 val_loss:3.715\n",
            "[8,2200] loss: 3.490 val_loss:3.712\n",
            "[9, 200] loss: 3.192 val_loss:3.702\n",
            "[9, 400] loss: 3.277 val_loss:3.712\n",
            "[9, 600] loss: 3.331 val_loss:3.788\n",
            "[9, 800] loss: 3.265 val_loss:3.789\n",
            "[9,1000] loss: 3.249 val_loss:3.664\n",
            "[9,1200] loss: 3.346 val_loss:3.665\n",
            "[9,1400] loss: 3.311 val_loss:3.829\n",
            "[9,1600] loss: 3.324 val_loss:3.699\n",
            "[9,1800] loss: 3.300 val_loss:3.609\n",
            "[9,2000] loss: 3.292 val_loss:3.648\n",
            "[9,2200] loss: 3.265 val_loss:3.705\n",
            "[10, 200] loss: 3.050 val_loss:3.707\n",
            "[10, 400] loss: 3.073 val_loss:3.634\n",
            "[10, 600] loss: 3.072 val_loss:3.684\n",
            "[10, 800] loss: 3.181 val_loss:3.667\n",
            "[10,1000] loss: 3.091 val_loss:3.643\n",
            "[10,1200] loss: 3.086 val_loss:3.697\n",
            "[10,1400] loss: 3.090 val_loss:3.748\n",
            "[10,1600] loss: 3.078 val_loss:3.583\n",
            "[10,1800] loss: 3.113 val_loss:3.590\n",
            "[10,2000] loss: 3.078 val_loss:3.548\n",
            "[10,2200] loss: 3.105 val_loss:3.505\n",
            "Finished Training\n"
          ]
        }
      ]
    },
    {
      "cell_type": "markdown",
      "source": [
        "# Training con K-Fold-Crossvalidation"
      ],
      "metadata": {
        "id": "Ne4tFKFagGvA"
      }
    },
    {
      "cell_type": "code",
      "source": [
        "from sklearn.model_selection import KFold\n",
        "import os\n",
        "import torch\n",
        "import torchvision.datasets as datasets\n",
        "import torchvision.transforms as transforms\n",
        "import torch.utils.data as data\n",
        "from torch.utils.data.sampler import SubsetRandomSampler\n",
        "\n",
        "# Definisci la trasformazione delle immagini\n",
        "transform = transforms.Compose(\n",
        "    [transforms.Resize((224, 224)),transforms.ToTensor(),\n",
        "     transforms.Normalize((0.5, 0.5, 0.5), (0.5, 0.5, 0.5))])\n",
        "\n",
        "input_path='/content/gdrive/MyDrive/Dataset/SUN397'\n",
        "# Trasforma il dataset\n",
        "dataset = datasets.ImageFolder(input_path, transform=transform)\n",
        "\n",
        "# Definisci le proporzioni di training, validation e test set\n",
        "train_ratio = 0.90\n",
        "test_ratio = 0.10\n",
        "\n",
        "b_size=10\n",
        "\n",
        "# Calcola le lunghezze dei subset\n",
        "train_size = int(train_ratio * len(dataset))\n",
        "test_size = len(dataset) - train_size \n",
        "\n",
        "# Dividi il dataset in training, validation e test set\n",
        "train_dataset, test_data= data.random_split(dataset, [train_size, test_size])"
      ],
      "metadata": {
        "id": "zcpOdD-LjN48"
      },
      "execution_count": 8,
      "outputs": []
    },
    {
      "cell_type": "code",
      "source": [
        "# Definisci il numero di fold\n",
        "k = 5\n",
        "kf = KFold(n_splits=k)\n",
        "num_epochs=2\n",
        "\n",
        "\n",
        "# Loop over folds\n",
        "for fold, (train_indices, val_indices) in enumerate(kf.split(train_dataset)):\n",
        "\n",
        "    # Definisci i dataloaders per il train e la validation per il fold corrente\n",
        "    train_sampler = SubsetRandomSampler(train_indices)\n",
        "    val_sampler = SubsetRandomSampler(val_indices)\n",
        "    train_loader = torch.utils.data.DataLoader(train_dataset, batch_size=b_size, sampler=train_sampler)\n",
        "    validation_loader = torch.utils.data.DataLoader(train_dataset, batch_size=b_size, sampler=val_sampler)\n",
        "\n",
        "    # Inizializza il modello e l'ottimizzatore per ogni fold\n",
        "    resnet50 = models.resnet50(weights=None)\n",
        "    resnet50.to(device)\n",
        "    criterion = nn.CrossEntropyLoss()\n",
        "    optimizer = optim.SGD(resnet50.parameters(), lr=0.001, momentum=0.9)\n",
        "\n",
        "    # Loop over epochs per il fold corrente\n",
        "    for epoch in range(num_epochs):\n",
        "        running_loss = 0.0\n",
        "        resnet50.train() # setta il modello in modalità training\n",
        "\n",
        "        # Loop over batches per il fold corrente\n",
        "        for i, data in enumerate(train_loader, 0):\n",
        "            inputs, labels = data[0].to(device), data[1].to(device)\n",
        "            optimizer.zero_grad()\n",
        "            outputs = resnet50(inputs)\n",
        "            loss = criterion(outputs, labels)\n",
        "            loss.backward()\n",
        "            optimizer.step()\n",
        "            running_loss += loss.item()\n",
        "\n",
        "        # Calcola la perdita sul training set per il fold corrente\n",
        "        train_loss = running_loss / len(train_loader)\n",
        "        loss_values.append(train_loss)\n",
        "\n",
        "        # Calcola la perdita sulla validation set per il fold corrente\n",
        "        val_loss = validate(resnet50, criterion, validation_loader)\n",
        "        val_loss_values.append(val_loss)\n",
        "\n",
        "        # Stampa la perdita corrente\n",
        "        print(f\"Fold {fold+1}/{k}, Epoch {epoch+1}/{num_epochs}, Train Loss: {train_loss:.4f}, Validation Loss: {val_loss:.4f}\")\n",
        "\n",
        "    # Salva i pesi del modello per il fold corrente\n",
        "    path = \"/content/drive/MyDrive/Test4/fold\" + str(fold+1) + \".pth\"\n",
        "    torch.save(resnet50.state_dict(), path)\n",
        "\n",
        "print('Finished Training')\n"
      ],
      "metadata": {
        "id": "OEwpJ3mrgGdf"
      },
      "execution_count": null,
      "outputs": []
    },
    {
      "cell_type": "markdown",
      "source": [
        "# Salvo dati"
      ],
      "metadata": {
        "id": "Cjr4X6WDDago"
      }
    },
    {
      "cell_type": "code",
      "source": [
        "np.save('/content/gdrive/MyDrive/Dataset/Test4/loss_SGD_.npy', loss_values)\n",
        "np.save('/content/gdrive/MyDrive/Dataset/Test4/val_SGD_.npy', val_loss_values)"
      ],
      "metadata": {
        "id": "bpMN_tGxDZYn"
      },
      "execution_count": 11,
      "outputs": []
    },
    {
      "cell_type": "markdown",
      "source": [
        "# Stampo loss function"
      ],
      "metadata": {
        "id": "utrwg-_J0ndl"
      }
    },
    {
      "cell_type": "code",
      "source": [
        "# creo grafico lineare\n",
        "plt.plot(loss_values)\n",
        "plt.plot(val_loss_values)\n",
        "\n",
        "# titolo e assi\n",
        "plt.title('Loss/Val Function')\n",
        "plt.xlabel('200Batch')\n",
        "plt.ylabel('Loss')\n",
        "\n",
        "plt.legend(['loss','val_loss'],loc='upper right')\n",
        "plt.show()"
      ],
      "metadata": {
        "colab": {
          "base_uri": "https://localhost:8080/",
          "height": 295
        },
        "id": "UgvH06vG0nzQ",
        "outputId": "eaf57f73-4839-4b0a-b60a-e7dcb074aa44"
      },
      "execution_count": 12,
      "outputs": [
        {
          "output_type": "display_data",
          "data": {
            "text/plain": [
              "<Figure size 432x288 with 1 Axes>"
            ],
            "image/png": "[encoded data removed]"
          },
          "metadata": {
            "needs_background": "light"
          }
        }
      ]
    },
    {
      "cell_type": "markdown",
      "source": [
        "# Salvo il modello dopo il training"
      ],
      "metadata": {
        "id": "-Yxolou9U1qW"
      }
    },
    {
      "cell_type": "code",
      "source": [
        "PATH = '/content/gdrive/MyDrive/Dataset/Test4/001.pth'\n",
        "torch.save(resnet50.state_dict(), PATH)"
      ],
      "metadata": {
        "id": "xZ2k8dnJUZA5"
      },
      "execution_count": 13,
      "outputs": []
    },
    {
      "cell_type": "markdown",
      "source": [
        "# Carico modello salvato precedentemente"
      ],
      "metadata": {
        "id": "3aVgGiqXHMLP"
      }
    },
    {
      "cell_type": "code",
      "source": [
        "resnet50 = models.resnet50(weights=None)\n",
        "PATH = '/content/gdrive/MyDrive/Dataset/2_SGD_001/resnet50lr001.pth'\n",
        "# Carico i pesi salvati precedentemente\n",
        "resnet50.load_state_dict(torch.load(PATH))\n",
        "resnet50.to(device)"
      ],
      "metadata": {
        "id": "1O_wH4PFF9bm"
      },
      "execution_count": null,
      "outputs": []
    },
    {
      "cell_type": "markdown",
      "source": [
        "# Uso modello su test"
      ],
      "metadata": {
        "id": "TBWV-sdyU87w"
      }
    },
    {
      "cell_type": "code",
      "execution_count": null,
      "metadata": {
        "id": "_rBlo09ahpRF"
      },
      "outputs": [],
      "source": [
        "\n",
        "correct = 0\n",
        "total = 0\n",
        "with torch.no_grad():\n",
        "    for images, labels in test_loader:\n",
        "        images, labels = images.to(device), labels.to(device)\n",
        "        outputs = resnet50(images)\n",
        "        _, predicted = torch.max(outputs.data, 1)\n",
        "        total += labels.size(0)\n",
        "        correct += (predicted == labels).sum().item()\n",
        "    \n",
        "accuracy = 100 * correct / total\n",
        "print('Accuracy of the model on the test images: {:.2f}%'.format(accuracy))"
      ]
    },
    {
      "cell_type": "markdown",
      "source": [
        "#Classi peggiori e migliori"
      ],
      "metadata": {
        "id": "6X7mytwB0FGW"
      }
    },
    {
      "cell_type": "code",
      "source": [
        "# prepare to count predictions for each class\n",
        "correct_pred = {classname: 0 for classname in classes276}\n",
        "total_pred = {classname: 0 for classname in classes276}\n",
        "\n",
        "# again no gradients needed\n",
        "with torch.no_grad():\n",
        "    for data in test_loader:\n",
        "        images, labels = data[0].to(device), data[1].to(device)\n",
        "        outputs = resnet50(images)\n",
        "        _, predictions = torch.max(outputs, 1)\n",
        "        # collect the correct predictions for each class\n",
        "        for label, prediction in zip(labels, predictions):\n",
        "            if label == prediction:\n",
        "                correct_pred[classes276[label]] += 1\n",
        "            total_pred[classes276[label]] += 1\n",
        "\n",
        "\n",
        "# print accuracy for each class in descending order of accuracy\n",
        "for classname, correct_count in sorted(correct_pred.items(), key=lambda x: x[1], reverse=True):\n",
        "    accuracy = 100 * float(correct_count) / total_pred[classname]\n",
        "    print(f'Accuracy for class: {classname:5s} is {accuracy:.1f} %')\n",
        "\n",
        "# calculate overall accuracy\n",
        "total_correct = sum(correct_pred.values())\n",
        "total = sum(total_pred.values())\n",
        "overall_accuracy = 100 * float(total_correct) / total\n",
        "print(f'\\nOverall accuracy is {overall_accuracy:.1f} %')\n"
      ],
      "metadata": {
        "id": "nw01na2R0EW9"
      },
      "execution_count": null,
      "outputs": []
    },
    {
      "cell_type": "markdown",
      "source": [
        "# Test con immagini"
      ],
      "metadata": {
        "id": "qeVSZ8V9GRW7"
      }
    },
    {
      "cell_type": "code",
      "source": [
        "dataiter = iter(test_loader)\n",
        "images, labels = next(dataiter)\n",
        "\n",
        "imshow(torchvision.utils.make_grid(images))\n",
        "print('GroundTruth: ', ' '.join(f'{classes276[labels[j]]:5s}' for j in range(4)))"
      ],
      "metadata": {
        "id": "2MFuRFeHGp1m"
      },
      "execution_count": null,
      "outputs": []
    },
    {
      "cell_type": "code",
      "source": [
        "images = images.to(device)\n",
        "outputs = resnet50(images)\n",
        "_, predicted = torch.max(outputs, 1)\n",
        "\n",
        "print('Predicted: ', ' '.join(f'{classes[predicted[j]]:5s}'\n",
        "                              for j in range(4)))"
      ],
      "metadata": {
        "id": "kWrZND_pGaUn"
      },
      "execution_count": null,
      "outputs": []
    }
  ],
  "metadata": {
    "colab": {
      "provenance": [],
      "collapsed_sections": [
        "KLVi4dMe1h48",
        "Ne4tFKFagGvA"
      ],
      "authorship_tag": "ABX9TyN9MtJlIpWJ1OqQBvz5OG2p",
      "include_colab_link": true
    },
    "kernelspec": {
      "display_name": "Python 3",
      "name": "python3"
    },
    "language_info": {
      "name": "python"
    },
    "gpuClass": "standard",
    "accelerator": "GPU"
  },
  "nbformat": 4,
  "nbformat_minor": 0
}