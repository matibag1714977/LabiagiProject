{
  "cells": [
    {
      "cell_type": "markdown",
      "metadata": {
        "id": "view-in-github",
        "colab_type": "text"
      },
      "source": [
        "<a href=\"https://colab.research.google.com/github/matibag1714977/LabiagiProject/blob/main/Progetto.ipynb\" target=\"_parent\"><img src=\"https://colab.research.google.com/assets/colab-badge.svg\" alt=\"Open In Colab\"/></a>"
      ]
    },
    {
      "cell_type": "markdown",
      "metadata": {
        "id": "S1kS8KmI4OEV"
      },
      "source": [
        "# **Progetto-Scene Classification**"
      ]
    },
    {
      "cell_type": "markdown",
      "metadata": {
        "id": "wuLIneGUQ0WZ"
      },
      "source": [
        "#Import vari"
      ]
    },
    {
      "cell_type": "code",
      "execution_count": 1,
      "metadata": {
        "id": "j3iBMU-v4Tl0"
      },
      "outputs": [],
      "source": [
        "import numpy as np      #to perform mathematical operations on arrays and matrices\n",
        "import matplotlib.pyplot as plt  #to visualize images and plot graphs\n",
        "\n",
        "#provides algoithms and tools for data analysis and modeling(classification,regression,clustering)\n",
        "from sklearn.model_selection import train_test_split        \n",
        "from sklearn.metrics import accuracy_score, classification_report, confusion_matrix\n",
        "from sklearn.preprocessing import StandardScaler\n",
        "\n",
        "#It provides a user-friendly interface for building and training deep learning models\n",
        "from keras.models import Sequential\n",
        "from keras.layers import Conv2D, MaxPooling2D, Flatten, Dense, Dropout\n",
        "from keras.preprocessing.image import ImageDataGenerator\n",
        "import keras\n",
        "\n",
        "# It provides various tools and functions for image and video processing, including image filtering, feature detection, and object tracking.\n",
        "import cv2\n",
        "import imghdr\n",
        "import os\n",
        "\n",
        "import torch\n",
        "import torchvision\n",
        "import torchvision.transforms as transforms\n",
        "import tensorflow as tf\n",
        "\n",
        "\n",
        "\n"
      ]
    },
    {
      "cell_type": "markdown",
      "metadata": {
        "id": "375Lbwv8b64g"
      },
      "source": [
        "#Import dataset Prova"
      ]
    },
    {
      "cell_type": "code",
      "execution_count": 2,
      "metadata": {
        "id": "iMJbpe2i4UoR",
        "colab": {
          "base_uri": "https://localhost:8080/"
        },
        "outputId": "f2a54f97-6e74-4816-c596-d4117aa84abd"
      },
      "outputs": [
        {
          "output_type": "stream",
          "name": "stdout",
          "text": [
            "Mounted at /content/gdrive\n",
            "Mounted at /content/gdrive\n"
          ]
        }
      ],
      "source": [
        "from google.colab import drive\n",
        "drive.mount('/content/gdrive')\n",
        "\n",
        "#folder_id = '1pFM_HpOjh0qbAadk0-1Fz89mwLHrnQHB?usp=share_link'\n",
        "folder_id ='1uN5c1p7GkKE9xqQ3DyFbFWfRJQCTod-E?usp=share_link'\n",
        "data_path = '/content/gdrive/MyDrive/Dataset/input_data2'\n",
        "\n",
        "\n",
        "# mount the folder\n",
        "drive.mount('/content/gdrive', force_remount=True)\n",
        "\n",
        "\n"
      ]
    },
    {
      "cell_type": "markdown",
      "source": [
        "Con SUN397"
      ],
      "metadata": {
        "id": "kELggI-KO4g0"
      }
    },
    {
      "cell_type": "code",
      "source": [
        "dataset_dir = '/content/gdrive/MyDrive/Dataset/SUN397'\n",
        "classess = os.listdir(dataset_dir)\n",
        "print(len(classess))\n"
      ],
      "metadata": {
        "colab": {
          "base_uri": "https://localhost:8080/"
        },
        "id": "TGWEwXKeJAPS",
        "outputId": "47a3e6a1-91f5-4d23-c4aa-d1654c256565"
      },
      "execution_count": 3,
      "outputs": [
        {
          "output_type": "stream",
          "name": "stdout",
          "text": [
            "276\n"
          ]
        }
      ]
    },
    {
      "cell_type": "markdown",
      "source": [
        "#Dividere tramite Pytorch"
      ],
      "metadata": {
        "id": "IYUmCGVNdu7q"
      }
    },
    {
      "cell_type": "markdown",
      "source": [
        "100 ogni classe"
      ],
      "metadata": {
        "id": "mfK0mI7v3pOC"
      }
    },
    {
      "cell_type": "code",
      "source": [
        "import os\n",
        "import random\n",
        "from torchvision.datasets import ImageFolder\n",
        "from torch.utils.data import Subset\n",
        "import torch\n",
        "import torchvision.datasets as datasets\n",
        "import torchvision.transforms as transforms\n",
        "import torch.utils.data as data\n",
        "\n",
        "# Definire la trasformazione delle immagini\n",
        "transform = transforms.Compose(\n",
        "    [transforms.Resize((224, 224)),transforms.ToTensor(),\n",
        "     transforms.Normalize((0.5, 0.5, 0.5), (0.5, 0.5, 0.5))])\n",
        "\n",
        "# Definire il percorso della cartella contenente le immagini selezionate\n",
        "dataset_path = '/content/gdrive/MyDrive/Dataset/SUN397'\n",
        "\n",
        "# Creare un dataset PyTorch dalla cartella delle immagini selezionate\n",
        "dataset = ImageFolder(dataset_path, transform=transform)\n",
        "classes276 = dataset.classes\n",
        "# Creare un elenco di indici di campioni per ogni classe\n",
        "class_indices = dataset.class_to_idx\n",
        "indices = []\n",
        "for c in class_indices.values():\n",
        "    class_samples = [i for i, (_, label) in enumerate(dataset.samples) if label == c]\n",
        "    indices += random.sample(class_samples, 100)\n",
        "\n",
        "# Creare un Subset di PyTorch dataset contenente solo gli indici selezionati\n",
        "subset = Subset(dataset, indices)\n",
        "b_size=10\n",
        "\n",
        "# Dividere il Subset in train, validation e test set utilizzando random_split\n",
        "train_ratio = 0.8\n",
        "val_ratio = 0.1\n",
        "test_ratio = 0.1\n",
        "train_data = int(len(subset) * train_ratio)\n",
        "val_data = int(len(subset) * val_ratio)\n",
        "test_data = len(subset) - train_data - val_data\n",
        "train_set, val_set, test_set = data.random_split(subset, [train_data, val_data, test_data])\n",
        "\n",
        "train_loader=data.DataLoader(train_set,batch_size=b_size, shuffle=True, num_workers=2)\n",
        "validation_loader=data.DataLoader(val_set,batch_size=b_size, shuffle=False,  num_workers=2)\n",
        "test_loader=data.DataLoader(test_set,batch_size=b_size,shuffle=False, num_workers=2)\n",
        "\n",
        "\n",
        "# Stampa delle dimensioni di ogni set\n",
        "print(f\"Numero di campioni di training: {len(train_set)}\")\n",
        "print(f\"Numero di campioni di validation: {len(val_set)}\")\n",
        "print(f\"Numero di campioni di test: {len(test_set)}\")\n",
        "print(classes276)"
      ],
      "metadata": {
        "colab": {
          "base_uri": "https://localhost:8080/"
        },
        "id": "UH_0e3Sn2eRD",
        "outputId": "95862dbc-1700-4df9-c420-31e562f27f09"
      },
      "execution_count": 6,
      "outputs": [
        {
          "output_type": "stream",
          "name": "stdout",
          "text": [
            "Numero di campioni di training: 22080\n",
            "Numero di campioni di validation: 2760\n",
            "Numero di campioni di test: 2760\n",
            "['abbey', 'airplane_cabin', 'airport_terminal', 'alley', 'amphitheater', 'amusement_arcade', 'amusement_park', 'anechoic_chamber', 'apartment_building', 'apse', 'aquarium', 'aqueduct', 'arch', 'archive', 'arrival_gate', 'art_gallery', 'art_school', 'art_studio', 'assembly_line', 'attic', 'auditorium', 'auto_factory', 'badlands', 'baggage_claim', 'ball_pit', 'ballroom', 'bamboo_forest', 'banquet_hall', 'bar', 'barn', 'barndoor', 'baseball_field', 'basement', 'basilica', 'bathroom', 'batters_box', 'bayou', 'beach', 'beauty_salon', 'bedroom', 'berth', 'biology_laboratory', 'boardwalk', 'boat_deck', 'boathouse', 'bookstore', 'botanical_garden', 'bowling_alley', 'boxing_ring', 'bridge', 'building_facade', 'bullring', 'burial_chamber', 'bus_interior', 'butchers_shop', 'butte', 'cafeteria', 'campsite', 'campus', 'candy_store', 'canyon', 'carrousel', 'castle', 'catacomb', 'cemetery', 'chalet', 'cheese_factory', 'chemistry_lab', 'childs_room', 'classroom', 'clean_room', 'cliff', 'closet', 'clothing_store', 'coast', 'cockpit', 'coffee_shop', 'computer_room', 'conference_center', 'conference_room', 'construction_site', 'control_room', 'corn_field', 'corral', 'corridor', 'cottage_garden', 'courthouse', 'courtroom', 'courtyard', 'creek', 'crevasse', 'crosswalk', 'dam', 'delicatessen', 'dentists_office', 'dining_car', 'dining_room', 'discotheque', 'dock', 'dorm_room', 'driveway', 'drugstore', 'electrical_substation', 'elevator_shaft', 'engine_room', 'excavation', 'fairway', 'fastfood_restaurant', 'fire_escape', 'fire_station', 'fishpond', 'food_court', 'forest_path', 'forest_road', 'formal_garden', 'fountain', 'galley', 'game_room', 'garbage_dump', 'gas_station', 'gift_shop', 'golf_course', 'gymnasium', 'harbor', 'hayfield', 'heliport', 'herb_garden', 'highway', 'hill', 'home_office', 'hospital', 'hospital_room', 'hot_spring', 'hotel_room', 'house', 'ice_cream_parlor', 'ice_floe', 'ice_shelf', 'iceberg', 'igloo', 'industrial_area', 'islet', 'jail_cell', 'jewelry_shop', 'kasbah', 'kindergarden_classroom', 'kitchen', 'kitchenette', 'landfill', 'landing_deck', 'laundromat', 'lecture_room', 'lift_bridge', 'lighthouse', 'limousine_interior', 'living_room', 'lobby', 'lock_chamber', 'locker_room', 'mansion', 'manufactured_home', 'marsh', 'martial_arts_gym', 'mausoleum', 'medina', 'motel', 'mountain', 'mountain_snowy', 'music_store', 'music_studio', 'nursery', 'oast_house', 'ocean', 'office', 'office_building', 'oilrig', 'operating_room', 'orchard', 'pagoda', 'palace', 'pantry', 'park', 'parking_lot', 'parlor', 'pasture', 'patio', 'pavilion', 'pharmacy', 'phone_booth', 'physics_laboratory', 'picnic_area', 'playground', 'playroom', 'plaza', 'pond', 'promenade_deck', 'pulpit', 'putting_green', 'racecourse', 'raceway', 'raft', 'railroad_track', 'rainforest', 'reception', 'recreation_room', 'residential_neighborhood', 'restaurant', 'restaurant_kitchen', 'restaurant_patio', 'rice_paddy', 'riding_arena', 'river', 'rock_arch', 'rope_bridge', 'ruin', 'runway', 'sandbar', 'sandbox', 'sauna', 'schoolhouse', 'sea_cliff', 'server_room', 'shed', 'shoe_shop', 'shopfront', 'shower', 'skatepark', 'ski_lodge', 'ski_resort', 'ski_slope', 'sky', 'skyscraper', 'slum', 'snowfield', 'squash_court', 'stable', 'stage', 'staircase', 'street', 'subway_interior', 'supermarket', 'sushi_bar', 'swamp', 'television_studio', 'thriftshop', 'throne_room', 'ticket_booth', 'toll_plaza', 'topiary_garden', 'tower', 'toyshop', 'train_railway', 'tree_farm', 'tree_house', 'trench', 'utility_room', 'valley', 'van_interior', 'vegetable_garden', 'veranda', 'veterinarians_office', 'viaduct', 'videostore', 'village', 'vineyard', 'volcano', 'waiting_room', 'water_tower', 'watering_hole', 'wave', 'wet_bar', 'wheat_field', 'wind_farm', 'windmill', 'yard', 'youth_hostel']\n"
          ]
        }
      ]
    },
    {
      "cell_type": "markdown",
      "source": [
        "Tutto"
      ],
      "metadata": {
        "id": "T-jwfIfz3tmd"
      }
    },
    {
      "cell_type": "code",
      "source": [
        "import os\n",
        "import torch\n",
        "import torchvision.datasets as datasets\n",
        "import torchvision.transforms as transforms\n",
        "import torch.utils.data as data\n",
        "\n",
        "# Definisci la trasformazione delle immagini\n",
        "transform = transforms.Compose(\n",
        "    [transforms.Resize((224, 224)),transforms.ToTensor(),\n",
        "     transforms.Normalize((0.5, 0.5, 0.5), (0.5, 0.5, 0.5))])\n",
        "\n",
        "input_path='/content/gdrive/MyDrive/Dataset/SUN397'\n",
        "# Trasforma il dataset\n",
        "dataset = datasets.ImageFolder(input_path, transform=transform)\n",
        "\n",
        "#print(dataset)\n",
        "\n",
        "# Definisci le proporzioni di training, validation e test set\n",
        "train_ratio = 0.80\n",
        "val_ratio = 0.10\n",
        "test_ratio = 0.10\n",
        "\n",
        "b_size=27\n",
        "\n",
        "# Calcola le lunghezze dei subset\n",
        "train_size = int(train_ratio * len(dataset))\n",
        "val_size = int(val_ratio * len(dataset))\n",
        "test_size = len(dataset) - train_size - val_size\n",
        "\n",
        "# Dividi il dataset in training, validation e test set\n",
        "train_data, test_data, val_data = data.random_split(dataset, [train_size, test_size, val_size])\n",
        "\n",
        "train_loader=data.DataLoader(train_data,batch_size=b_size, shuffle=True, num_workers=2)\n",
        "validation_loader=data.DataLoader(val_data,batch_size=b_size, shuffle=False,  num_workers=2)\n",
        "test_loader=data.DataLoader(test_data,batch_size=b_size,shuffle=False, num_workers=2)\n",
        "\n",
        "print(len(train_data))\n",
        "print(len(val_data))\n",
        "print(len(test_data))\n",
        "\n",
        "#classes = ('airport_terminal', 'beach', 'bridge', 'forest',\n",
        "  #         'mountain', 'playground', 'river', 'skyscraper', 'street', 'temple')\n",
        "#classes = ('airport_terminal', 'beach', 'bridge','fire_station', 'forest','formal_garden','fountain','ice_skating','iceberg','lake','market',\n",
        "   #        'mountain', 'playground', 'river','rock_arch','ruin', 'skyscraper', 'street', 'temple','tennis_court')\n",
        "\n",
        "\n",
        "\n",
        "\n"
      ],
      "metadata": {
        "id": "exkgfvDEduUD"
      },
      "execution_count": null,
      "outputs": []
    },
    {
      "cell_type": "markdown",
      "source": [
        "#stampa prova"
      ],
      "metadata": {
        "id": "KLVi4dMe1h48"
      }
    },
    {
      "cell_type": "code",
      "source": [
        "import matplotlib.pyplot as plt\n",
        "import numpy as np\n",
        "\n",
        "# functions to show an image\n",
        "\n",
        "\n",
        "def imshow(img):\n",
        "    img = img / 2 + 0.5     # unnormalize\n",
        "    npimg = img.numpy()\n",
        "    plt.imshow(np.transpose(npimg, (1, 2, 0)))\n",
        "    plt.show()\n",
        "\n",
        "\n",
        "# get some random training images\n",
        "dataiter = iter(train_loader)\n",
        "images, labels = next(dataiter)\n",
        "\n",
        "# show images\n",
        "imshow(torchvision.utils.make_grid(images))\n",
        "# print labels\n",
        "print(' '.join(f'{classes[labels[j]]:5s}' for j in range(5)))"
      ],
      "metadata": {
        "id": "zrWb3BZj0F_E"
      },
      "execution_count": null,
      "outputs": []
    },
    {
      "cell_type": "markdown",
      "source": [
        "#Carico resnet50"
      ],
      "metadata": {
        "id": "gE18143K25BF"
      }
    },
    {
      "cell_type": "code",
      "source": [
        "import torch\n",
        "import torch.nn as nn\n",
        "import torch.optim as optim\n",
        "import torchvision.models as models\n",
        "\n",
        "# Load ResNet50 model\n",
        "resnet50 = models.resnet50(weights=None)\n",
        "\n",
        "\n"
      ],
      "metadata": {
        "id": "IRM685tZ9LUT"
      },
      "execution_count": 7,
      "outputs": []
    },
    {
      "cell_type": "markdown",
      "source": [
        "# Prova uso gpu"
      ],
      "metadata": {
        "id": "xGOa5GxR_cRO"
      }
    },
    {
      "cell_type": "code",
      "source": [
        "import torch\n",
        "\n",
        "if torch.cuda.is_available():\n",
        "  device = torch.device(\"cuda\")\n",
        "  print(\"Using GPU:\", torch.cuda.get_device_name(0))\n",
        "else:\n",
        "  device = torch.device(\"cpu\")\n",
        "  print(\"Using CPU\")\n",
        "print(device)\n",
        "\n",
        "# Resnet che corre su device\n",
        "resnet50.to(device)"
      ],
      "metadata": {
        "id": "goUrzNLA2uij"
      },
      "execution_count": null,
      "outputs": []
    },
    {
      "cell_type": "markdown",
      "source": [
        "# Loss e optimizer"
      ],
      "metadata": {
        "id": "slTrTI8E1yrq"
      }
    },
    {
      "cell_type": "code",
      "source": [
        "\n",
        "criterion = nn.CrossEntropyLoss()\n",
        "#optimizer = optim.SGD(resnet50.parameters(), lr=0.001, momentum=0.9)\n",
        "optimizer = optim.Adam(resnet50.parameters(), lr=0.001)"
      ],
      "metadata": {
        "id": "iFPd03VD-fSa"
      },
      "execution_count": 9,
      "outputs": []
    },
    {
      "cell_type": "markdown",
      "source": [
        "# Train"
      ],
      "metadata": {
        "id": "XvpIRJcCH_ac"
      }
    },
    {
      "cell_type": "markdown",
      "source": [
        "Inizializzo le liste per raccogliere dati"
      ],
      "metadata": {
        "id": "9sO0aofz8Pbi"
      }
    },
    {
      "cell_type": "code",
      "source": [
        "loss_values = []  # lista vuota per raccogliere i valori della loss function\n",
        "val_loss_values = []"
      ],
      "metadata": {
        "id": "5zxi-Ir88OdH"
      },
      "execution_count": 10,
      "outputs": []
    },
    {
      "cell_type": "markdown",
      "source": [
        " Carico dati"
      ],
      "metadata": {
        "id": "tbPFJDqRHjL2"
      }
    },
    {
      "cell_type": "code",
      "source": [
        "loss_values = np.load('/content/gdrive/MyDrive/Dataset/Test3/loss_Adam_001.npy').tolist()\n",
        "val_loss_values=np.load('/content/gdrive/MyDrive/Dataset/Test3/val_Adam_001.npy').tolist()"
      ],
      "metadata": {
        "id": "d3D7IqrrHjg6"
      },
      "execution_count": null,
      "outputs": []
    },
    {
      "cell_type": "markdown",
      "source": [
        "Definisco validation"
      ],
      "metadata": {
        "id": "U47fJ4LW-sF2"
      }
    },
    {
      "cell_type": "code",
      "source": [
        "def validate(model, criterion, validation_loader):\n",
        "    model.eval()\n",
        "    val_loss = 0.0\n",
        "    with torch.no_grad():\n",
        "        for data in validation_loader:\n",
        "            inputs, labels = data[0].to(device), data[1].to(device)\n",
        "            outputs = model(inputs)\n",
        "            loss = criterion(outputs, labels)\n",
        "            val_loss += loss.item()\n",
        "    return val_loss / len(validation_loader)"
      ],
      "metadata": {
        "id": "3HJpwCv--rfT"
      },
      "execution_count": 11,
      "outputs": []
    },
    {
      "cell_type": "markdown",
      "source": [
        "# Training"
      ],
      "metadata": {
        "id": "CVwmWQy5-wht"
      }
    },
    {
      "cell_type": "code",
      "source": [
        "num_epochs=15\n",
        "PATH = '/content/gdrive/MyDrive/Dataset/Test3/Adam001.pth'\n",
        "\n",
        "for epoch in range(num_epochs):  # loop over the dataset multiple times\n",
        "\n",
        "    running_loss = 0.0\n",
        "    for i, data in enumerate(train_loader, 0):\n",
        "        # get the inputs; data is a list of [inputs, labels]\n",
        "        #inputs, labels = data\n",
        "\n",
        "        #mandare inputs e a ogni passo alla gpu\n",
        "        inputs, labels = data[0].to(device), data[1].to(device)\n",
        "        # zero the parameter gradients\n",
        "        optimizer.zero_grad()\n",
        "\n",
        "        # forward + backward + optimize\n",
        "        outputs = resnet50(inputs)\n",
        "        loss = criterion(outputs, labels)\n",
        "        loss.backward()\n",
        "        optimizer.step()\n",
        "\n",
        "        # statistica\n",
        "        running_loss += loss.item()\n",
        "        if i % 200== 199: # ogni 200 batch da b_size immagini\n",
        "            # aggiungi il valore della loss alla lista\n",
        "            loss_values.append(running_loss / 200)\n",
        "            val_loss = validate(resnet50, criterion, validation_loader)\n",
        "            val_loss_values.append(val_loss)\n",
        "            print(f'[{epoch + 1},{i + 1:4d}] loss: {running_loss / 200:.3f} val_loss:{val_loss:.3f}')\n",
        "            running_loss = 0.0\n",
        "            \n",
        "            torch.save(resnet50.state_dict(), PATH)   \n",
        "print('Finished Training')"
      ],
      "metadata": {
        "id": "4ZcAPUB3adBq",
        "colab": {
          "base_uri": "https://localhost:8080/"
        },
        "outputId": "65e576ba-547c-402e-bb0e-cfd70c52dfc2"
      },
      "execution_count": 13,
      "outputs": [
        {
          "output_type": "stream",
          "name": "stdout",
          "text": [
            "[1, 200] loss: 6.579 val_loss:5.809\n",
            "[1, 400] loss: 5.691 val_loss:5.583\n",
            "[1, 600] loss: 5.539 val_loss:5.494\n",
            "[1, 800] loss: 5.434 val_loss:5.400\n",
            "[1,1000] loss: 5.372 val_loss:5.395\n",
            "[1,1200] loss: 5.362 val_loss:5.336\n",
            "[1,1400] loss: 5.313 val_loss:5.305\n",
            "[1,1600] loss: 5.276 val_loss:5.217\n",
            "[1,1800] loss: 5.201 val_loss:5.207\n",
            "[1,2000] loss: 5.177 val_loss:5.220\n",
            "[1,2200] loss: 5.133 val_loss:5.133\n",
            "[2, 200] loss: 5.075 val_loss:5.058\n",
            "[2, 400] loss: 5.007 val_loss:5.092\n",
            "[2, 600] loss: 4.902 val_loss:4.975\n",
            "[2, 800] loss: 4.937 val_loss:4.867\n",
            "[2,1000] loss: 4.883 val_loss:4.855\n",
            "[2,1200] loss: 4.785 val_loss:4.768\n",
            "[2,1400] loss: 4.792 val_loss:4.765\n",
            "[2,1600] loss: 4.715 val_loss:4.687\n",
            "[2,1800] loss: 4.697 val_loss:4.713\n",
            "[2,2000] loss: 4.704 val_loss:4.686\n",
            "[2,2200] loss: 4.616 val_loss:4.626\n",
            "[3, 200] loss: 4.539 val_loss:4.641\n",
            "[3, 400] loss: 4.496 val_loss:4.531\n",
            "[3, 600] loss: 4.416 val_loss:4.523\n",
            "[3, 800] loss: 4.435 val_loss:4.480\n",
            "[3,1000] loss: 4.484 val_loss:4.435\n",
            "[3,1200] loss: 4.358 val_loss:4.401\n",
            "[3,1400] loss: 4.382 val_loss:4.343\n",
            "[3,1600] loss: 4.320 val_loss:4.341\n",
            "[3,1800] loss: 4.305 val_loss:4.273\n",
            "[3,2000] loss: 4.259 val_loss:4.223\n",
            "[3,2200] loss: 4.219 val_loss:4.170\n",
            "[4, 200] loss: 4.066 val_loss:4.268\n",
            "[4, 400] loss: 4.045 val_loss:4.166\n",
            "[4, 600] loss: 4.025 val_loss:4.105\n",
            "[4, 800] loss: 4.016 val_loss:4.098\n",
            "[4,1000] loss: 3.991 val_loss:4.062\n",
            "[4,1200] loss: 3.957 val_loss:4.083\n",
            "[4,1400] loss: 4.008 val_loss:4.047\n",
            "[4,1600] loss: 3.966 val_loss:3.990\n",
            "[4,1800] loss: 3.871 val_loss:3.958\n",
            "[4,2000] loss: 3.938 val_loss:3.939\n",
            "[4,2200] loss: 3.917 val_loss:3.908\n",
            "[5, 200] loss: 3.621 val_loss:3.970\n",
            "[5, 400] loss: 3.634 val_loss:3.951\n",
            "[5, 600] loss: 3.750 val_loss:3.881\n",
            "[5, 800] loss: 3.635 val_loss:3.921\n",
            "[5,1000] loss: 3.642 val_loss:3.948\n",
            "[5,1200] loss: 3.650 val_loss:3.833\n",
            "[5,1400] loss: 3.621 val_loss:3.834\n",
            "[5,1600] loss: 3.627 val_loss:3.874\n",
            "[5,1800] loss: 3.569 val_loss:3.878\n",
            "[5,2000] loss: 3.650 val_loss:3.772\n",
            "[5,2200] loss: 3.573 val_loss:3.811\n",
            "[6, 200] loss: 3.237 val_loss:3.921\n",
            "[6, 400] loss: 3.316 val_loss:3.890\n",
            "[6, 600] loss: 3.292 val_loss:3.810\n",
            "[6, 800] loss: 3.382 val_loss:3.747\n",
            "[6,1000] loss: 3.320 val_loss:3.715\n",
            "[6,1200] loss: 3.271 val_loss:3.703\n",
            "[6,1400] loss: 3.279 val_loss:3.718\n",
            "[6,1600] loss: 3.318 val_loss:3.684\n",
            "[6,1800] loss: 3.326 val_loss:3.742\n",
            "[6,2000] loss: 3.297 val_loss:3.638\n",
            "[6,2200] loss: 3.358 val_loss:3.668\n",
            "[7, 200] loss: 2.867 val_loss:3.780\n",
            "[7, 400] loss: 2.924 val_loss:3.720\n",
            "[7, 600] loss: 2.965 val_loss:3.729\n",
            "[7, 800] loss: 2.943 val_loss:3.707\n",
            "[7,1000] loss: 3.037 val_loss:3.625\n",
            "[7,1200] loss: 2.968 val_loss:3.844\n",
            "[7,1400] loss: 3.037 val_loss:3.632\n",
            "[7,1600] loss: 2.911 val_loss:3.685\n",
            "[7,1800] loss: 2.973 val_loss:3.624\n",
            "[7,2000] loss: 2.960 val_loss:3.589\n",
            "[7,2200] loss: 3.039 val_loss:3.592\n",
            "[8, 200] loss: 2.476 val_loss:3.745\n",
            "[8, 400] loss: 2.475 val_loss:4.003\n",
            "[8, 600] loss: 2.584 val_loss:3.734\n",
            "[8, 800] loss: 2.524 val_loss:3.821\n",
            "[8,1000] loss: 2.557 val_loss:3.858\n",
            "[8,1200] loss: 2.518 val_loss:3.787\n",
            "[8,1400] loss: 2.592 val_loss:3.758\n",
            "[8,1600] loss: 2.576 val_loss:3.888\n",
            "[8,1800] loss: 2.551 val_loss:3.656\n",
            "[8,2000] loss: 2.613 val_loss:3.736\n",
            "[8,2200] loss: 2.562 val_loss:3.850\n",
            "[9, 200] loss: 1.805 val_loss:4.187\n",
            "[9, 400] loss: 1.987 val_loss:4.130\n",
            "[9, 600] loss: 1.942 val_loss:4.121\n",
            "[9, 800] loss: 1.996 val_loss:4.026\n",
            "[9,1000] loss: 2.060 val_loss:4.079\n",
            "[9,1200] loss: 2.023 val_loss:4.046\n",
            "[9,1400] loss: 2.079 val_loss:4.109\n",
            "[9,1600] loss: 2.089 val_loss:4.086\n",
            "[9,1800] loss: 2.107 val_loss:4.088\n",
            "[9,2000] loss: 2.086 val_loss:4.173\n",
            "[9,2200] loss: 2.102 val_loss:4.067\n",
            "[10, 200] loss: 1.232 val_loss:4.834\n",
            "[10, 400] loss: 1.367 val_loss:4.656\n",
            "[10, 600] loss: 1.408 val_loss:4.675\n",
            "[10, 800] loss: 1.411 val_loss:4.667\n",
            "[10,1000] loss: 1.400 val_loss:4.796\n",
            "[10,1200] loss: 1.408 val_loss:4.610\n",
            "[10,1400] loss: 1.511 val_loss:4.816\n",
            "[10,1600] loss: 1.498 val_loss:4.548\n",
            "[10,1800] loss: 1.565 val_loss:4.606\n",
            "[10,2000] loss: 1.521 val_loss:4.379\n",
            "[10,2200] loss: 1.524 val_loss:4.829\n",
            "[11, 200] loss: 0.703 val_loss:5.645\n",
            "[11, 400] loss: 0.715 val_loss:5.865\n",
            "[11, 600] loss: 0.828 val_loss:5.383\n",
            "[11, 800] loss: 0.895 val_loss:5.436\n",
            "[11,1000] loss: 0.892 val_loss:5.637\n",
            "[11,1200] loss: 0.958 val_loss:5.419\n",
            "[11,1400] loss: 0.923 val_loss:5.613\n",
            "[11,1600] loss: 1.032 val_loss:5.803\n",
            "[11,1800] loss: 1.144 val_loss:5.501\n",
            "[11,2000] loss: 1.085 val_loss:5.347\n",
            "[11,2200] loss: 1.118 val_loss:5.227\n",
            "[12, 200] loss: 0.381 val_loss:6.492\n",
            "[12, 400] loss: 0.457 val_loss:6.462\n",
            "[12, 600] loss: 0.563 val_loss:6.220\n",
            "[12, 800] loss: 0.602 val_loss:5.937\n",
            "[12,1000] loss: 0.621 val_loss:6.300\n",
            "[12,1200] loss: 0.656 val_loss:6.368\n",
            "[12,1400] loss: 0.740 val_loss:6.095\n",
            "[12,1600] loss: 0.777 val_loss:6.230\n",
            "[12,1800] loss: 0.815 val_loss:5.783\n",
            "[12,2000] loss: 0.780 val_loss:6.134\n",
            "[12,2200] loss: 0.753 val_loss:6.245\n",
            "[13, 200] loss: 0.339 val_loss:6.619\n",
            "[13, 400] loss: 0.302 val_loss:7.298\n",
            "[13, 600] loss: 0.413 val_loss:7.250\n",
            "[13, 800] loss: 0.485 val_loss:7.390\n",
            "[13,1000] loss: 0.556 val_loss:6.541\n",
            "[13,1200] loss: 0.538 val_loss:6.773\n",
            "[13,1400] loss: 0.549 val_loss:6.941\n",
            "[13,1600] loss: 0.629 val_loss:6.657\n",
            "[13,1800] loss: 0.662 val_loss:6.516\n",
            "[13,2000] loss: 0.579 val_loss:6.429\n",
            "[13,2200] loss: 0.575 val_loss:6.715\n",
            "[14, 200] loss: 0.235 val_loss:7.612\n",
            "[14, 400] loss: 0.341 val_loss:7.059\n",
            "[14, 600] loss: 0.358 val_loss:7.686\n",
            "[14, 800] loss: 0.451 val_loss:6.768\n",
            "[14,1000] loss: 0.471 val_loss:6.671\n",
            "[14,1200] loss: 0.436 val_loss:6.766\n",
            "[14,1400] loss: 0.521 val_loss:6.913\n",
            "[14,1600] loss: 0.488 val_loss:6.900\n",
            "[14,1800] loss: 0.518 val_loss:6.663\n",
            "[14,2000] loss: 0.505 val_loss:6.982\n",
            "[14,2200] loss: 0.563 val_loss:6.651\n",
            "[15, 200] loss: 0.212 val_loss:7.330\n",
            "[15, 400] loss: 0.205 val_loss:8.067\n",
            "[15, 600] loss: 0.340 val_loss:7.572\n",
            "[15, 800] loss: 0.302 val_loss:7.532\n",
            "[15,1000] loss: 0.343 val_loss:7.866\n",
            "[15,1200] loss: 0.451 val_loss:7.221\n",
            "[15,1400] loss: 0.415 val_loss:7.065\n",
            "[15,1600] loss: 0.421 val_loss:7.617\n",
            "[15,1800] loss: 0.438 val_loss:7.458\n",
            "[15,2000] loss: 0.439 val_loss:7.285\n",
            "[15,2200] loss: 0.427 val_loss:7.472\n",
            "Finished Training\n"
          ]
        }
      ]
    },
    {
      "cell_type": "markdown",
      "source": [
        "# Salvo dati"
      ],
      "metadata": {
        "id": "Cjr4X6WDDago"
      }
    },
    {
      "cell_type": "code",
      "source": [
        "np.save('/content/gdrive/MyDrive/Dataset/Test3/loss_Adam_001.npy', loss_values)\n",
        "np.save('/content/gdrive/MyDrive/Dataset/Test3/val_Adam_001.npy', val_loss_values)"
      ],
      "metadata": {
        "id": "bpMN_tGxDZYn"
      },
      "execution_count": 22,
      "outputs": []
    },
    {
      "cell_type": "markdown",
      "source": [
        "# Stampo loss function"
      ],
      "metadata": {
        "id": "utrwg-_J0ndl"
      }
    },
    {
      "cell_type": "code",
      "source": [
        "# creo grafico lineare\n",
        "plt.plot(loss_values)\n",
        "plt.plot(val_loss_values)\n",
        "\n",
        "# titolo e assi\n",
        "plt.title('Loss/Val Function')\n",
        "plt.xlabel('200Batch')\n",
        "plt.ylabel('Loss')\n",
        "\n",
        "plt.legend(['loss','val_loss'],loc='upper right')\n",
        "plt.show()"
      ],
      "metadata": {
        "colab": {
          "base_uri": "https://localhost:8080/",
          "height": 295
        },
        "id": "UgvH06vG0nzQ",
        "outputId": "fd53f31b-afeb-41e6-ff03-ff295454befa"
      },
      "execution_count": 16,
      "outputs": [
        {
          "output_type": "display_data",
          "data": {
            "text/plain": [
              "<Figure size 432x288 with 1 Axes>"
            ],
            "image/png": "[encoded data removed]"
          },
          "metadata": {
            "needs_background": "light"
          }
        }
      ]
    },
    {
      "cell_type": "markdown",
      "source": [
        "# Salvo il modello dopo il training"
      ],
      "metadata": {
        "id": "-Yxolou9U1qW"
      }
    },
    {
      "cell_type": "code",
      "source": [
        "PATH = '/content/gdrive/MyDrive/Dataset/Test3/Adam001.pth'\n",
        "torch.save(resnet50.state_dict(), PATH)"
      ],
      "metadata": {
        "id": "xZ2k8dnJUZA5"
      },
      "execution_count": 21,
      "outputs": []
    },
    {
      "cell_type": "markdown",
      "source": [
        "# Carico modello salvato precedentemente"
      ],
      "metadata": {
        "id": "3aVgGiqXHMLP"
      }
    },
    {
      "cell_type": "code",
      "source": [
        "resnet50 = models.resnet50(weights=None)\n",
        "PATH = '/content/gdrive/MyDrive/Dataset/2_SGD_001/resnet50lr001.pth'\n",
        "# Carico i pesi salvati precedentemente\n",
        "resnet50.load_state_dict(torch.load(PATH))\n",
        "resnet50.to(device)"
      ],
      "metadata": {
        "id": "1O_wH4PFF9bm"
      },
      "execution_count": null,
      "outputs": []
    },
    {
      "cell_type": "markdown",
      "source": [
        "# Uso modello su test"
      ],
      "metadata": {
        "id": "TBWV-sdyU87w"
      }
    },
    {
      "cell_type": "code",
      "execution_count": 19,
      "metadata": {
        "colab": {
          "base_uri": "https://localhost:8080/"
        },
        "id": "_rBlo09ahpRF",
        "outputId": "3f545a14-9a28-458d-9321-d8bbc22789a1"
      },
      "outputs": [
        {
          "output_type": "stream",
          "name": "stdout",
          "text": [
            "Accuracy of the model on the test images: 16.27%\n"
          ]
        }
      ],
      "source": [
        "\n",
        "correct = 0\n",
        "total = 0\n",
        "with torch.no_grad():\n",
        "    for images, labels in test_loader:\n",
        "        images, labels = images.to(device), labels.to(device)\n",
        "        outputs = resnet50(images)\n",
        "        _, predicted = torch.max(outputs.data, 1)\n",
        "        total += labels.size(0)\n",
        "        correct += (predicted == labels).sum().item()\n",
        "    \n",
        "accuracy = 100 * correct / total\n",
        "print('Accuracy of the model on the test images: {:.2f}%'.format(accuracy))"
      ]
    },
    {
      "cell_type": "markdown",
      "source": [
        "#Classi peggiori e migliori"
      ],
      "metadata": {
        "id": "6X7mytwB0FGW"
      }
    },
    {
      "cell_type": "code",
      "source": [
        "# prepare to count predictions for each class\n",
        "correct_pred = {classname: 0 for classname in classes276}\n",
        "total_pred = {classname: 0 for classname in classes276}\n",
        "\n",
        "# again no gradients needed\n",
        "with torch.no_grad():\n",
        "    for data in test_loader:\n",
        "        images, labels = data[0].to(device), data[1].to(device)\n",
        "        outputs = resnet50(images)\n",
        "        _, predictions = torch.max(outputs, 1)\n",
        "        # collect the correct predictions for each class\n",
        "        for label, prediction in zip(labels, predictions):\n",
        "            if label == prediction:\n",
        "                correct_pred[classes276[label]] += 1\n",
        "            total_pred[classes276[label]] += 1\n",
        "\n",
        "\n",
        "# print accuracy for each class in descending order of accuracy\n",
        "for classname, correct_count in sorted(correct_pred.items(), key=lambda x: x[1], reverse=True):\n",
        "    accuracy = 100 * float(correct_count) / total_pred[classname]\n",
        "    print(f'Accuracy for class: {classname:5s} is {accuracy:.1f} %')\n",
        "\n",
        "# calculate overall accuracy\n",
        "total_correct = sum(correct_pred.values())\n",
        "total = sum(total_pred.values())\n",
        "overall_accuracy = 100 * float(total_correct) / total\n",
        "print(f'\\nOverall accuracy is {overall_accuracy:.1f} %')\n"
      ],
      "metadata": {
        "colab": {
          "base_uri": "https://localhost:8080/"
        },
        "id": "nw01na2R0EW9",
        "outputId": "423b0ae7-6336-46b7-d42c-5a854736b194"
      },
      "execution_count": 20,
      "outputs": [
        {
          "output_type": "stream",
          "name": "stdout",
          "text": [
            "Accuracy for class: ski_resort is 60.0 %\n",
            "Accuracy for class: batters_box is 66.7 %\n",
            "Accuracy for class: rock_arch is 80.0 %\n",
            "Accuracy for class: shower is 47.1 %\n",
            "Accuracy for class: wave  is 53.3 %\n",
            "Accuracy for class: riding_arena is 77.8 %\n",
            "Accuracy for class: basilica is 50.0 %\n",
            "Accuracy for class: igloo is 75.0 %\n",
            "Accuracy for class: landing_deck is 42.9 %\n",
            "Accuracy for class: pagoda is 54.5 %\n",
            "Accuracy for class: raft  is 60.0 %\n",
            "Accuracy for class: railroad_track is 54.5 %\n",
            "Accuracy for class: rainforest is 60.0 %\n",
            "Accuracy for class: badlands is 38.5 %\n",
            "Accuracy for class: bamboo_forest is 83.3 %\n",
            "Accuracy for class: fairway is 41.7 %\n",
            "Accuracy for class: kasbah is 45.5 %\n",
            "Accuracy for class: sauna is 55.6 %\n",
            "Accuracy for class: ball_pit is 50.0 %\n",
            "Accuracy for class: barndoor is 40.0 %\n",
            "Accuracy for class: boardwalk is 25.0 %\n",
            "Accuracy for class: catacomb is 40.0 %\n",
            "Accuracy for class: cemetery is 57.1 %\n",
            "Accuracy for class: corn_field is 36.4 %\n",
            "Accuracy for class: dining_car is 28.6 %\n",
            "Accuracy for class: forest_road is 40.0 %\n",
            "Accuracy for class: jail_cell is 50.0 %\n",
            "Accuracy for class: ocean is 57.1 %\n",
            "Accuracy for class: phone_booth is 50.0 %\n",
            "Accuracy for class: runway is 33.3 %\n",
            "Accuracy for class: ski_slope is 30.8 %\n",
            "Accuracy for class: sky   is 40.0 %\n",
            "Accuracy for class: street is 23.5 %\n",
            "Accuracy for class: wheat_field is 33.3 %\n",
            "Accuracy for class: alley is 42.9 %\n",
            "Accuracy for class: auditorium is 25.0 %\n",
            "Accuracy for class: auto_factory is 25.0 %\n",
            "Accuracy for class: banquet_hall is 23.1 %\n",
            "Accuracy for class: bookstore is 18.8 %\n",
            "Accuracy for class: bullring is 33.3 %\n",
            "Accuracy for class: butchers_shop is 30.0 %\n",
            "Accuracy for class: canyon is 42.9 %\n",
            "Accuracy for class: electrical_substation is 27.3 %\n",
            "Accuracy for class: hayfield is 60.0 %\n",
            "Accuracy for class: ice_floe is 27.3 %\n",
            "Accuracy for class: manufactured_home is 42.9 %\n",
            "Accuracy for class: martial_arts_gym is 27.3 %\n",
            "Accuracy for class: parking_lot is 37.5 %\n",
            "Accuracy for class: picnic_area is 21.4 %\n",
            "Accuracy for class: shed  is 50.0 %\n",
            "Accuracy for class: skatepark is 42.9 %\n",
            "Accuracy for class: slum  is 33.3 %\n",
            "Accuracy for class: stable is 17.6 %\n",
            "Accuracy for class: subway_interior is 30.0 %\n",
            "Accuracy for class: valley is 33.3 %\n",
            "Accuracy for class: van_interior is 30.0 %\n",
            "Accuracy for class: veranda is 20.0 %\n",
            "Accuracy for class: wind_farm is 27.3 %\n",
            "Accuracy for class: youth_hostel is 27.3 %\n",
            "Accuracy for class: aquarium is 20.0 %\n",
            "Accuracy for class: aqueduct is 18.2 %\n",
            "Accuracy for class: arrival_gate is 22.2 %\n",
            "Accuracy for class: bar   is 16.7 %\n",
            "Accuracy for class: bayou is 22.2 %\n",
            "Accuracy for class: biology_laboratory is 25.0 %\n",
            "Accuracy for class: boat_deck is 18.2 %\n",
            "Accuracy for class: burial_chamber is 20.0 %\n",
            "Accuracy for class: butte is 16.7 %\n",
            "Accuracy for class: cafeteria is 50.0 %\n",
            "Accuracy for class: carrousel is 15.4 %\n",
            "Accuracy for class: castle is 15.4 %\n",
            "Accuracy for class: coast is 20.0 %\n",
            "Accuracy for class: cockpit is 25.0 %\n",
            "Accuracy for class: courthouse is 25.0 %\n",
            "Accuracy for class: courtyard is 14.3 %\n",
            "Accuracy for class: crevasse is 20.0 %\n",
            "Accuracy for class: crosswalk is 14.3 %\n",
            "Accuracy for class: drugstore is 16.7 %\n",
            "Accuracy for class: elevator_shaft is 22.2 %\n",
            "Accuracy for class: excavation is 18.2 %\n",
            "Accuracy for class: fire_station is 40.0 %\n",
            "Accuracy for class: forest_path is 28.6 %\n",
            "Accuracy for class: garbage_dump is 20.0 %\n",
            "Accuracy for class: gas_station is 22.2 %\n",
            "Accuracy for class: golf_course is 28.6 %\n",
            "Accuracy for class: gymnasium is 16.7 %\n",
            "Accuracy for class: highway is 25.0 %\n",
            "Accuracy for class: ice_shelf is 20.0 %\n",
            "Accuracy for class: iceberg is 25.0 %\n",
            "Accuracy for class: industrial_area is 25.0 %\n",
            "Accuracy for class: landfill is 40.0 %\n",
            "Accuracy for class: lift_bridge is 13.3 %\n",
            "Accuracy for class: lighthouse is 13.3 %\n",
            "Accuracy for class: lock_chamber is 22.2 %\n",
            "Accuracy for class: oast_house is 20.0 %\n",
            "Accuracy for class: oilrig is 20.0 %\n",
            "Accuracy for class: pantry is 33.3 %\n",
            "Accuracy for class: park  is 15.4 %\n",
            "Accuracy for class: pasture is 14.3 %\n",
            "Accuracy for class: pavilion is 20.0 %\n",
            "Accuracy for class: playground is 28.6 %\n",
            "Accuracy for class: pond  is 15.4 %\n",
            "Accuracy for class: promenade_deck is 18.2 %\n",
            "Accuracy for class: pulpit is 15.4 %\n",
            "Accuracy for class: sandbar is 28.6 %\n",
            "Accuracy for class: sea_cliff is 11.1 %\n",
            "Accuracy for class: shopfront is 20.0 %\n",
            "Accuracy for class: ski_lodge is 15.4 %\n",
            "Accuracy for class: snowfield is 12.5 %\n",
            "Accuracy for class: throne_room is 16.7 %\n",
            "Accuracy for class: toll_plaza is 14.3 %\n",
            "Accuracy for class: tower is 22.2 %\n",
            "Accuracy for class: tree_farm is 20.0 %\n",
            "Accuracy for class: tree_house is 13.3 %\n",
            "Accuracy for class: vegetable_garden is 10.5 %\n",
            "Accuracy for class: veterinarians_office is 25.0 %\n",
            "Accuracy for class: windmill is 40.0 %\n",
            "Accuracy for class: airplane_cabin is 20.0 %\n",
            "Accuracy for class: amusement_park is 11.1 %\n",
            "Accuracy for class: anechoic_chamber is 11.1 %\n",
            "Accuracy for class: apartment_building is 14.3 %\n",
            "Accuracy for class: arch  is 11.1 %\n",
            "Accuracy for class: art_gallery is 7.1 %\n",
            "Accuracy for class: art_school is 7.7 %\n",
            "Accuracy for class: art_studio is 8.3 %\n",
            "Accuracy for class: attic is 8.3 %\n",
            "Accuracy for class: baggage_claim is 7.1 %\n",
            "Accuracy for class: barn  is 25.0 %\n",
            "Accuracy for class: beach is 7.1 %\n",
            "Accuracy for class: beauty_salon is 12.5 %\n",
            "Accuracy for class: bedroom is 8.3 %\n",
            "Accuracy for class: boxing_ring is 12.5 %\n",
            "Accuracy for class: bus_interior is 9.1 %\n",
            "Accuracy for class: childs_room is 25.0 %\n",
            "Accuracy for class: clean_room is 8.3 %\n",
            "Accuracy for class: cliff is 16.7 %\n",
            "Accuracy for class: coffee_shop is 6.7 %\n",
            "Accuracy for class: computer_room is 12.5 %\n",
            "Accuracy for class: conference_center is 10.0 %\n",
            "Accuracy for class: corral is 14.3 %\n",
            "Accuracy for class: corridor is 100.0 %\n",
            "Accuracy for class: cottage_garden is 16.7 %\n",
            "Accuracy for class: courtroom is 10.0 %\n",
            "Accuracy for class: creek is 14.3 %\n",
            "Accuracy for class: delicatessen is 11.1 %\n",
            "Accuracy for class: discotheque is 11.1 %\n",
            "Accuracy for class: dock  is 7.7 %\n",
            "Accuracy for class: fastfood_restaurant is 12.5 %\n",
            "Accuracy for class: fishpond is 9.1 %\n",
            "Accuracy for class: formal_garden is 9.1 %\n",
            "Accuracy for class: galley is 11.1 %\n",
            "Accuracy for class: gift_shop is 10.0 %\n",
            "Accuracy for class: harbor is 12.5 %\n",
            "Accuracy for class: herb_garden is 12.5 %\n",
            "Accuracy for class: hill  is 9.1 %\n",
            "Accuracy for class: hospital is 11.1 %\n",
            "Accuracy for class: hot_spring is 7.7 %\n",
            "Accuracy for class: hotel_room is 7.1 %\n",
            "Accuracy for class: ice_cream_parlor is 10.0 %\n",
            "Accuracy for class: islet is 12.5 %\n",
            "Accuracy for class: limousine_interior is 7.7 %\n",
            "Accuracy for class: living_room is 7.1 %\n",
            "Accuracy for class: lobby is 12.5 %\n",
            "Accuracy for class: mausoleum is 5.9 %\n",
            "Accuracy for class: medina is 9.1 %\n",
            "Accuracy for class: motel is 7.7 %\n",
            "Accuracy for class: music_store is 7.1 %\n",
            "Accuracy for class: music_studio is 25.0 %\n",
            "Accuracy for class: nursery is 10.0 %\n",
            "Accuracy for class: office is 8.3 %\n",
            "Accuracy for class: patio is 8.3 %\n",
            "Accuracy for class: physics_laboratory is 14.3 %\n",
            "Accuracy for class: playroom is 11.1 %\n",
            "Accuracy for class: putting_green is 12.5 %\n",
            "Accuracy for class: racecourse is 16.7 %\n",
            "Accuracy for class: raceway is 10.0 %\n",
            "Accuracy for class: reception is 10.0 %\n",
            "Accuracy for class: residential_neighborhood is 16.7 %\n",
            "Accuracy for class: restaurant_patio is 12.5 %\n",
            "Accuracy for class: rice_paddy is 10.0 %\n",
            "Accuracy for class: rope_bridge is 11.1 %\n",
            "Accuracy for class: ruin  is 16.7 %\n",
            "Accuracy for class: sandbox is 8.3 %\n",
            "Accuracy for class: server_room is 8.3 %\n",
            "Accuracy for class: skyscraper is 9.1 %\n",
            "Accuracy for class: squash_court is 10.0 %\n",
            "Accuracy for class: supermarket is 14.3 %\n",
            "Accuracy for class: sushi_bar is 6.7 %\n",
            "Accuracy for class: thriftshop is 10.0 %\n",
            "Accuracy for class: train_railway is 20.0 %\n",
            "Accuracy for class: trench is 16.7 %\n",
            "Accuracy for class: village is 8.3 %\n",
            "Accuracy for class: vineyard is 12.5 %\n",
            "Accuracy for class: volcano is 16.7 %\n",
            "Accuracy for class: water_tower is 12.5 %\n",
            "Accuracy for class: wet_bar is 33.3 %\n",
            "Accuracy for class: abbey is 0.0 %\n",
            "Accuracy for class: airport_terminal is 0.0 %\n",
            "Accuracy for class: amphitheater is 0.0 %\n",
            "Accuracy for class: amusement_arcade is 0.0 %\n",
            "Accuracy for class: apse  is 0.0 %\n",
            "Accuracy for class: archive is 0.0 %\n",
            "Accuracy for class: assembly_line is 0.0 %\n",
            "Accuracy for class: ballroom is 0.0 %\n",
            "Accuracy for class: baseball_field is 0.0 %\n",
            "Accuracy for class: basement is 0.0 %\n",
            "Accuracy for class: bathroom is 0.0 %\n",
            "Accuracy for class: berth is 0.0 %\n",
            "Accuracy for class: boathouse is 0.0 %\n",
            "Accuracy for class: botanical_garden is 0.0 %\n",
            "Accuracy for class: bowling_alley is 0.0 %\n",
            "Accuracy for class: bridge is 0.0 %\n",
            "Accuracy for class: building_facade is 0.0 %\n",
            "Accuracy for class: campsite is 0.0 %\n",
            "Accuracy for class: campus is 0.0 %\n",
            "Accuracy for class: candy_store is 0.0 %\n",
            "Accuracy for class: chalet is 0.0 %\n",
            "Accuracy for class: cheese_factory is 0.0 %\n",
            "Accuracy for class: chemistry_lab is 0.0 %\n",
            "Accuracy for class: classroom is 0.0 %\n",
            "Accuracy for class: closet is 0.0 %\n",
            "Accuracy for class: clothing_store is 0.0 %\n",
            "Accuracy for class: conference_room is 0.0 %\n",
            "Accuracy for class: construction_site is 0.0 %\n",
            "Accuracy for class: control_room is 0.0 %\n",
            "Accuracy for class: dam   is 0.0 %\n",
            "Accuracy for class: dentists_office is 0.0 %\n",
            "Accuracy for class: dining_room is 0.0 %\n",
            "Accuracy for class: dorm_room is 0.0 %\n",
            "Accuracy for class: driveway is 0.0 %\n",
            "Accuracy for class: engine_room is 0.0 %\n",
            "Accuracy for class: fire_escape is 0.0 %\n",
            "Accuracy for class: food_court is 0.0 %\n",
            "Accuracy for class: fountain is 0.0 %\n",
            "Accuracy for class: game_room is 0.0 %\n",
            "Accuracy for class: heliport is 0.0 %\n",
            "Accuracy for class: home_office is 0.0 %\n",
            "Accuracy for class: hospital_room is 0.0 %\n",
            "Accuracy for class: house is 0.0 %\n",
            "Accuracy for class: jewelry_shop is 0.0 %\n",
            "Accuracy for class: kindergarden_classroom is 0.0 %\n",
            "Accuracy for class: kitchen is 0.0 %\n",
            "Accuracy for class: kitchenette is 0.0 %\n",
            "Accuracy for class: laundromat is 0.0 %\n",
            "Accuracy for class: lecture_room is 0.0 %\n",
            "Accuracy for class: locker_room is 0.0 %\n",
            "Accuracy for class: mansion is 0.0 %\n",
            "Accuracy for class: marsh is 0.0 %\n",
            "Accuracy for class: mountain is 0.0 %\n",
            "Accuracy for class: mountain_snowy is 0.0 %\n",
            "Accuracy for class: office_building is 0.0 %\n",
            "Accuracy for class: operating_room is 0.0 %\n",
            "Accuracy for class: orchard is 0.0 %\n",
            "Accuracy for class: palace is 0.0 %\n",
            "Accuracy for class: parlor is 0.0 %\n",
            "Accuracy for class: pharmacy is 0.0 %\n",
            "Accuracy for class: plaza is 0.0 %\n",
            "Accuracy for class: recreation_room is 0.0 %\n",
            "Accuracy for class: restaurant is 0.0 %\n",
            "Accuracy for class: restaurant_kitchen is 0.0 %\n",
            "Accuracy for class: river is 0.0 %\n",
            "Accuracy for class: schoolhouse is 0.0 %\n",
            "Accuracy for class: shoe_shop is 0.0 %\n",
            "Accuracy for class: stage is 0.0 %\n",
            "Accuracy for class: staircase is 0.0 %\n",
            "Accuracy for class: swamp is 0.0 %\n",
            "Accuracy for class: television_studio is 0.0 %\n",
            "Accuracy for class: ticket_booth is 0.0 %\n",
            "Accuracy for class: topiary_garden is 0.0 %\n",
            "Accuracy for class: toyshop is 0.0 %\n",
            "Accuracy for class: utility_room is 0.0 %\n",
            "Accuracy for class: viaduct is 0.0 %\n",
            "Accuracy for class: videostore is 0.0 %\n",
            "Accuracy for class: waiting_room is 0.0 %\n",
            "Accuracy for class: watering_hole is 0.0 %\n",
            "Accuracy for class: yard  is 0.0 %\n",
            "\n",
            "Overall accuracy is 16.3 %\n"
          ]
        }
      ]
    },
    {
      "cell_type": "markdown",
      "source": [
        "# Test con immagini"
      ],
      "metadata": {
        "id": "qeVSZ8V9GRW7"
      }
    },
    {
      "cell_type": "code",
      "source": [
        "dataiter = iter(test_loader)\n",
        "images, labels = next(dataiter)\n",
        "\n",
        "imshow(torchvision.utils.make_grid(images))\n",
        "print('GroundTruth: ', ' '.join(f'{classes276[labels[j]]:5s}' for j in range(4)))"
      ],
      "metadata": {
        "colab": {
          "base_uri": "https://localhost:8080/",
          "height": 136
        },
        "id": "2MFuRFeHGp1m",
        "outputId": "1582090e-eef0-455e-9da8-5fa9cf84f9a1"
      },
      "execution_count": null,
      "outputs": [
        {
          "output_type": "display_data",
          "data": {
            "text/plain": [
              "<Figure size 432x288 with 1 Axes>"
            ],
            "image/png": "[encoded data removed]"
          },
          "metadata": {
            "needs_background": "light"
          }
        },
        {
          "output_type": "stream",
          "name": "stdout",
          "text": [
            "GroundTruth:  skyscraper skyscraper bridge bridge\n"
          ]
        }
      ]
    },
    {
      "cell_type": "code",
      "source": [
        "images = images.to(device)\n",
        "outputs = resnet50(images)\n",
        "_, predicted = torch.max(outputs, 1)\n",
        "\n",
        "print('Predicted: ', ' '.join(f'{classes[predicted[j]]:5s}'\n",
        "                              for j in range(4)))"
      ],
      "metadata": {
        "colab": {
          "base_uri": "https://localhost:8080/"
        },
        "id": "kWrZND_pGaUn",
        "outputId": "b519bd76-f6c7-4bec-c0ed-9a61093bec08"
      },
      "execution_count": null,
      "outputs": [
        {
          "output_type": "stream",
          "name": "stdout",
          "text": [
            "Predicted:  skyscraper mountain playground mountain\n"
          ]
        }
      ]
    }
  ],
  "metadata": {
    "colab": {
      "provenance": [],
      "collapsed_sections": [
        "KLVi4dMe1h48"
      ],
      "authorship_tag": "ABX9TyPglfOLmsLu89ROFfM2E9eo",
      "include_colab_link": true
    },
    "kernelspec": {
      "display_name": "Python 3",
      "name": "python3"
    },
    "language_info": {
      "name": "python"
    },
    "gpuClass": "standard",
    "accelerator": "GPU"
  },
  "nbformat": 4,
  "nbformat_minor": 0
}