{
  "cells": [
    {
      "cell_type": "markdown",
      "metadata": {
        "id": "view-in-github",
        "colab_type": "text"
      },
      "source": [
        "<a href=\"https://colab.research.google.com/github/matibag1714977/LabiagiProject/blob/main/Progetto.ipynb\" target=\"_parent\"><img src=\"https://colab.research.google.com/assets/colab-badge.svg\" alt=\"Open In Colab\"/></a>"
      ]
    },
    {
      "cell_type": "markdown",
      "metadata": {
        "id": "S1kS8KmI4OEV"
      },
      "source": [
        "# **Progetto-Scene Classification**"
      ]
    },
    {
      "cell_type": "markdown",
      "metadata": {
        "id": "wuLIneGUQ0WZ"
      },
      "source": [
        "#Import vari"
      ]
    },
    {
      "cell_type": "code",
      "execution_count": 2,
      "metadata": {
        "id": "j3iBMU-v4Tl0"
      },
      "outputs": [],
      "source": [
        "import numpy as np      #to perform mathematical operations on arrays and matrices\n",
        "import matplotlib.pyplot as plt  #to visualize images and plot graphs\n",
        "\n",
        "#provides algoithms and tools for data analysis and modeling(classification,regression,clustering)\n",
        "from sklearn.model_selection import train_test_split        \n",
        "from sklearn.metrics import accuracy_score, classification_report, confusion_matrix\n",
        "from sklearn.preprocessing import StandardScaler\n",
        "\n",
        "#It provides a user-friendly interface for building and training deep learning models\n",
        "from keras.models import Sequential\n",
        "from keras.layers import Conv2D, MaxPooling2D, Flatten, Dense, Dropout\n",
        "from keras.preprocessing.image import ImageDataGenerator\n",
        "import keras\n",
        "\n",
        "# It provides various tools and functions for image and video processing, including image filtering, feature detection, and object tracking.\n",
        "import cv2\n",
        "import imghdr\n",
        "import os\n",
        "\n",
        "import torch\n",
        "import torchvision\n",
        "import torchvision.transforms as transforms\n",
        "import tensorflow as tf\n",
        "\n",
        "\n",
        "\n"
      ]
    },
    {
      "cell_type": "markdown",
      "metadata": {
        "id": "375Lbwv8b64g"
      },
      "source": [
        "#Import dataset Prova"
      ]
    },
    {
      "cell_type": "code",
      "execution_count": 3,
      "metadata": {
        "colab": {
          "base_uri": "https://localhost:8080/"
        },
        "id": "iMJbpe2i4UoR",
        "outputId": "92a86463-010e-4431-ac1d-38531991fefb"
      },
      "outputs": [
        {
          "output_type": "stream",
          "name": "stdout",
          "text": [
            "Mounted at /content/gdrive\n",
            "Mounted at /content/gdrive\n"
          ]
        }
      ],
      "source": [
        "from google.colab import drive\n",
        "drive.mount('/content/gdrive')\n",
        "\n",
        "folder_id = '1pFM_HpOjh0qbAadk0-1Fz89mwLHrnQHB?usp=share_link'\n",
        "data_path = '/content/gdrive/MyDrive/Dataset/input_data'\n",
        "\n",
        "\n",
        "# mount the folder\n",
        "drive.mount('/content/gdrive', force_remount=True)\n",
        "\n",
        "\n"
      ]
    },
    {
      "cell_type": "markdown",
      "source": [
        "#Dividere tramite Pytorch"
      ],
      "metadata": {
        "id": "IYUmCGVNdu7q"
      }
    },
    {
      "cell_type": "code",
      "source": [
        "import os\n",
        "import torch\n",
        "import torchvision.datasets as datasets\n",
        "import torchvision.transforms as transforms\n",
        "import torch.utils.data as data\n",
        "\n",
        "# Definisci la trasformazione delle immagini\n",
        "transform = transforms.Compose(\n",
        "    [transforms.Resize((224, 224)),transforms.ToTensor(),\n",
        "     transforms.Normalize((0.5, 0.5, 0.5), (0.5, 0.5, 0.5))])\n",
        "\n",
        "input_path='/content/gdrive/MyDrive/Dataset/input_data'\n",
        "# Trasforma il dataset\n",
        "dataset = datasets.ImageFolder(input_path, transform=transform)\n",
        "\n",
        "print(dataset)\n",
        "\n",
        "# Definisci le proporzioni di training, validation e test set\n",
        "train_ratio = 0.80\n",
        "val_ratio = 0.10\n",
        "test_ratio = 0.10\n",
        "\n",
        "b_size=5\n",
        "\n",
        "# Calcola le lunghezze dei subset\n",
        "train_size = int(train_ratio * len(dataset))\n",
        "val_size = int(val_ratio * len(dataset))\n",
        "test_size = len(dataset) - train_size - val_size\n",
        "\n",
        "# Dividi il dataset in training, validation e test set\n",
        "train_data, test_data, val_data = data.random_split(dataset, [train_size, test_size, val_size])\n",
        "\n",
        "train_loader=data.DataLoader(train_data,batch_size=b_size, shuffle=True, num_workers=2)\n",
        "validation_loader=data.DataLoader(val_data,batch_size=b_size, shuffle=False,  num_workers=2)\n",
        "test_loader=data.DataLoader(test_data,batch_size=b_size,shuffle=False, num_workers=2)\n",
        "\n",
        "print(len(train_data))\n",
        "print(len(val_data))\n",
        "print(len(test_data))\n",
        "\n",
        "classes = ('airport_terminal', 'beach', 'bridge', 'forest',\n",
        "           'mountain', 'playground', 'river', 'skyscraper', 'street', 'temple')\n",
        "#classes = ('airport_terminal', 'beach', 'bridge','fire_station', 'forest','formal_garden','fountain','ice_skating,'iceberg','lake','market',\n",
        " #          'mountain', 'playground', 'river','rock_arch','ruin', 'skyscraper', 'street', 'temple','tennis_court')\n",
        "\n",
        "\n",
        "\n",
        "\n"
      ],
      "metadata": {
        "id": "exkgfvDEduUD",
        "colab": {
          "base_uri": "https://localhost:8080/"
        },
        "outputId": "9c6519be-5b04-419b-baa5-4e135144da35"
      },
      "execution_count": 4,
      "outputs": [
        {
          "output_type": "stream",
          "name": "stdout",
          "text": [
            "Dataset ImageFolder\n",
            "    Number of datapoints: 6660\n",
            "    Root location: /content/gdrive/MyDrive/Dataset/input_data\n",
            "    StandardTransform\n",
            "Transform: Compose(\n",
            "               Resize(size=(224, 224), interpolation=bilinear, max_size=None, antialias=None)\n",
            "               ToTensor()\n",
            "               Normalize(mean=(0.5, 0.5, 0.5), std=(0.5, 0.5, 0.5))\n",
            "           )\n",
            "5328\n",
            "666\n",
            "666\n"
          ]
        }
      ]
    },
    {
      "cell_type": "markdown",
      "source": [
        "#stampa prova"
      ],
      "metadata": {
        "id": "KLVi4dMe1h48"
      }
    },
    {
      "cell_type": "code",
      "source": [
        "import matplotlib.pyplot as plt\n",
        "import numpy as np\n",
        "\n",
        "# functions to show an image\n",
        "\n",
        "\n",
        "def imshow(img):\n",
        "    img = img / 2 + 0.5     # unnormalize\n",
        "    npimg = img.numpy()\n",
        "    plt.imshow(np.transpose(npimg, (1, 2, 0)))\n",
        "    plt.show()\n",
        "\n",
        "\n",
        "# get some random training images\n",
        "dataiter = iter(train_loader)\n",
        "images, labels = next(dataiter)\n",
        "\n",
        "# show images\n",
        "imshow(torchvision.utils.make_grid(images))\n",
        "# print labels\n",
        "print(' '.join(f'{classes[labels[j]]:5s}' for j in range(b_size)))"
      ],
      "metadata": {
        "id": "zrWb3BZj0F_E"
      },
      "execution_count": null,
      "outputs": []
    },
    {
      "cell_type": "markdown",
      "source": [
        "#Carico resnet50"
      ],
      "metadata": {
        "id": "gE18143K25BF"
      }
    },
    {
      "cell_type": "code",
      "source": [
        "import torch\n",
        "import torch.nn as nn\n",
        "import torch.optim as optim\n",
        "import torchvision.models as models\n",
        "\n",
        "# Load ResNet50 model\n",
        "resnet50 = models.resnet50(weights=None)\n",
        "\n",
        "\n"
      ],
      "metadata": {
        "id": "IRM685tZ9LUT"
      },
      "execution_count": 5,
      "outputs": []
    },
    {
      "cell_type": "markdown",
      "source": [
        "# Prova uso gpu"
      ],
      "metadata": {
        "id": "xGOa5GxR_cRO"
      }
    },
    {
      "cell_type": "code",
      "source": [
        "import torch\n",
        "\n",
        "if torch.cuda.is_available():\n",
        "  device = torch.device(\"cuda\")\n",
        "  print(\"Using GPU:\", torch.cuda.get_device_name(0))\n",
        "else:\n",
        "  device = torch.device(\"cpu\")\n",
        "  print(\"Using CPU\")\n",
        "print(device)\n",
        "\n",
        "# Resnet che corre su device\n",
        "resnet50.to(device)"
      ],
      "metadata": {
        "id": "goUrzNLA2uij"
      },
      "execution_count": null,
      "outputs": []
    },
    {
      "cell_type": "markdown",
      "source": [
        "# Loss e optimizer"
      ],
      "metadata": {
        "id": "slTrTI8E1yrq"
      }
    },
    {
      "cell_type": "code",
      "source": [
        "# Define loss function and optimizer\n",
        "criterion = nn.CrossEntropyLoss()\n",
        "optimizer = optim.SGD(resnet50.parameters(), lr=0.001, momentum=0.9)"
      ],
      "metadata": {
        "id": "iFPd03VD-fSa"
      },
      "execution_count": 7,
      "outputs": []
    },
    {
      "cell_type": "markdown",
      "source": [
        "# Train"
      ],
      "metadata": {
        "id": "XvpIRJcCH_ac"
      }
    },
    {
      "cell_type": "markdown",
      "source": [
        "Inizializzo le liste per raccogliere dati"
      ],
      "metadata": {
        "id": "9sO0aofz8Pbi"
      }
    },
    {
      "cell_type": "code",
      "source": [
        "loss_values = []  # lista vuota per raccogliere i valori della loss function\n",
        "val_loss_values = []"
      ],
      "metadata": {
        "id": "5zxi-Ir88OdH"
      },
      "execution_count": 8,
      "outputs": []
    },
    {
      "cell_type": "markdown",
      "source": [
        "Definisco validation"
      ],
      "metadata": {
        "id": "U47fJ4LW-sF2"
      }
    },
    {
      "cell_type": "code",
      "source": [
        "def validate(model, criterion, validation_loader):\n",
        "    model.eval()\n",
        "    val_loss = 0.0\n",
        "    with torch.no_grad():\n",
        "        for data in validation_loader:\n",
        "            inputs, labels = data[0].to(device), data[1].to(device)\n",
        "            outputs = model(inputs)\n",
        "            loss = criterion(outputs, labels)\n",
        "            val_loss += loss.item()\n",
        "    return val_loss / len(validation_loader)"
      ],
      "metadata": {
        "id": "3HJpwCv--rfT"
      },
      "execution_count": 9,
      "outputs": []
    },
    {
      "cell_type": "markdown",
      "source": [
        "Training"
      ],
      "metadata": {
        "id": "CVwmWQy5-wht"
      }
    },
    {
      "cell_type": "code",
      "source": [
        "num_epochs=20\n",
        "\n",
        "for epoch in range(num_epochs):  # loop over the dataset multiple times\n",
        "\n",
        "    running_loss = 0.0\n",
        "    for i, data in enumerate(train_loader, 0):\n",
        "        # get the inputs; data is a list of [inputs, labels]\n",
        "        #inputs, labels = data\n",
        "\n",
        "        #mandare inputs e a ogni passo alla gpu\n",
        "        inputs, labels = data[0].to(device), data[1].to(device)\n",
        "        # zero the parameter gradients\n",
        "        optimizer.zero_grad()\n",
        "\n",
        "        # forward + backward + optimize\n",
        "        outputs = resnet50(inputs)\n",
        "        loss = criterion(outputs, labels)\n",
        "        loss.backward()\n",
        "        optimizer.step()\n",
        "\n",
        "        # statistica\n",
        "        running_loss += loss.item()\n",
        "        if i % 200 == 199:\n",
        "            # aggiungi il valore della loss alla lista\n",
        "            loss_values.append(running_loss / 200)\n",
        "            val_loss = validate(resnet50, criterion, validation_loader)\n",
        "            val_loss_values.append(val_loss)\n",
        "            print(f'[{epoch + 1},{i + 1:4d}] loss: {running_loss / 200:.3f} val_loss:{val_loss:.3f}')\n",
        "            running_loss = 0.0\n",
        "        \n",
        "print('Finished Training')"
      ],
      "metadata": {
        "id": "4ZcAPUB3adBq",
        "colab": {
          "base_uri": "https://localhost:8080/"
        },
        "outputId": "7f2b5130-a789-4228-c967-72eb02b9fcb9"
      },
      "execution_count": 10,
      "outputs": [
        {
          "output_type": "stream",
          "name": "stdout",
          "text": [
            "[1, 200] loss: 3.366 val_loss:3.080\n",
            "[1, 400] loss: 2.359 val_loss:2.246\n",
            "[1, 600] loss: 2.108 val_loss:1.927\n",
            "[1, 800] loss: 1.957 val_loss:2.246\n",
            "[1,1000] loss: 1.956 val_loss:1.855\n",
            "[2, 200] loss: 1.844 val_loss:1.771\n",
            "[2, 400] loss: 1.757 val_loss:1.553\n",
            "[2, 600] loss: 1.652 val_loss:1.668\n",
            "[2, 800] loss: 1.669 val_loss:1.711\n",
            "[2,1000] loss: 1.583 val_loss:1.498\n",
            "[3, 200] loss: 1.575 val_loss:1.607\n",
            "[3, 400] loss: 1.511 val_loss:1.533\n",
            "[3, 600] loss: 1.452 val_loss:1.690\n",
            "[3, 800] loss: 1.359 val_loss:1.484\n",
            "[3,1000] loss: 1.391 val_loss:1.354\n",
            "[4, 200] loss: 1.342 val_loss:1.347\n",
            "[4, 400] loss: 1.269 val_loss:1.434\n",
            "[4, 600] loss: 1.362 val_loss:1.239\n",
            "[4, 800] loss: 1.227 val_loss:1.240\n",
            "[4,1000] loss: 1.213 val_loss:1.209\n",
            "[5, 200] loss: 1.114 val_loss:1.260\n",
            "[5, 400] loss: 1.176 val_loss:1.309\n",
            "[5, 600] loss: 1.208 val_loss:1.433\n",
            "[5, 800] loss: 1.226 val_loss:1.126\n",
            "[5,1000] loss: 1.052 val_loss:1.106\n",
            "[6, 200] loss: 1.033 val_loss:1.162\n",
            "[6, 400] loss: 1.069 val_loss:0.965\n",
            "[6, 600] loss: 1.021 val_loss:1.068\n",
            "[6, 800] loss: 1.098 val_loss:1.018\n",
            "[6,1000] loss: 1.035 val_loss:1.049\n",
            "[7, 200] loss: 0.999 val_loss:1.073\n",
            "[7, 400] loss: 0.973 val_loss:0.972\n",
            "[7, 600] loss: 0.962 val_loss:1.134\n",
            "[7, 800] loss: 0.954 val_loss:0.995\n",
            "[7,1000] loss: 0.929 val_loss:0.896\n",
            "[8, 200] loss: 0.835 val_loss:1.109\n",
            "[8, 400] loss: 0.934 val_loss:0.899\n",
            "[8, 600] loss: 0.906 val_loss:0.930\n",
            "[8, 800] loss: 0.844 val_loss:0.893\n",
            "[8,1000] loss: 0.923 val_loss:0.929\n",
            "[9, 200] loss: 0.866 val_loss:0.816\n",
            "[9, 400] loss: 0.857 val_loss:0.863\n",
            "[9, 600] loss: 0.798 val_loss:0.881\n",
            "[9, 800] loss: 0.772 val_loss:1.016\n",
            "[9,1000] loss: 0.788 val_loss:0.762\n",
            "[10, 200] loss: 0.710 val_loss:0.863\n",
            "[10, 400] loss: 0.769 val_loss:0.843\n",
            "[10, 600] loss: 0.769 val_loss:0.774\n",
            "[10, 800] loss: 0.761 val_loss:0.899\n",
            "[10,1000] loss: 0.752 val_loss:1.052\n",
            "[11, 200] loss: 0.730 val_loss:0.811\n",
            "[11, 400] loss: 0.695 val_loss:0.871\n",
            "[11, 600] loss: 0.664 val_loss:0.849\n",
            "[11, 800] loss: 0.640 val_loss:0.797\n",
            "[11,1000] loss: 0.673 val_loss:0.791\n",
            "[12, 200] loss: 0.613 val_loss:0.740\n",
            "[12, 400] loss: 0.589 val_loss:0.786\n",
            "[12, 600] loss: 0.654 val_loss:0.807\n",
            "[12, 800] loss: 0.642 val_loss:0.731\n",
            "[12,1000] loss: 0.627 val_loss:0.758\n",
            "[13, 200] loss: 0.545 val_loss:0.724\n",
            "[13, 400] loss: 0.553 val_loss:0.721\n",
            "[13, 600] loss: 0.510 val_loss:0.744\n",
            "[13, 800] loss: 0.602 val_loss:0.811\n",
            "[13,1000] loss: 0.604 val_loss:0.880\n",
            "[14, 200] loss: 0.486 val_loss:0.800\n",
            "[14, 400] loss: 0.542 val_loss:0.792\n",
            "[14, 600] loss: 0.585 val_loss:0.784\n",
            "[14, 800] loss: 0.505 val_loss:0.805\n",
            "[14,1000] loss: 0.528 val_loss:0.862\n",
            "[15, 200] loss: 0.420 val_loss:0.870\n",
            "[15, 400] loss: 0.470 val_loss:0.663\n",
            "[15, 600] loss: 0.465 val_loss:0.760\n",
            "[15, 800] loss: 0.447 val_loss:0.962\n",
            "[15,1000] loss: 0.448 val_loss:0.907\n",
            "[16, 200] loss: 0.374 val_loss:0.760\n",
            "[16, 400] loss: 0.391 val_loss:0.750\n",
            "[16, 600] loss: 0.452 val_loss:0.885\n",
            "[16, 800] loss: 0.402 val_loss:0.736\n",
            "[16,1000] loss: 0.420 val_loss:0.763\n",
            "[17, 200] loss: 0.327 val_loss:0.824\n",
            "[17, 400] loss: 0.378 val_loss:0.675\n",
            "[17, 600] loss: 0.313 val_loss:1.001\n",
            "[17, 800] loss: 0.352 val_loss:0.879\n",
            "[17,1000] loss: 0.398 val_loss:0.845\n",
            "[18, 200] loss: 0.254 val_loss:0.893\n",
            "[18, 400] loss: 0.250 val_loss:0.911\n",
            "[18, 600] loss: 0.324 val_loss:0.759\n",
            "[18, 800] loss: 0.340 val_loss:0.842\n",
            "[18,1000] loss: 0.361 val_loss:0.795\n",
            "[19, 200] loss: 0.233 val_loss:0.943\n",
            "[19, 400] loss: 0.203 val_loss:0.954\n",
            "[19, 600] loss: 0.293 val_loss:0.918\n",
            "[19, 800] loss: 0.366 val_loss:0.768\n",
            "[19,1000] loss: 0.342 val_loss:0.795\n",
            "[20, 200] loss: 0.193 val_loss:1.041\n",
            "[20, 400] loss: 0.233 val_loss:1.028\n",
            "[20, 600] loss: 0.228 val_loss:0.863\n",
            "[20, 800] loss: 0.174 val_loss:0.957\n",
            "[20,1000] loss: 0.267 val_loss:0.815\n",
            "Finished Training\n"
          ]
        }
      ]
    },
    {
      "cell_type": "markdown",
      "source": [
        "# Salvo dati"
      ],
      "metadata": {
        "id": "Cjr4X6WDDago"
      }
    },
    {
      "cell_type": "code",
      "source": [
        "np.save('/content/gdrive/MyDrive/Dataset/SGD_lr001/loss_SGD_lr001.npy', loss_values)\n",
        "np.save('/content/gdrive/MyDrive/Dataset/SGD_lr001/val_SGD_lr001.npy', val_loss_values)"
      ],
      "metadata": {
        "id": "bpMN_tGxDZYn"
      },
      "execution_count": 11,
      "outputs": []
    },
    {
      "cell_type": "markdown",
      "source": [
        "# Carico dati"
      ],
      "metadata": {
        "id": "tbPFJDqRHjL2"
      }
    },
    {
      "cell_type": "code",
      "source": [
        "loss_values = np.load('/content/gdrive/MyDrive/Dataset/loss_SGD_lr001.npy')\n"
      ],
      "metadata": {
        "id": "d3D7IqrrHjg6"
      },
      "execution_count": null,
      "outputs": []
    },
    {
      "cell_type": "markdown",
      "source": [
        "# Stampo loss function"
      ],
      "metadata": {
        "id": "utrwg-_J0ndl"
      }
    },
    {
      "cell_type": "code",
      "source": [
        "# creo grafico lineare\n",
        "plt.plot(loss_values)\n",
        "plt.plot(val_loss_values)\n",
        "\n",
        "# titolo e assi\n",
        "plt.title('Loss/Val Function')\n",
        "plt.xlabel('200Batch')\n",
        "plt.ylabel('Loss')\n",
        "\n",
        "plt.legend(['loss','val_loss'],loc='upper right')\n",
        "\n",
        "plt.show()"
      ],
      "metadata": {
        "colab": {
          "base_uri": "https://localhost:8080/",
          "height": 295
        },
        "id": "UgvH06vG0nzQ",
        "outputId": "b93813d5-be51-44d9-c1b4-531716f5a2e5"
      },
      "execution_count": 12,
      "outputs": [
        {
          "output_type": "display_data",
          "data": {
            "text/plain": [
              "<Figure size 432x288 with 1 Axes>"
            ],
            "image/png": "[encoded data removed]"
          },
          "metadata": {
            "needs_background": "light"
          }
        }
      ]
    },
    {
      "cell_type": "markdown",
      "source": [
        "# Salvo il modello dopo il training"
      ],
      "metadata": {
        "id": "-Yxolou9U1qW"
      }
    },
    {
      "cell_type": "code",
      "source": [
        "PATH = '/content/gdrive/MyDrive/Dataset/SGD_lr001/resnet50lr001.pth'\n",
        "torch.save(resnet50.state_dict(), PATH)"
      ],
      "metadata": {
        "id": "xZ2k8dnJUZA5"
      },
      "execution_count": 16,
      "outputs": []
    },
    {
      "cell_type": "markdown",
      "source": [
        "# Carico modello salvato precedentemente"
      ],
      "metadata": {
        "id": "3aVgGiqXHMLP"
      }
    },
    {
      "cell_type": "code",
      "source": [
        "resnet50 = models.resnet50(weights=None)\n",
        "PATH = '/content/gdrive/MyDrive/Dataset/resnet50.pth'\n",
        "# Carico i pesi salvati precedentemente\n",
        "resnet50.load_state_dict(torch.load(PATH))\n",
        "resnet50.to(device)"
      ],
      "metadata": {
        "id": "1O_wH4PFF9bm"
      },
      "execution_count": null,
      "outputs": []
    },
    {
      "cell_type": "markdown",
      "source": [
        "# Uso modello su test"
      ],
      "metadata": {
        "id": "TBWV-sdyU87w"
      }
    },
    {
      "cell_type": "code",
      "execution_count": 13,
      "metadata": {
        "colab": {
          "base_uri": "https://localhost:8080/"
        },
        "id": "_rBlo09ahpRF",
        "outputId": "0da5a0a5-c5a7-4a06-8491-a117f95f25ea"
      },
      "outputs": [
        {
          "output_type": "stream",
          "name": "stdout",
          "text": [
            "Accuracy of the model on the test images: 74.17%\n"
          ]
        }
      ],
      "source": [
        "\n",
        "correct = 0\n",
        "total = 0\n",
        "with torch.no_grad():\n",
        "    for images, labels in test_loader:\n",
        "        images, labels = images.to(device), labels.to(device)\n",
        "        outputs = resnet50(images)\n",
        "        _, predicted = torch.max(outputs.data, 1)\n",
        "        total += labels.size(0)\n",
        "        correct += (predicted == labels).sum().item()\n",
        "    \n",
        "accuracy = 100 * correct / total\n",
        "print('Accuracy of the model on the test images: {:.2f}%'.format(accuracy))"
      ]
    },
    {
      "cell_type": "markdown",
      "source": [
        "#Classi peggiori e migliori"
      ],
      "metadata": {
        "id": "6X7mytwB0FGW"
      }
    },
    {
      "cell_type": "code",
      "source": [
        "# prepare to count predictions for each class\n",
        "correct_pred = {classname: 0 for classname in classes}\n",
        "total_pred = {classname: 0 for classname in classes}\n",
        "\n",
        "# again no gradients needed\n",
        "with torch.no_grad():\n",
        "    for data in test_loader:\n",
        "       # images, labels = data\n",
        "        images, labels = data[0].to(device), data[1].to(device)\n",
        "        outputs = resnet50(images)\n",
        "        _, predictions = torch.max(outputs, 1)\n",
        "        # collect the correct predictions for each class\n",
        "        for label, prediction in zip(labels, predictions):\n",
        "            if label == prediction:\n",
        "                correct_pred[classes[label]] += 1\n",
        "            total_pred[classes[label]] += 1\n",
        "\n",
        "\n",
        "# print accuracy for each class\n",
        "for classname, correct_count in correct_pred.items():\n",
        "    accuracy = 100 * float(correct_count) / total_pred[classname]\n",
        "    print(f'Accuracy for class: {classname:5s} is {accuracy:.1f} %')"
      ],
      "metadata": {
        "colab": {
          "base_uri": "https://localhost:8080/"
        },
        "id": "nw01na2R0EW9",
        "outputId": "bf55cd95-ab0e-4cbf-e089-1c6fea902186"
      },
      "execution_count": 15,
      "outputs": [
        {
          "output_type": "stream",
          "name": "stdout",
          "text": [
            "Accuracy for class: airport_terminal is 80.7 %\n",
            "Accuracy for class: beach is 79.2 %\n",
            "Accuracy for class: bridge is 64.8 %\n",
            "Accuracy for class: forest is 76.2 %\n",
            "Accuracy for class: mountain is 65.0 %\n",
            "Accuracy for class: playground is 63.3 %\n",
            "Accuracy for class: river is 75.0 %\n",
            "Accuracy for class: skyscraper is 89.6 %\n",
            "Accuracy for class: street is 87.0 %\n",
            "Accuracy for class: temple is 17.6 %\n"
          ]
        }
      ]
    },
    {
      "cell_type": "markdown",
      "source": [
        "# Test con immagini"
      ],
      "metadata": {
        "id": "qeVSZ8V9GRW7"
      }
    },
    {
      "cell_type": "code",
      "source": [
        "dataiter = iter(test_loader)\n",
        "images, labels = next(dataiter)\n",
        "\n",
        "imshow(torchvision.utils.make_grid(images))\n",
        "print('GroundTruth: ', ' '.join(f'{classes[labels[j]]:5s}' for j in range(4)))"
      ],
      "metadata": {
        "colab": {
          "base_uri": "https://localhost:8080/",
          "height": 136
        },
        "id": "2MFuRFeHGp1m",
        "outputId": "1582090e-eef0-455e-9da8-5fa9cf84f9a1"
      },
      "execution_count": null,
      "outputs": [
        {
          "output_type": "display_data",
          "data": {
            "text/plain": [
              "<Figure size 432x288 with 1 Axes>"
            ],
            "image/png": "[encoded data removed]"
          },
          "metadata": {
            "needs_background": "light"
          }
        },
        {
          "output_type": "stream",
          "name": "stdout",
          "text": [
            "GroundTruth:  skyscraper skyscraper bridge bridge\n"
          ]
        }
      ]
    },
    {
      "cell_type": "code",
      "source": [
        "images = images.to(device)\n",
        "outputs = resnet50(images)\n",
        "_, predicted = torch.max(outputs, 1)\n",
        "\n",
        "print('Predicted: ', ' '.join(f'{classes[predicted[j]]:5s}'\n",
        "                              for j in range(4)))"
      ],
      "metadata": {
        "colab": {
          "base_uri": "https://localhost:8080/"
        },
        "id": "kWrZND_pGaUn",
        "outputId": "b519bd76-f6c7-4bec-c0ed-9a61093bec08"
      },
      "execution_count": null,
      "outputs": [
        {
          "output_type": "stream",
          "name": "stdout",
          "text": [
            "Predicted:  skyscraper mountain playground mountain\n"
          ]
        }
      ]
    }
  ],
  "metadata": {
    "colab": {
      "provenance": [],
      "authorship_tag": "ABX9TyOrNXPfQrE3OZHQYjAe25HJ",
      "include_colab_link": true
    },
    "kernelspec": {
      "display_name": "Python 3",
      "name": "python3"
    },
    "language_info": {
      "name": "python"
    },
    "gpuClass": "standard",
    "accelerator": "GPU"
  },
  "nbformat": 4,
  "nbformat_minor": 0
}